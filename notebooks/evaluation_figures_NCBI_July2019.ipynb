{
 "cells": [
  {
   "cell_type": "code",
   "execution_count": 2,
   "metadata": {},
   "outputs": [
    {
     "name": "stdout",
     "output_type": "stream",
     "text": [
      "Populating the interactive namespace from numpy and matplotlib\n"
     ]
    }
   ],
   "source": [
    "%matplotlib inline\n",
    "%pylab inline\n",
    "import pandas as pd\n",
    "import pylab as pl\n",
    "import matplotlib.pyplot as plt\n",
    "import palettable as pal\n",
    "import matplotlib as mpl\n",
    "import seaborn as sns\n",
    "import numpy\n",
    "import pyupset as pyu\n",
    "# mpl.rcParams['font.sans-serif']='Arial'\n",
    "# mpl.rcParams['font.family'] = 'sans-serif'\n",
    "mpl.rcParams['pdf.fonttype'] = 42"
   ]
  },
  {
   "cell_type": "code",
   "execution_count": 3,
   "metadata": {},
   "outputs": [],
   "source": [
    "NCBI_ref= pd.read_csv(\"../evaluation/transrate_reference_trinity_v_Fhet.NCBI_Dec2018.csv\")\n",
    "Trinity_ref = pd.read_csv(\"../evaluation/transrate_reference_Fhet.NCBI_v_trinity_Dec2018.csv\")"
   ]
  },
  {
   "cell_type": "code",
   "execution_count": 4,
   "metadata": {},
   "outputs": [
    {
     "data": {
      "text/html": [
       "<div>\n",
       "<style scoped>\n",
       "    .dataframe tbody tr th:only-of-type {\n",
       "        vertical-align: middle;\n",
       "    }\n",
       "\n",
       "    .dataframe tbody tr th {\n",
       "        vertical-align: top;\n",
       "    }\n",
       "\n",
       "    .dataframe thead th {\n",
       "        text-align: right;\n",
       "    }\n",
       "</style>\n",
       "<table border=\"1\" class=\"dataframe\">\n",
       "  <thead>\n",
       "    <tr style=\"text-align: right;\">\n",
       "      <th></th>\n",
       "      <th>assembly</th>\n",
       "      <th>n_seqs</th>\n",
       "      <th>smallest</th>\n",
       "      <th>largest</th>\n",
       "      <th>n_bases</th>\n",
       "      <th>mean_len</th>\n",
       "      <th>n_under_200</th>\n",
       "      <th>n_over_1k</th>\n",
       "      <th>n_over_10k</th>\n",
       "      <th>n_with_orf</th>\n",
       "      <th>...</th>\n",
       "      <th>cov85</th>\n",
       "      <th>p_cov85</th>\n",
       "      <th>cov95</th>\n",
       "      <th>p_cov95</th>\n",
       "      <th>reference_coverage</th>\n",
       "      <th>score</th>\n",
       "      <th>optimal_score</th>\n",
       "      <th>cutoff</th>\n",
       "      <th>weighted</th>\n",
       "      <th>species</th>\n",
       "    </tr>\n",
       "  </thead>\n",
       "  <tbody>\n",
       "    <tr>\n",
       "      <th>0</th>\n",
       "      <td>/pylon5/bi5fpmp/ljcohen/Fhet_reference_genome/...</td>\n",
       "      <td>41170</td>\n",
       "      <td>86</td>\n",
       "      <td>90562</td>\n",
       "      <td>130236694</td>\n",
       "      <td>3162.74525</td>\n",
       "      <td>167</td>\n",
       "      <td>35862</td>\n",
       "      <td>714</td>\n",
       "      <td>37306</td>\n",
       "      <td>...</td>\n",
       "      <td>4085</td>\n",
       "      <td>0.01242</td>\n",
       "      <td>2496</td>\n",
       "      <td>0.00759</td>\n",
       "      <td>0.04971</td>\n",
       "      <td>NaN</td>\n",
       "      <td>NaN</td>\n",
       "      <td>NaN</td>\n",
       "      <td>NaN</td>\n",
       "      <td>F_chrysotus</td>\n",
       "    </tr>\n",
       "    <tr>\n",
       "      <th>1</th>\n",
       "      <td>/pylon5/bi5fpmp/ljcohen/Fhet_reference_genome/...</td>\n",
       "      <td>41170</td>\n",
       "      <td>86</td>\n",
       "      <td>90562</td>\n",
       "      <td>130236694</td>\n",
       "      <td>3162.74525</td>\n",
       "      <td>167</td>\n",
       "      <td>35862</td>\n",
       "      <td>714</td>\n",
       "      <td>37306</td>\n",
       "      <td>...</td>\n",
       "      <td>4711</td>\n",
       "      <td>0.01587</td>\n",
       "      <td>2931</td>\n",
       "      <td>0.00988</td>\n",
       "      <td>0.06003</td>\n",
       "      <td>NaN</td>\n",
       "      <td>NaN</td>\n",
       "      <td>NaN</td>\n",
       "      <td>NaN</td>\n",
       "      <td>F_olivaceous</td>\n",
       "    </tr>\n",
       "    <tr>\n",
       "      <th>2</th>\n",
       "      <td>/pylon5/bi5fpmp/ljcohen/Fhet_reference_genome/...</td>\n",
       "      <td>41170</td>\n",
       "      <td>86</td>\n",
       "      <td>90562</td>\n",
       "      <td>130236694</td>\n",
       "      <td>3162.74525</td>\n",
       "      <td>167</td>\n",
       "      <td>35862</td>\n",
       "      <td>714</td>\n",
       "      <td>37306</td>\n",
       "      <td>...</td>\n",
       "      <td>5138</td>\n",
       "      <td>0.02233</td>\n",
       "      <td>3536</td>\n",
       "      <td>0.01537</td>\n",
       "      <td>0.07208</td>\n",
       "      <td>NaN</td>\n",
       "      <td>NaN</td>\n",
       "      <td>NaN</td>\n",
       "      <td>NaN</td>\n",
       "      <td>F_zebrinus</td>\n",
       "    </tr>\n",
       "    <tr>\n",
       "      <th>3</th>\n",
       "      <td>/pylon5/bi5fpmp/ljcohen/Fhet_reference_genome/...</td>\n",
       "      <td>41170</td>\n",
       "      <td>86</td>\n",
       "      <td>90562</td>\n",
       "      <td>130236694</td>\n",
       "      <td>3162.74525</td>\n",
       "      <td>167</td>\n",
       "      <td>35862</td>\n",
       "      <td>714</td>\n",
       "      <td>37306</td>\n",
       "      <td>...</td>\n",
       "      <td>6038</td>\n",
       "      <td>0.01093</td>\n",
       "      <td>3873</td>\n",
       "      <td>0.00701</td>\n",
       "      <td>0.04796</td>\n",
       "      <td>NaN</td>\n",
       "      <td>NaN</td>\n",
       "      <td>NaN</td>\n",
       "      <td>NaN</td>\n",
       "      <td>F_heteroclitusMDPP</td>\n",
       "    </tr>\n",
       "    <tr>\n",
       "      <th>4</th>\n",
       "      <td>/pylon5/bi5fpmp/ljcohen/Fhet_reference_genome/...</td>\n",
       "      <td>41170</td>\n",
       "      <td>86</td>\n",
       "      <td>90562</td>\n",
       "      <td>130236694</td>\n",
       "      <td>3162.74525</td>\n",
       "      <td>167</td>\n",
       "      <td>35862</td>\n",
       "      <td>714</td>\n",
       "      <td>37306</td>\n",
       "      <td>...</td>\n",
       "      <td>6418</td>\n",
       "      <td>0.01310</td>\n",
       "      <td>4323</td>\n",
       "      <td>0.00882</td>\n",
       "      <td>0.04797</td>\n",
       "      <td>NaN</td>\n",
       "      <td>NaN</td>\n",
       "      <td>NaN</td>\n",
       "      <td>NaN</td>\n",
       "      <td>F_heteroclitusMDPL</td>\n",
       "    </tr>\n",
       "  </tbody>\n",
       "</table>\n",
       "<p>5 rows × 41 columns</p>\n",
       "</div>"
      ],
      "text/plain": [
       "                                            assembly  n_seqs  smallest  \\\n",
       "0  /pylon5/bi5fpmp/ljcohen/Fhet_reference_genome/...   41170        86   \n",
       "1  /pylon5/bi5fpmp/ljcohen/Fhet_reference_genome/...   41170        86   \n",
       "2  /pylon5/bi5fpmp/ljcohen/Fhet_reference_genome/...   41170        86   \n",
       "3  /pylon5/bi5fpmp/ljcohen/Fhet_reference_genome/...   41170        86   \n",
       "4  /pylon5/bi5fpmp/ljcohen/Fhet_reference_genome/...   41170        86   \n",
       "\n",
       "   largest    n_bases    mean_len  n_under_200  n_over_1k  n_over_10k  \\\n",
       "0    90562  130236694  3162.74525          167      35862         714   \n",
       "1    90562  130236694  3162.74525          167      35862         714   \n",
       "2    90562  130236694  3162.74525          167      35862         714   \n",
       "3    90562  130236694  3162.74525          167      35862         714   \n",
       "4    90562  130236694  3162.74525          167      35862         714   \n",
       "\n",
       "   n_with_orf  ...  cov85  p_cov85  cov95  p_cov95  reference_coverage  score  \\\n",
       "0       37306  ...   4085  0.01242   2496  0.00759             0.04971    NaN   \n",
       "1       37306  ...   4711  0.01587   2931  0.00988             0.06003    NaN   \n",
       "2       37306  ...   5138  0.02233   3536  0.01537             0.07208    NaN   \n",
       "3       37306  ...   6038  0.01093   3873  0.00701             0.04796    NaN   \n",
       "4       37306  ...   6418  0.01310   4323  0.00882             0.04797    NaN   \n",
       "\n",
       "   optimal_score  cutoff  weighted             species  \n",
       "0            NaN     NaN       NaN         F_chrysotus  \n",
       "1            NaN     NaN       NaN        F_olivaceous  \n",
       "2            NaN     NaN       NaN          F_zebrinus  \n",
       "3            NaN     NaN       NaN  F_heteroclitusMDPP  \n",
       "4            NaN     NaN       NaN  F_heteroclitusMDPL  \n",
       "\n",
       "[5 rows x 41 columns]"
      ]
     },
     "execution_count": 4,
     "metadata": {},
     "output_type": "execute_result"
    }
   ],
   "source": [
    "Trinity_ref.head()"
   ]
  },
  {
   "cell_type": "code",
   "execution_count": 54,
   "metadata": {},
   "outputs": [],
   "source": [
    "NCBI_v_Trinity = Trinity_ref[['species','n_contigs_with_CRBB','n_refs_with_CRBB']]\n",
    "NCBI_v_Trinity = NCBI_v_Trinity.assign(Reference_Assembly=\"Trinity\")"
   ]
  },
  {
   "cell_type": "code",
   "execution_count": 55,
   "metadata": {},
   "outputs": [],
   "source": [
    "Trinity_v_NCBI = NCBI_ref[['species','n_contigs_with_CRBB','n_refs_with_CRBB']]\n",
    "Trinity_v_NCBI = Trinity_v_NCBI.assign(Reference_Assembly=\"NCBI\")"
   ]
  },
  {
   "cell_type": "code",
   "execution_count": 56,
   "metadata": {},
   "outputs": [],
   "source": [
    "contigs = pd.concat([Trinity_v_NCBI,NCBI_v_Trinity],ignore_index=True)"
   ]
  },
  {
   "cell_type": "code",
   "execution_count": 57,
   "metadata": {},
   "outputs": [
    {
     "data": {
      "text/html": [
       "<div>\n",
       "<style scoped>\n",
       "    .dataframe tbody tr th:only-of-type {\n",
       "        vertical-align: middle;\n",
       "    }\n",
       "\n",
       "    .dataframe tbody tr th {\n",
       "        vertical-align: top;\n",
       "    }\n",
       "\n",
       "    .dataframe thead th {\n",
       "        text-align: right;\n",
       "    }\n",
       "</style>\n",
       "<table border=\"1\" class=\"dataframe\">\n",
       "  <thead>\n",
       "    <tr style=\"text-align: right;\">\n",
       "      <th></th>\n",
       "      <th>species</th>\n",
       "      <th>n_contigs_with_CRBB</th>\n",
       "      <th>n_refs_with_CRBB</th>\n",
       "      <th>Reference_Assembly</th>\n",
       "    </tr>\n",
       "  </thead>\n",
       "  <tbody>\n",
       "    <tr>\n",
       "      <th>0</th>\n",
       "      <td>F_chrysotus</td>\n",
       "      <td>112067</td>\n",
       "      <td>22050</td>\n",
       "      <td>NCBI</td>\n",
       "    </tr>\n",
       "    <tr>\n",
       "      <th>1</th>\n",
       "      <td>F_olivaceous</td>\n",
       "      <td>116192</td>\n",
       "      <td>27711</td>\n",
       "      <td>NCBI</td>\n",
       "    </tr>\n",
       "    <tr>\n",
       "      <th>2</th>\n",
       "      <td>F_zebrinus</td>\n",
       "      <td>99582</td>\n",
       "      <td>25760</td>\n",
       "      <td>NCBI</td>\n",
       "    </tr>\n",
       "    <tr>\n",
       "      <th>3</th>\n",
       "      <td>F_heteroclitusMDPP</td>\n",
       "      <td>111184</td>\n",
       "      <td>18761</td>\n",
       "      <td>NCBI</td>\n",
       "    </tr>\n",
       "    <tr>\n",
       "      <th>4</th>\n",
       "      <td>F_heteroclitusMDPL</td>\n",
       "      <td>178172</td>\n",
       "      <td>30354</td>\n",
       "      <td>NCBI</td>\n",
       "    </tr>\n",
       "  </tbody>\n",
       "</table>\n",
       "</div>"
      ],
      "text/plain": [
       "              species  n_contigs_with_CRBB  n_refs_with_CRBB  \\\n",
       "0         F_chrysotus               112067             22050   \n",
       "1        F_olivaceous               116192             27711   \n",
       "2          F_zebrinus                99582             25760   \n",
       "3  F_heteroclitusMDPP               111184             18761   \n",
       "4  F_heteroclitusMDPL               178172             30354   \n",
       "\n",
       "  Reference_Assembly  \n",
       "0               NCBI  \n",
       "1               NCBI  \n",
       "2               NCBI  \n",
       "3               NCBI  \n",
       "4               NCBI  "
      ]
     },
     "execution_count": 57,
     "metadata": {},
     "output_type": "execute_result"
    }
   ],
   "source": [
    "contigs.head()"
   ]
  },
  {
   "cell_type": "code",
   "execution_count": 83,
   "metadata": {},
   "outputs": [
    {
     "data": {
      "image/png": "[encoded data removed]",
      "text/plain": [
       "<Figure size 432x288 with 1 Axes>"
      ]
     },
     "metadata": {},
     "output_type": "display_data"
    }
   ],
   "source": [
    "sns.set(style=\"white\")\n",
    "# Draw a nested violinplot and split the violins for easier comparison\n",
    "ax = sns.violinplot(x=\"Reference_Assembly\", y=\"n_contigs_with_CRBB\",\n",
    "               split=True,color=\"green\",\n",
    "               data=contigs);\n",
    "sns.despine(right=True)\n",
    "ax.set(xlabel='Reference Assembly', ylabel='N query contigs with CRBB')\n",
    "savefig('n_contigs.png',bbox_inches=\"tight\", dpi=300)"
   ]
  },
  {
   "cell_type": "code",
   "execution_count": 84,
   "metadata": {},
   "outputs": [
    {
     "data": {
      "image/png": "[encoded data removed]",
      "text/plain": [
       "<Figure size 432x288 with 1 Axes>"
      ]
     },
     "metadata": {},
     "output_type": "display_data"
    }
   ],
   "source": [
    "sns.set(style=\"white\")\n",
    "# Draw a nested violinplot and split the violins for easier comparison\n",
    "ax = sns.violinplot(x=\"Reference_Assembly\", y=\"n_refs_with_CRBB\",\n",
    "               split=True,color=\"green\",\n",
    "               data=contigs);\n",
    "sns.despine(right=True)\n",
    "ax.set(xlabel='Reference Assembly', ylabel='N ref contigs with CRBB')\n",
    "savefig('n_refs.png',bbox_inches=\"tight\", dpi=300)"
   ]
  },
  {
   "cell_type": "code",
   "execution_count": null,
   "metadata": {},
   "outputs": [],
   "source": []
  }
 ],
 "metadata": {
  "anaconda-cloud": {},
  "kernelspec": {
   "display_name": "Python 3",
   "language": "python",
   "name": "python3"
  },
  "language_info": {
   "codemirror_mode": {
    "name": "ipython",
    "version": 3
   },
   "file_extension": ".py",
   "mimetype": "text/x-python",
   "name": "python",
   "nbconvert_exporter": "python",
   "pygments_lexer": "ipython3",
   "version": "3.7.1"
  }
 },
 "nbformat": 4,
 "nbformat_minor": 1
}
