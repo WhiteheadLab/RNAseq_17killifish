{
 "cells": [
  {
   "cell_type": "code",
   "execution_count": 6,
   "metadata": {},
   "outputs": [],
   "source": [
    "import os\n",
    "import pandas as pd\n",
    "import numpy as np\n",
    "import matplotlib.pyplot as plt\n",
    "import seaborn as sns"
   ]
  },
  {
   "cell_type": "code",
   "execution_count": 7,
   "metadata": {},
   "outputs": [],
   "source": [
    "alignment_rate_dir = \"/Users/johnsolk/Documents/UCDavis/Whitehead/RNAseq_15killifish/evaluation/alignment_rates_comparison/\"\n",
    "alignment_rate_files = os.listdir(alignment_rate_dir)"
   ]
  },
  {
   "cell_type": "code",
   "execution_count": 8,
   "metadata": {},
   "outputs": [
    {
     "data": {
      "text/plain": [
       "['STAR_genome_alignmentrates',\n",
       " 'hisat2_genome_alignmentrate',\n",
       " 'bwa_genome_alignmentrates',\n",
       " 'bwa_transcriptome_alignmentrates',\n",
       " 'salmon_Fhet_alignrates']"
      ]
     },
     "execution_count": 8,
     "metadata": {},
     "output_type": "execute_result"
    }
   ],
   "source": [
    "alignment_rate_files"
   ]
  },
  {
   "cell_type": "markdown",
   "metadata": {},
   "source": [
    "# salmon"
   ]
  },
  {
   "cell_type": "code",
   "execution_count": 9,
   "metadata": {},
   "outputs": [
    {
     "name": "stderr",
     "output_type": "stream",
     "text": [
      "/Users/johnsolk/anaconda3/envs/jupyterpy3/lib/python3.7/site-packages/ipykernel_launcher.py:5: SettingWithCopyWarning: \n",
      "A value is trying to be set on a copy of a slice from a DataFrame.\n",
      "Try using .loc[row_indexer,col_indexer] = value instead\n",
      "\n",
      "See the caveats in the documentation: http://pandas.pydata.org/pandas-docs/stable/indexing.html#indexing-view-versus-copy\n",
      "  \"\"\"\n",
      "/Users/johnsolk/anaconda3/envs/jupyterpy3/lib/python3.7/site-packages/ipykernel_launcher.py:6: SettingWithCopyWarning: \n",
      "A value is trying to be set on a copy of a slice from a DataFrame.\n",
      "Try using .loc[row_indexer,col_indexer] = value instead\n",
      "\n",
      "See the caveats in the documentation: http://pandas.pydata.org/pandas-docs/stable/indexing.html#indexing-view-versus-copy\n",
      "  \n"
     ]
    }
   ],
   "source": [
    "salmon_file = alignment_rate_dir + \"salmon_Fhet_alignrates\"\n",
    "salmon_data = pd.read_csv(salmon_file,sep=\" \",header=None)\n",
    "rate = salmon_data[[0,7]]\n",
    "rate.columns = ['sample_info','perc_info']\n",
    "rate['salmon_alignment_rate'] = rate.perc_info.str.split('%',n=1,expand=True)[0]\n",
    "rate['sample'] = rate.sample_info.str.split(\"/\",n=2,expand=True)[1]\n",
    "df = rate[['sample','salmon_alignment_rate']]\n",
    "df = df.drop_duplicates(subset='sample', keep='first', inplace=False)\n",
    "df[['genus','species1','other1','other2']] = df['sample'].str.split('_',expand=True)\n",
    "df[\"species\"] = df[\"genus\"] + \"_\" + df[\"species1\"]\n",
    "df = df[['sample','species','salmon_alignment_rate']]\n",
    "df[['salmon_alignment_rate']] = df[['salmon_alignment_rate']].astype('float')"
   ]
  },
  {
   "cell_type": "code",
   "execution_count": 205,
   "metadata": {},
   "outputs": [],
   "source": [
    "arranged_x = ['F_heteroclitusMDPL','F_heteroclitusMDPP','F_grandis',\n",
    "              'F_diaphanus','F_rathbuni','F_catanatus','F_similis',\n",
    "              'F_notti','F_sciadicus','F_notatus','F_olivaceous',\n",
    "              'F_chrysotus','A_xenica','F_zebrinus','F_parvapinis','L_parva','L_goodei']"
   ]
  },
  {
   "cell_type": "code",
   "execution_count": 11,
   "metadata": {},
   "outputs": [],
   "source": [
    "df.species=pd.Categorical(df.species,categories=arranged_x)"
   ]
  },
  {
   "cell_type": "code",
   "execution_count": 220,
   "metadata": {},
   "outputs": [],
   "source": [
    "df_salmon = df"
   ]
  },
  {
   "cell_type": "code",
   "execution_count": 221,
   "metadata": {},
   "outputs": [
    {
     "data": {
      "image/png": "[encoded data removed]",
      "text/plain": [
       "<Figure size 360x360 with 1 Axes>"
      ]
     },
     "metadata": {
      "needs_background": "light"
     },
     "output_type": "display_data"
    }
   ],
   "source": [
    "sns.catplot(x=\"species\", y=\"salmon_alignment_rate\", jitter=False, data=df_salmon);\n",
    "plt.xticks(rotation=90);"
   ]
  },
  {
   "cell_type": "code",
   "execution_count": 13,
   "metadata": {},
   "outputs": [
    {
     "data": {
      "text/html": [
       "<div>\n",
       "<style scoped>\n",
       "    .dataframe tbody tr th:only-of-type {\n",
       "        vertical-align: middle;\n",
       "    }\n",
       "\n",
       "    .dataframe tbody tr th {\n",
       "        vertical-align: top;\n",
       "    }\n",
       "\n",
       "    .dataframe thead th {\n",
       "        text-align: right;\n",
       "    }\n",
       "</style>\n",
       "<table border=\"1\" class=\"dataframe\">\n",
       "  <thead>\n",
       "    <tr style=\"text-align: right;\">\n",
       "      <th></th>\n",
       "      <th>sample</th>\n",
       "      <th>species</th>\n",
       "      <th>salmon_alignment_rate</th>\n",
       "    </tr>\n",
       "  </thead>\n",
       "  <tbody>\n",
       "    <tr>\n",
       "      <th>0</th>\n",
       "      <td>F_catanatus_BW_2.quant</td>\n",
       "      <td>F_catanatus</td>\n",
       "      <td>61.0485</td>\n",
       "    </tr>\n",
       "    <tr>\n",
       "      <th>2</th>\n",
       "      <td>F_grandis_BW_1.quant</td>\n",
       "      <td>F_grandis</td>\n",
       "      <td>64.8640</td>\n",
       "    </tr>\n",
       "    <tr>\n",
       "      <th>4</th>\n",
       "      <td>F_parvapinis_BW_2.quant</td>\n",
       "      <td>F_parvapinis</td>\n",
       "      <td>44.5263</td>\n",
       "    </tr>\n",
       "    <tr>\n",
       "      <th>6</th>\n",
       "      <td>L_parva_FW_1.quant</td>\n",
       "      <td>L_parva</td>\n",
       "      <td>45.4292</td>\n",
       "    </tr>\n",
       "    <tr>\n",
       "      <th>8</th>\n",
       "      <td>F_diaphanus_BW_1.quant</td>\n",
       "      <td>F_diaphanus</td>\n",
       "      <td>59.0670</td>\n",
       "    </tr>\n",
       "  </tbody>\n",
       "</table>\n",
       "</div>"
      ],
      "text/plain": [
       "                    sample       species  salmon_alignment_rate\n",
       "0   F_catanatus_BW_2.quant   F_catanatus                61.0485\n",
       "2     F_grandis_BW_1.quant     F_grandis                64.8640\n",
       "4  F_parvapinis_BW_2.quant  F_parvapinis                44.5263\n",
       "6       L_parva_FW_1.quant       L_parva                45.4292\n",
       "8   F_diaphanus_BW_1.quant   F_diaphanus                59.0670"
      ]
     },
     "execution_count": 13,
     "metadata": {},
     "output_type": "execute_result"
    }
   ],
   "source": [
    "df.head()"
   ]
  },
  {
   "cell_type": "markdown",
   "metadata": {},
   "source": [
    "# hisat2"
   ]
  },
  {
   "cell_type": "code",
   "execution_count": null,
   "metadata": {},
   "outputs": [],
   "source": [
    "# I know the files are labeled STAR, this was a typo in my script that named all my jobs with \"STAR\" prior to running on hpc"
   ]
  },
  {
   "cell_type": "code",
   "execution_count": 247,
   "metadata": {},
   "outputs": [],
   "source": [
    "hisat2_file = alignment_rate_dir + \"hisat2_genome_alignmentrate\"\n",
    "hisat2_data = pd.read_csv(hisat2_file,sep=\" \",header=None)"
   ]
  },
  {
   "cell_type": "code",
   "execution_count": 248,
   "metadata": {},
   "outputs": [
    {
     "data": {
      "text/html": [
       "<div>\n",
       "<style scoped>\n",
       "    .dataframe tbody tr th:only-of-type {\n",
       "        vertical-align: middle;\n",
       "    }\n",
       "\n",
       "    .dataframe tbody tr th {\n",
       "        vertical-align: top;\n",
       "    }\n",
       "\n",
       "    .dataframe thead th {\n",
       "        text-align: right;\n",
       "    }\n",
       "</style>\n",
       "<table border=\"1\" class=\"dataframe\">\n",
       "  <thead>\n",
       "    <tr style=\"text-align: right;\">\n",
       "      <th></th>\n",
       "      <th>0</th>\n",
       "      <th>1</th>\n",
       "      <th>2</th>\n",
       "      <th>3</th>\n",
       "    </tr>\n",
       "  </thead>\n",
       "  <tbody>\n",
       "    <tr>\n",
       "      <th>0</th>\n",
       "      <td>./star_F_rathbuni_FW_2-4703297.o:49.42%</td>\n",
       "      <td>overall</td>\n",
       "      <td>alignment</td>\n",
       "      <td>rate</td>\n",
       "    </tr>\n",
       "    <tr>\n",
       "      <th>1</th>\n",
       "      <td>./star_F_similis_FW_3-4703336.o:39.78%</td>\n",
       "      <td>overall</td>\n",
       "      <td>alignment</td>\n",
       "      <td>rate</td>\n",
       "    </tr>\n",
       "    <tr>\n",
       "      <th>2</th>\n",
       "      <td>./star_F_chrysotus_transfer_1-4703358.o:32.71%</td>\n",
       "      <td>overall</td>\n",
       "      <td>alignment</td>\n",
       "      <td>rate</td>\n",
       "    </tr>\n",
       "    <tr>\n",
       "      <th>3</th>\n",
       "      <td>./star_F_sciadicus_transfer_1-4703312.o:34.77%</td>\n",
       "      <td>overall</td>\n",
       "      <td>alignment</td>\n",
       "      <td>rate</td>\n",
       "    </tr>\n",
       "    <tr>\n",
       "      <th>4</th>\n",
       "      <td>./star_L_goodei_BW_1-4703309.o:29.74%</td>\n",
       "      <td>overall</td>\n",
       "      <td>alignment</td>\n",
       "      <td>rate</td>\n",
       "    </tr>\n",
       "  </tbody>\n",
       "</table>\n",
       "</div>"
      ],
      "text/plain": [
       "                                                0        1          2     3\n",
       "0         ./star_F_rathbuni_FW_2-4703297.o:49.42%  overall  alignment  rate\n",
       "1          ./star_F_similis_FW_3-4703336.o:39.78%  overall  alignment  rate\n",
       "2  ./star_F_chrysotus_transfer_1-4703358.o:32.71%  overall  alignment  rate\n",
       "3  ./star_F_sciadicus_transfer_1-4703312.o:34.77%  overall  alignment  rate\n",
       "4           ./star_L_goodei_BW_1-4703309.o:29.74%  overall  alignment  rate"
      ]
     },
     "execution_count": 248,
     "metadata": {},
     "output_type": "execute_result"
    }
   ],
   "source": [
    "hisat2_data.head()"
   ]
  },
  {
   "cell_type": "code",
   "execution_count": 249,
   "metadata": {},
   "outputs": [
    {
     "name": "stderr",
     "output_type": "stream",
     "text": [
      "/Users/johnsolk/anaconda3/envs/jupyterpy3/lib/python3.7/site-packages/ipykernel_launcher.py:3: SettingWithCopyWarning: \n",
      "A value is trying to be set on a copy of a slice from a DataFrame.\n",
      "Try using .loc[row_indexer,col_indexer] = value instead\n",
      "\n",
      "See the caveats in the documentation: http://pandas.pydata.org/pandas-docs/stable/indexing.html#indexing-view-versus-copy\n",
      "  This is separate from the ipykernel package so we can avoid doing imports until\n",
      "/Users/johnsolk/anaconda3/envs/jupyterpy3/lib/python3.7/site-packages/ipykernel_launcher.py:4: SettingWithCopyWarning: \n",
      "A value is trying to be set on a copy of a slice from a DataFrame.\n",
      "Try using .loc[row_indexer,col_indexer] = value instead\n",
      "\n",
      "See the caveats in the documentation: http://pandas.pydata.org/pandas-docs/stable/indexing.html#indexing-view-versus-copy\n",
      "  after removing the cwd from sys.path.\n"
     ]
    }
   ],
   "source": [
    "rate = hisat2_data[[0]]\n",
    "rate.columns = ['sample_info']\n",
    "rate['hisat2_alignment_rate'] = rate.sample_info.str.split(':',n=1,expand=True)[1]\n",
    "rate['samples'] = rate.sample_info.str.split(\":\",n=1,expand=True)[0]"
   ]
  },
  {
   "cell_type": "code",
   "execution_count": 250,
   "metadata": {},
   "outputs": [
    {
     "data": {
      "text/html": [
       "<div>\n",
       "<style scoped>\n",
       "    .dataframe tbody tr th:only-of-type {\n",
       "        vertical-align: middle;\n",
       "    }\n",
       "\n",
       "    .dataframe tbody tr th {\n",
       "        vertical-align: top;\n",
       "    }\n",
       "\n",
       "    .dataframe thead th {\n",
       "        text-align: right;\n",
       "    }\n",
       "</style>\n",
       "<table border=\"1\" class=\"dataframe\">\n",
       "  <thead>\n",
       "    <tr style=\"text-align: right;\">\n",
       "      <th></th>\n",
       "      <th>sample_info</th>\n",
       "      <th>hisat2_alignment_rate</th>\n",
       "      <th>samples</th>\n",
       "    </tr>\n",
       "  </thead>\n",
       "  <tbody>\n",
       "    <tr>\n",
       "      <th>0</th>\n",
       "      <td>./star_F_rathbuni_FW_2-4703297.o:49.42%</td>\n",
       "      <td>49.42%</td>\n",
       "      <td>./star_F_rathbuni_FW_2-4703297.o</td>\n",
       "    </tr>\n",
       "    <tr>\n",
       "      <th>1</th>\n",
       "      <td>./star_F_similis_FW_3-4703336.o:39.78%</td>\n",
       "      <td>39.78%</td>\n",
       "      <td>./star_F_similis_FW_3-4703336.o</td>\n",
       "    </tr>\n",
       "    <tr>\n",
       "      <th>2</th>\n",
       "      <td>./star_F_chrysotus_transfer_1-4703358.o:32.71%</td>\n",
       "      <td>32.71%</td>\n",
       "      <td>./star_F_chrysotus_transfer_1-4703358.o</td>\n",
       "    </tr>\n",
       "    <tr>\n",
       "      <th>3</th>\n",
       "      <td>./star_F_sciadicus_transfer_1-4703312.o:34.77%</td>\n",
       "      <td>34.77%</td>\n",
       "      <td>./star_F_sciadicus_transfer_1-4703312.o</td>\n",
       "    </tr>\n",
       "    <tr>\n",
       "      <th>4</th>\n",
       "      <td>./star_L_goodei_BW_1-4703309.o:29.74%</td>\n",
       "      <td>29.74%</td>\n",
       "      <td>./star_L_goodei_BW_1-4703309.o</td>\n",
       "    </tr>\n",
       "  </tbody>\n",
       "</table>\n",
       "</div>"
      ],
      "text/plain": [
       "                                      sample_info hisat2_alignment_rate  \\\n",
       "0         ./star_F_rathbuni_FW_2-4703297.o:49.42%                49.42%   \n",
       "1          ./star_F_similis_FW_3-4703336.o:39.78%                39.78%   \n",
       "2  ./star_F_chrysotus_transfer_1-4703358.o:32.71%                32.71%   \n",
       "3  ./star_F_sciadicus_transfer_1-4703312.o:34.77%                34.77%   \n",
       "4           ./star_L_goodei_BW_1-4703309.o:29.74%                29.74%   \n",
       "\n",
       "                                   samples  \n",
       "0         ./star_F_rathbuni_FW_2-4703297.o  \n",
       "1          ./star_F_similis_FW_3-4703336.o  \n",
       "2  ./star_F_chrysotus_transfer_1-4703358.o  \n",
       "3  ./star_F_sciadicus_transfer_1-4703312.o  \n",
       "4           ./star_L_goodei_BW_1-4703309.o  "
      ]
     },
     "execution_count": 250,
     "metadata": {},
     "output_type": "execute_result"
    }
   ],
   "source": [
    "rate.head()"
   ]
  },
  {
   "cell_type": "code",
   "execution_count": 251,
   "metadata": {},
   "outputs": [],
   "source": [
    "rate['sample'] = rate.samples.str.split(\"/\",n=2,expand=True)[1]"
   ]
  },
  {
   "cell_type": "code",
   "execution_count": 252,
   "metadata": {},
   "outputs": [],
   "source": [
    "rate[['star','genus','species1','condition','other1']] = rate['sample'].str.split('_',expand=True)"
   ]
  },
  {
   "cell_type": "code",
   "execution_count": 253,
   "metadata": {},
   "outputs": [],
   "source": [
    "rate[\"species\"] = rate[\"genus\"] + \"_\" + rate[\"species1\"]"
   ]
  },
  {
   "cell_type": "code",
   "execution_count": 254,
   "metadata": {},
   "outputs": [],
   "source": [
    "rate['replicate'] = rate['genus'] + \"_\" + rate['species1'] + \"_\" + rate['condition'] + \"_\" + rate['other1'].str.split(\"-\",expand=True)[0]"
   ]
  },
  {
   "cell_type": "code",
   "execution_count": 255,
   "metadata": {},
   "outputs": [],
   "source": [
    "rate['alignment_rate'] = rate['hisat2_alignment_rate'].str.split(\"%\",expand=True)[0]"
   ]
  },
  {
   "cell_type": "code",
   "execution_count": 256,
   "metadata": {},
   "outputs": [
    {
     "data": {
      "text/html": [
       "<div>\n",
       "<style scoped>\n",
       "    .dataframe tbody tr th:only-of-type {\n",
       "        vertical-align: middle;\n",
       "    }\n",
       "\n",
       "    .dataframe tbody tr th {\n",
       "        vertical-align: top;\n",
       "    }\n",
       "\n",
       "    .dataframe thead th {\n",
       "        text-align: right;\n",
       "    }\n",
       "</style>\n",
       "<table border=\"1\" class=\"dataframe\">\n",
       "  <thead>\n",
       "    <tr style=\"text-align: right;\">\n",
       "      <th></th>\n",
       "      <th>sample_info</th>\n",
       "      <th>hisat2_alignment_rate</th>\n",
       "      <th>samples</th>\n",
       "      <th>sample</th>\n",
       "      <th>star</th>\n",
       "      <th>genus</th>\n",
       "      <th>species1</th>\n",
       "      <th>condition</th>\n",
       "      <th>other1</th>\n",
       "      <th>species</th>\n",
       "      <th>replicate</th>\n",
       "      <th>alignment_rate</th>\n",
       "    </tr>\n",
       "  </thead>\n",
       "  <tbody>\n",
       "    <tr>\n",
       "      <th>0</th>\n",
       "      <td>./star_F_rathbuni_FW_2-4703297.o:49.42%</td>\n",
       "      <td>49.42%</td>\n",
       "      <td>./star_F_rathbuni_FW_2-4703297.o</td>\n",
       "      <td>star_F_rathbuni_FW_2-4703297.o</td>\n",
       "      <td>star</td>\n",
       "      <td>F</td>\n",
       "      <td>rathbuni</td>\n",
       "      <td>FW</td>\n",
       "      <td>2-4703297.o</td>\n",
       "      <td>F_rathbuni</td>\n",
       "      <td>F_rathbuni_FW_2</td>\n",
       "      <td>49.42</td>\n",
       "    </tr>\n",
       "    <tr>\n",
       "      <th>1</th>\n",
       "      <td>./star_F_similis_FW_3-4703336.o:39.78%</td>\n",
       "      <td>39.78%</td>\n",
       "      <td>./star_F_similis_FW_3-4703336.o</td>\n",
       "      <td>star_F_similis_FW_3-4703336.o</td>\n",
       "      <td>star</td>\n",
       "      <td>F</td>\n",
       "      <td>similis</td>\n",
       "      <td>FW</td>\n",
       "      <td>3-4703336.o</td>\n",
       "      <td>F_similis</td>\n",
       "      <td>F_similis_FW_3</td>\n",
       "      <td>39.78</td>\n",
       "    </tr>\n",
       "    <tr>\n",
       "      <th>2</th>\n",
       "      <td>./star_F_chrysotus_transfer_1-4703358.o:32.71%</td>\n",
       "      <td>32.71%</td>\n",
       "      <td>./star_F_chrysotus_transfer_1-4703358.o</td>\n",
       "      <td>star_F_chrysotus_transfer_1-4703358.o</td>\n",
       "      <td>star</td>\n",
       "      <td>F</td>\n",
       "      <td>chrysotus</td>\n",
       "      <td>transfer</td>\n",
       "      <td>1-4703358.o</td>\n",
       "      <td>F_chrysotus</td>\n",
       "      <td>F_chrysotus_transfer_1</td>\n",
       "      <td>32.71</td>\n",
       "    </tr>\n",
       "    <tr>\n",
       "      <th>3</th>\n",
       "      <td>./star_F_sciadicus_transfer_1-4703312.o:34.77%</td>\n",
       "      <td>34.77%</td>\n",
       "      <td>./star_F_sciadicus_transfer_1-4703312.o</td>\n",
       "      <td>star_F_sciadicus_transfer_1-4703312.o</td>\n",
       "      <td>star</td>\n",
       "      <td>F</td>\n",
       "      <td>sciadicus</td>\n",
       "      <td>transfer</td>\n",
       "      <td>1-4703312.o</td>\n",
       "      <td>F_sciadicus</td>\n",
       "      <td>F_sciadicus_transfer_1</td>\n",
       "      <td>34.77</td>\n",
       "    </tr>\n",
       "    <tr>\n",
       "      <th>4</th>\n",
       "      <td>./star_L_goodei_BW_1-4703309.o:29.74%</td>\n",
       "      <td>29.74%</td>\n",
       "      <td>./star_L_goodei_BW_1-4703309.o</td>\n",
       "      <td>star_L_goodei_BW_1-4703309.o</td>\n",
       "      <td>star</td>\n",
       "      <td>L</td>\n",
       "      <td>goodei</td>\n",
       "      <td>BW</td>\n",
       "      <td>1-4703309.o</td>\n",
       "      <td>L_goodei</td>\n",
       "      <td>L_goodei_BW_1</td>\n",
       "      <td>29.74</td>\n",
       "    </tr>\n",
       "  </tbody>\n",
       "</table>\n",
       "</div>"
      ],
      "text/plain": [
       "                                      sample_info hisat2_alignment_rate  \\\n",
       "0         ./star_F_rathbuni_FW_2-4703297.o:49.42%                49.42%   \n",
       "1          ./star_F_similis_FW_3-4703336.o:39.78%                39.78%   \n",
       "2  ./star_F_chrysotus_transfer_1-4703358.o:32.71%                32.71%   \n",
       "3  ./star_F_sciadicus_transfer_1-4703312.o:34.77%                34.77%   \n",
       "4           ./star_L_goodei_BW_1-4703309.o:29.74%                29.74%   \n",
       "\n",
       "                                   samples  \\\n",
       "0         ./star_F_rathbuni_FW_2-4703297.o   \n",
       "1          ./star_F_similis_FW_3-4703336.o   \n",
       "2  ./star_F_chrysotus_transfer_1-4703358.o   \n",
       "3  ./star_F_sciadicus_transfer_1-4703312.o   \n",
       "4           ./star_L_goodei_BW_1-4703309.o   \n",
       "\n",
       "                                  sample  star genus   species1 condition  \\\n",
       "0         star_F_rathbuni_FW_2-4703297.o  star     F   rathbuni        FW   \n",
       "1          star_F_similis_FW_3-4703336.o  star     F    similis        FW   \n",
       "2  star_F_chrysotus_transfer_1-4703358.o  star     F  chrysotus  transfer   \n",
       "3  star_F_sciadicus_transfer_1-4703312.o  star     F  sciadicus  transfer   \n",
       "4           star_L_goodei_BW_1-4703309.o  star     L     goodei        BW   \n",
       "\n",
       "        other1      species               replicate alignment_rate  \n",
       "0  2-4703297.o   F_rathbuni         F_rathbuni_FW_2          49.42  \n",
       "1  3-4703336.o    F_similis          F_similis_FW_3          39.78  \n",
       "2  1-4703358.o  F_chrysotus  F_chrysotus_transfer_1          32.71  \n",
       "3  1-4703312.o  F_sciadicus  F_sciadicus_transfer_1          34.77  \n",
       "4  1-4703309.o     L_goodei           L_goodei_BW_1          29.74  "
      ]
     },
     "execution_count": 256,
     "metadata": {},
     "output_type": "execute_result"
    }
   ],
   "source": [
    "rate.head()"
   ]
  },
  {
   "cell_type": "code",
   "execution_count": 257,
   "metadata": {},
   "outputs": [],
   "source": [
    "rate = rate[['replicate','species','alignment_rate']]"
   ]
  },
  {
   "cell_type": "code",
   "execution_count": 258,
   "metadata": {},
   "outputs": [],
   "source": [
    "rate[['alignment_rate']] = rate[['alignment_rate']].astype('float')"
   ]
  },
  {
   "cell_type": "code",
   "execution_count": 259,
   "metadata": {},
   "outputs": [
    {
     "data": {
      "text/html": [
       "<div>\n",
       "<style scoped>\n",
       "    .dataframe tbody tr th:only-of-type {\n",
       "        vertical-align: middle;\n",
       "    }\n",
       "\n",
       "    .dataframe tbody tr th {\n",
       "        vertical-align: top;\n",
       "    }\n",
       "\n",
       "    .dataframe thead th {\n",
       "        text-align: right;\n",
       "    }\n",
       "</style>\n",
       "<table border=\"1\" class=\"dataframe\">\n",
       "  <thead>\n",
       "    <tr style=\"text-align: right;\">\n",
       "      <th></th>\n",
       "      <th>replicate</th>\n",
       "      <th>species</th>\n",
       "      <th>alignment_rate</th>\n",
       "    </tr>\n",
       "  </thead>\n",
       "  <tbody>\n",
       "    <tr>\n",
       "      <th>0</th>\n",
       "      <td>F_rathbuni_FW_2</td>\n",
       "      <td>F_rathbuni</td>\n",
       "      <td>49.42</td>\n",
       "    </tr>\n",
       "    <tr>\n",
       "      <th>1</th>\n",
       "      <td>F_similis_FW_3</td>\n",
       "      <td>F_similis</td>\n",
       "      <td>39.78</td>\n",
       "    </tr>\n",
       "    <tr>\n",
       "      <th>2</th>\n",
       "      <td>F_chrysotus_transfer_1</td>\n",
       "      <td>F_chrysotus</td>\n",
       "      <td>32.71</td>\n",
       "    </tr>\n",
       "    <tr>\n",
       "      <th>3</th>\n",
       "      <td>F_sciadicus_transfer_1</td>\n",
       "      <td>F_sciadicus</td>\n",
       "      <td>34.77</td>\n",
       "    </tr>\n",
       "    <tr>\n",
       "      <th>4</th>\n",
       "      <td>L_goodei_BW_1</td>\n",
       "      <td>L_goodei</td>\n",
       "      <td>29.74</td>\n",
       "    </tr>\n",
       "  </tbody>\n",
       "</table>\n",
       "</div>"
      ],
      "text/plain": [
       "                replicate      species  alignment_rate\n",
       "0         F_rathbuni_FW_2   F_rathbuni           49.42\n",
       "1          F_similis_FW_3    F_similis           39.78\n",
       "2  F_chrysotus_transfer_1  F_chrysotus           32.71\n",
       "3  F_sciadicus_transfer_1  F_sciadicus           34.77\n",
       "4           L_goodei_BW_1     L_goodei           29.74"
      ]
     },
     "execution_count": 259,
     "metadata": {},
     "output_type": "execute_result"
    }
   ],
   "source": [
    "rate.head()"
   ]
  },
  {
   "cell_type": "code",
   "execution_count": 260,
   "metadata": {},
   "outputs": [],
   "source": [
    "rate.species=pd.Categorical(rate.species,categories=arranged_x)"
   ]
  },
  {
   "cell_type": "code",
   "execution_count": 261,
   "metadata": {},
   "outputs": [],
   "source": [
    "rate_hisat2 = rate"
   ]
  },
  {
   "cell_type": "code",
   "execution_count": 262,
   "metadata": {},
   "outputs": [
    {
     "data": {
      "image/png": "[encoded data removed]",
      "text/plain": [
       "<Figure size 360x360 with 1 Axes>"
      ]
     },
     "metadata": {
      "needs_background": "light"
     },
     "output_type": "display_data"
    }
   ],
   "source": [
    "sns.catplot(x=\"species\", y=\"alignment_rate\", jitter=False, data=rate_hisat2);\n",
    "plt.xticks(rotation=90);"
   ]
  },
  {
   "cell_type": "markdown",
   "metadata": {},
   "source": [
    "# bwa mem genome"
   ]
  },
  {
   "cell_type": "code",
   "execution_count": 222,
   "metadata": {},
   "outputs": [],
   "source": [
    "bwagenome_file = alignment_rate_dir + \"bwa_genome_alignmentrates\"\n",
    "bwagenome_data = pd.read_csv(bwagenome_file,sep=\" \",header=None)"
   ]
  },
  {
   "cell_type": "code",
   "execution_count": 223,
   "metadata": {},
   "outputs": [
    {
     "data": {
      "text/html": [
       "<div>\n",
       "<style scoped>\n",
       "    .dataframe tbody tr th:only-of-type {\n",
       "        vertical-align: middle;\n",
       "    }\n",
       "\n",
       "    .dataframe tbody tr th {\n",
       "        vertical-align: top;\n",
       "    }\n",
       "\n",
       "    .dataframe thead th {\n",
       "        text-align: right;\n",
       "    }\n",
       "</style>\n",
       "<table border=\"1\" class=\"dataframe\">\n",
       "  <thead>\n",
       "    <tr style=\"text-align: right;\">\n",
       "      <th></th>\n",
       "      <th>0</th>\n",
       "      <th>1</th>\n",
       "      <th>2</th>\n",
       "      <th>3</th>\n",
       "      <th>4</th>\n",
       "      <th>5</th>\n",
       "      <th>6</th>\n",
       "    </tr>\n",
       "  </thead>\n",
       "  <tbody>\n",
       "    <tr>\n",
       "      <th>0</th>\n",
       "      <td>./A_xenica_transfer_2.bam.stats:32867410</td>\n",
       "      <td>+</td>\n",
       "      <td>0</td>\n",
       "      <td>mapped</td>\n",
       "      <td>(91.47%</td>\n",
       "      <td>:</td>\n",
       "      <td>N/A)</td>\n",
       "    </tr>\n",
       "    <tr>\n",
       "      <th>1</th>\n",
       "      <td>./F_similis_transfer_1.bam.stats:28834179</td>\n",
       "      <td>+</td>\n",
       "      <td>0</td>\n",
       "      <td>mapped</td>\n",
       "      <td>(91.41%</td>\n",
       "      <td>:</td>\n",
       "      <td>N/A)</td>\n",
       "    </tr>\n",
       "    <tr>\n",
       "      <th>2</th>\n",
       "      <td>./F_grandis_FW_1.bam.stats:72079965</td>\n",
       "      <td>+</td>\n",
       "      <td>0</td>\n",
       "      <td>mapped</td>\n",
       "      <td>(95.84%</td>\n",
       "      <td>:</td>\n",
       "      <td>N/A)</td>\n",
       "    </tr>\n",
       "    <tr>\n",
       "      <th>3</th>\n",
       "      <td>./L_goodei_FW_1.bam.stats:43611079</td>\n",
       "      <td>+</td>\n",
       "      <td>0</td>\n",
       "      <td>mapped</td>\n",
       "      <td>(88.95%</td>\n",
       "      <td>:</td>\n",
       "      <td>N/A)</td>\n",
       "    </tr>\n",
       "    <tr>\n",
       "      <th>4</th>\n",
       "      <td>./F_notti_FW_1.bam.stats:22509999</td>\n",
       "      <td>+</td>\n",
       "      <td>0</td>\n",
       "      <td>mapped</td>\n",
       "      <td>(92.55%</td>\n",
       "      <td>:</td>\n",
       "      <td>N/A)</td>\n",
       "    </tr>\n",
       "  </tbody>\n",
       "</table>\n",
       "</div>"
      ],
      "text/plain": [
       "                                           0  1  2       3        4  5     6\n",
       "0   ./A_xenica_transfer_2.bam.stats:32867410  +  0  mapped  (91.47%  :  N/A)\n",
       "1  ./F_similis_transfer_1.bam.stats:28834179  +  0  mapped  (91.41%  :  N/A)\n",
       "2        ./F_grandis_FW_1.bam.stats:72079965  +  0  mapped  (95.84%  :  N/A)\n",
       "3         ./L_goodei_FW_1.bam.stats:43611079  +  0  mapped  (88.95%  :  N/A)\n",
       "4          ./F_notti_FW_1.bam.stats:22509999  +  0  mapped  (92.55%  :  N/A)"
      ]
     },
     "execution_count": 223,
     "metadata": {},
     "output_type": "execute_result"
    }
   ],
   "source": [
    "bwagenome_data.head()"
   ]
  },
  {
   "cell_type": "code",
   "execution_count": 224,
   "metadata": {},
   "outputs": [
    {
     "name": "stderr",
     "output_type": "stream",
     "text": [
      "/Users/johnsolk/anaconda3/envs/jupyterpy3/lib/python3.7/site-packages/ipykernel_launcher.py:3: SettingWithCopyWarning: \n",
      "A value is trying to be set on a copy of a slice from a DataFrame.\n",
      "Try using .loc[row_indexer,col_indexer] = value instead\n",
      "\n",
      "See the caveats in the documentation: http://pandas.pydata.org/pandas-docs/stable/indexing.html#indexing-view-versus-copy\n",
      "  This is separate from the ipykernel package so we can avoid doing imports until\n",
      "/Users/johnsolk/anaconda3/envs/jupyterpy3/lib/python3.7/site-packages/ipykernel_launcher.py:4: SettingWithCopyWarning: \n",
      "A value is trying to be set on a copy of a slice from a DataFrame.\n",
      "Try using .loc[row_indexer,col_indexer] = value instead\n",
      "\n",
      "See the caveats in the documentation: http://pandas.pydata.org/pandas-docs/stable/indexing.html#indexing-view-versus-copy\n",
      "  after removing the cwd from sys.path.\n"
     ]
    }
   ],
   "source": [
    "rate = bwagenome_data[[0,4]]\n",
    "rate.columns = ['sample_info','perc_info']\n",
    "rate['bwagenome_alignment_rate'] = rate.perc_info.str.split('(',n=1,expand=True)[1]\n",
    "rate['samples'] = rate.sample_info.str.split(\"/\",n=2,expand=True)[1]"
   ]
  },
  {
   "cell_type": "code",
   "execution_count": 109,
   "metadata": {},
   "outputs": [],
   "source": []
  },
  {
   "cell_type": "code",
   "execution_count": 225,
   "metadata": {},
   "outputs": [
    {
     "data": {
      "text/html": [
       "<div>\n",
       "<style scoped>\n",
       "    .dataframe tbody tr th:only-of-type {\n",
       "        vertical-align: middle;\n",
       "    }\n",
       "\n",
       "    .dataframe tbody tr th {\n",
       "        vertical-align: top;\n",
       "    }\n",
       "\n",
       "    .dataframe thead th {\n",
       "        text-align: right;\n",
       "    }\n",
       "</style>\n",
       "<table border=\"1\" class=\"dataframe\">\n",
       "  <thead>\n",
       "    <tr style=\"text-align: right;\">\n",
       "      <th></th>\n",
       "      <th>sample_info</th>\n",
       "      <th>perc_info</th>\n",
       "      <th>bwagenome_alignment_rate</th>\n",
       "      <th>samples</th>\n",
       "    </tr>\n",
       "  </thead>\n",
       "  <tbody>\n",
       "    <tr>\n",
       "      <th>0</th>\n",
       "      <td>./A_xenica_transfer_2.bam.stats:32867410</td>\n",
       "      <td>(91.47%</td>\n",
       "      <td>91.47%</td>\n",
       "      <td>A_xenica_transfer_2.bam.stats:32867410</td>\n",
       "    </tr>\n",
       "    <tr>\n",
       "      <th>1</th>\n",
       "      <td>./F_similis_transfer_1.bam.stats:28834179</td>\n",
       "      <td>(91.41%</td>\n",
       "      <td>91.41%</td>\n",
       "      <td>F_similis_transfer_1.bam.stats:28834179</td>\n",
       "    </tr>\n",
       "    <tr>\n",
       "      <th>2</th>\n",
       "      <td>./F_grandis_FW_1.bam.stats:72079965</td>\n",
       "      <td>(95.84%</td>\n",
       "      <td>95.84%</td>\n",
       "      <td>F_grandis_FW_1.bam.stats:72079965</td>\n",
       "    </tr>\n",
       "    <tr>\n",
       "      <th>3</th>\n",
       "      <td>./L_goodei_FW_1.bam.stats:43611079</td>\n",
       "      <td>(88.95%</td>\n",
       "      <td>88.95%</td>\n",
       "      <td>L_goodei_FW_1.bam.stats:43611079</td>\n",
       "    </tr>\n",
       "    <tr>\n",
       "      <th>4</th>\n",
       "      <td>./F_notti_FW_1.bam.stats:22509999</td>\n",
       "      <td>(92.55%</td>\n",
       "      <td>92.55%</td>\n",
       "      <td>F_notti_FW_1.bam.stats:22509999</td>\n",
       "    </tr>\n",
       "  </tbody>\n",
       "</table>\n",
       "</div>"
      ],
      "text/plain": [
       "                                 sample_info perc_info  \\\n",
       "0   ./A_xenica_transfer_2.bam.stats:32867410   (91.47%   \n",
       "1  ./F_similis_transfer_1.bam.stats:28834179   (91.41%   \n",
       "2        ./F_grandis_FW_1.bam.stats:72079965   (95.84%   \n",
       "3         ./L_goodei_FW_1.bam.stats:43611079   (88.95%   \n",
       "4          ./F_notti_FW_1.bam.stats:22509999   (92.55%   \n",
       "\n",
       "  bwagenome_alignment_rate                                  samples  \n",
       "0                   91.47%   A_xenica_transfer_2.bam.stats:32867410  \n",
       "1                   91.41%  F_similis_transfer_1.bam.stats:28834179  \n",
       "2                   95.84%        F_grandis_FW_1.bam.stats:72079965  \n",
       "3                   88.95%         L_goodei_FW_1.bam.stats:43611079  \n",
       "4                   92.55%          F_notti_FW_1.bam.stats:22509999  "
      ]
     },
     "execution_count": 225,
     "metadata": {},
     "output_type": "execute_result"
    }
   ],
   "source": [
    "rate.head()"
   ]
  },
  {
   "cell_type": "code",
   "execution_count": 226,
   "metadata": {},
   "outputs": [
    {
     "name": "stderr",
     "output_type": "stream",
     "text": [
      "/Users/johnsolk/anaconda3/envs/jupyterpy3/lib/python3.7/site-packages/ipykernel_launcher.py:1: SettingWithCopyWarning: \n",
      "A value is trying to be set on a copy of a slice from a DataFrame.\n",
      "Try using .loc[row_indexer,col_indexer] = value instead\n",
      "\n",
      "See the caveats in the documentation: http://pandas.pydata.org/pandas-docs/stable/indexing.html#indexing-view-versus-copy\n",
      "  \"\"\"Entry point for launching an IPython kernel.\n"
     ]
    }
   ],
   "source": [
    "rate['replicate'] = rate.samples.str.split(\".\",n=2,expand=True)[0]"
   ]
  },
  {
   "cell_type": "code",
   "execution_count": 227,
   "metadata": {},
   "outputs": [
    {
     "data": {
      "text/html": [
       "<div>\n",
       "<style scoped>\n",
       "    .dataframe tbody tr th:only-of-type {\n",
       "        vertical-align: middle;\n",
       "    }\n",
       "\n",
       "    .dataframe tbody tr th {\n",
       "        vertical-align: top;\n",
       "    }\n",
       "\n",
       "    .dataframe thead th {\n",
       "        text-align: right;\n",
       "    }\n",
       "</style>\n",
       "<table border=\"1\" class=\"dataframe\">\n",
       "  <thead>\n",
       "    <tr style=\"text-align: right;\">\n",
       "      <th></th>\n",
       "      <th>sample_info</th>\n",
       "      <th>perc_info</th>\n",
       "      <th>bwagenome_alignment_rate</th>\n",
       "      <th>samples</th>\n",
       "      <th>replicate</th>\n",
       "    </tr>\n",
       "  </thead>\n",
       "  <tbody>\n",
       "    <tr>\n",
       "      <th>0</th>\n",
       "      <td>./A_xenica_transfer_2.bam.stats:32867410</td>\n",
       "      <td>(91.47%</td>\n",
       "      <td>91.47%</td>\n",
       "      <td>A_xenica_transfer_2.bam.stats:32867410</td>\n",
       "      <td>A_xenica_transfer_2</td>\n",
       "    </tr>\n",
       "    <tr>\n",
       "      <th>1</th>\n",
       "      <td>./F_similis_transfer_1.bam.stats:28834179</td>\n",
       "      <td>(91.41%</td>\n",
       "      <td>91.41%</td>\n",
       "      <td>F_similis_transfer_1.bam.stats:28834179</td>\n",
       "      <td>F_similis_transfer_1</td>\n",
       "    </tr>\n",
       "    <tr>\n",
       "      <th>2</th>\n",
       "      <td>./F_grandis_FW_1.bam.stats:72079965</td>\n",
       "      <td>(95.84%</td>\n",
       "      <td>95.84%</td>\n",
       "      <td>F_grandis_FW_1.bam.stats:72079965</td>\n",
       "      <td>F_grandis_FW_1</td>\n",
       "    </tr>\n",
       "    <tr>\n",
       "      <th>3</th>\n",
       "      <td>./L_goodei_FW_1.bam.stats:43611079</td>\n",
       "      <td>(88.95%</td>\n",
       "      <td>88.95%</td>\n",
       "      <td>L_goodei_FW_1.bam.stats:43611079</td>\n",
       "      <td>L_goodei_FW_1</td>\n",
       "    </tr>\n",
       "    <tr>\n",
       "      <th>4</th>\n",
       "      <td>./F_notti_FW_1.bam.stats:22509999</td>\n",
       "      <td>(92.55%</td>\n",
       "      <td>92.55%</td>\n",
       "      <td>F_notti_FW_1.bam.stats:22509999</td>\n",
       "      <td>F_notti_FW_1</td>\n",
       "    </tr>\n",
       "  </tbody>\n",
       "</table>\n",
       "</div>"
      ],
      "text/plain": [
       "                                 sample_info perc_info  \\\n",
       "0   ./A_xenica_transfer_2.bam.stats:32867410   (91.47%   \n",
       "1  ./F_similis_transfer_1.bam.stats:28834179   (91.41%   \n",
       "2        ./F_grandis_FW_1.bam.stats:72079965   (95.84%   \n",
       "3         ./L_goodei_FW_1.bam.stats:43611079   (88.95%   \n",
       "4          ./F_notti_FW_1.bam.stats:22509999   (92.55%   \n",
       "\n",
       "  bwagenome_alignment_rate                                  samples  \\\n",
       "0                   91.47%   A_xenica_transfer_2.bam.stats:32867410   \n",
       "1                   91.41%  F_similis_transfer_1.bam.stats:28834179   \n",
       "2                   95.84%        F_grandis_FW_1.bam.stats:72079965   \n",
       "3                   88.95%         L_goodei_FW_1.bam.stats:43611079   \n",
       "4                   92.55%          F_notti_FW_1.bam.stats:22509999   \n",
       "\n",
       "              replicate  \n",
       "0   A_xenica_transfer_2  \n",
       "1  F_similis_transfer_1  \n",
       "2        F_grandis_FW_1  \n",
       "3         L_goodei_FW_1  \n",
       "4          F_notti_FW_1  "
      ]
     },
     "execution_count": 227,
     "metadata": {},
     "output_type": "execute_result"
    }
   ],
   "source": [
    "rate.head()"
   ]
  },
  {
   "cell_type": "code",
   "execution_count": 228,
   "metadata": {},
   "outputs": [
    {
     "name": "stderr",
     "output_type": "stream",
     "text": [
      "/Users/johnsolk/anaconda3/envs/jupyterpy3/lib/python3.7/site-packages/ipykernel_launcher.py:1: SettingWithCopyWarning: \n",
      "A value is trying to be set on a copy of a slice from a DataFrame.\n",
      "Try using .loc[row_indexer,col_indexer] = value instead\n",
      "\n",
      "See the caveats in the documentation: http://pandas.pydata.org/pandas-docs/stable/indexing.html#indexing-view-versus-copy\n",
      "  \"\"\"Entry point for launching an IPython kernel.\n"
     ]
    }
   ],
   "source": [
    "rate['species'] = rate.samples.str.split(\"_\",n=4,expand=True)[0] + \"_\" + rate.samples.str.split(\"_\",n=4,expand=True)[1] "
   ]
  },
  {
   "cell_type": "code",
   "execution_count": 229,
   "metadata": {},
   "outputs": [
    {
     "data": {
      "text/html": [
       "<div>\n",
       "<style scoped>\n",
       "    .dataframe tbody tr th:only-of-type {\n",
       "        vertical-align: middle;\n",
       "    }\n",
       "\n",
       "    .dataframe tbody tr th {\n",
       "        vertical-align: top;\n",
       "    }\n",
       "\n",
       "    .dataframe thead th {\n",
       "        text-align: right;\n",
       "    }\n",
       "</style>\n",
       "<table border=\"1\" class=\"dataframe\">\n",
       "  <thead>\n",
       "    <tr style=\"text-align: right;\">\n",
       "      <th></th>\n",
       "      <th>sample_info</th>\n",
       "      <th>perc_info</th>\n",
       "      <th>bwagenome_alignment_rate</th>\n",
       "      <th>samples</th>\n",
       "      <th>replicate</th>\n",
       "      <th>species</th>\n",
       "    </tr>\n",
       "  </thead>\n",
       "  <tbody>\n",
       "    <tr>\n",
       "      <th>0</th>\n",
       "      <td>./A_xenica_transfer_2.bam.stats:32867410</td>\n",
       "      <td>(91.47%</td>\n",
       "      <td>91.47%</td>\n",
       "      <td>A_xenica_transfer_2.bam.stats:32867410</td>\n",
       "      <td>A_xenica_transfer_2</td>\n",
       "      <td>A_xenica</td>\n",
       "    </tr>\n",
       "    <tr>\n",
       "      <th>1</th>\n",
       "      <td>./F_similis_transfer_1.bam.stats:28834179</td>\n",
       "      <td>(91.41%</td>\n",
       "      <td>91.41%</td>\n",
       "      <td>F_similis_transfer_1.bam.stats:28834179</td>\n",
       "      <td>F_similis_transfer_1</td>\n",
       "      <td>F_similis</td>\n",
       "    </tr>\n",
       "    <tr>\n",
       "      <th>2</th>\n",
       "      <td>./F_grandis_FW_1.bam.stats:72079965</td>\n",
       "      <td>(95.84%</td>\n",
       "      <td>95.84%</td>\n",
       "      <td>F_grandis_FW_1.bam.stats:72079965</td>\n",
       "      <td>F_grandis_FW_1</td>\n",
       "      <td>F_grandis</td>\n",
       "    </tr>\n",
       "    <tr>\n",
       "      <th>3</th>\n",
       "      <td>./L_goodei_FW_1.bam.stats:43611079</td>\n",
       "      <td>(88.95%</td>\n",
       "      <td>88.95%</td>\n",
       "      <td>L_goodei_FW_1.bam.stats:43611079</td>\n",
       "      <td>L_goodei_FW_1</td>\n",
       "      <td>L_goodei</td>\n",
       "    </tr>\n",
       "    <tr>\n",
       "      <th>4</th>\n",
       "      <td>./F_notti_FW_1.bam.stats:22509999</td>\n",
       "      <td>(92.55%</td>\n",
       "      <td>92.55%</td>\n",
       "      <td>F_notti_FW_1.bam.stats:22509999</td>\n",
       "      <td>F_notti_FW_1</td>\n",
       "      <td>F_notti</td>\n",
       "    </tr>\n",
       "  </tbody>\n",
       "</table>\n",
       "</div>"
      ],
      "text/plain": [
       "                                 sample_info perc_info  \\\n",
       "0   ./A_xenica_transfer_2.bam.stats:32867410   (91.47%   \n",
       "1  ./F_similis_transfer_1.bam.stats:28834179   (91.41%   \n",
       "2        ./F_grandis_FW_1.bam.stats:72079965   (95.84%   \n",
       "3         ./L_goodei_FW_1.bam.stats:43611079   (88.95%   \n",
       "4          ./F_notti_FW_1.bam.stats:22509999   (92.55%   \n",
       "\n",
       "  bwagenome_alignment_rate                                  samples  \\\n",
       "0                   91.47%   A_xenica_transfer_2.bam.stats:32867410   \n",
       "1                   91.41%  F_similis_transfer_1.bam.stats:28834179   \n",
       "2                   95.84%        F_grandis_FW_1.bam.stats:72079965   \n",
       "3                   88.95%         L_goodei_FW_1.bam.stats:43611079   \n",
       "4                   92.55%          F_notti_FW_1.bam.stats:22509999   \n",
       "\n",
       "              replicate    species  \n",
       "0   A_xenica_transfer_2   A_xenica  \n",
       "1  F_similis_transfer_1  F_similis  \n",
       "2        F_grandis_FW_1  F_grandis  \n",
       "3         L_goodei_FW_1   L_goodei  \n",
       "4          F_notti_FW_1    F_notti  "
      ]
     },
     "execution_count": 229,
     "metadata": {},
     "output_type": "execute_result"
    }
   ],
   "source": [
    "rate.head()"
   ]
  },
  {
   "cell_type": "code",
   "execution_count": 230,
   "metadata": {},
   "outputs": [],
   "source": [
    "rate['bwa_mem_genome_alignment_rate'] = rate.bwagenome_alignment_rate.str.split(\"%\",n=1,expand=True)[0].astype('float')"
   ]
  },
  {
   "cell_type": "code",
   "execution_count": 231,
   "metadata": {},
   "outputs": [
    {
     "data": {
      "text/html": [
       "<div>\n",
       "<style scoped>\n",
       "    .dataframe tbody tr th:only-of-type {\n",
       "        vertical-align: middle;\n",
       "    }\n",
       "\n",
       "    .dataframe tbody tr th {\n",
       "        vertical-align: top;\n",
       "    }\n",
       "\n",
       "    .dataframe thead th {\n",
       "        text-align: right;\n",
       "    }\n",
       "</style>\n",
       "<table border=\"1\" class=\"dataframe\">\n",
       "  <thead>\n",
       "    <tr style=\"text-align: right;\">\n",
       "      <th></th>\n",
       "      <th>sample_info</th>\n",
       "      <th>perc_info</th>\n",
       "      <th>bwagenome_alignment_rate</th>\n",
       "      <th>samples</th>\n",
       "      <th>replicate</th>\n",
       "      <th>species</th>\n",
       "      <th>bwa_mem_genome_alignment_rate</th>\n",
       "    </tr>\n",
       "  </thead>\n",
       "  <tbody>\n",
       "    <tr>\n",
       "      <th>0</th>\n",
       "      <td>./A_xenica_transfer_2.bam.stats:32867410</td>\n",
       "      <td>(91.47%</td>\n",
       "      <td>91.47%</td>\n",
       "      <td>A_xenica_transfer_2.bam.stats:32867410</td>\n",
       "      <td>A_xenica_transfer_2</td>\n",
       "      <td>A_xenica</td>\n",
       "      <td>91.47</td>\n",
       "    </tr>\n",
       "    <tr>\n",
       "      <th>1</th>\n",
       "      <td>./F_similis_transfer_1.bam.stats:28834179</td>\n",
       "      <td>(91.41%</td>\n",
       "      <td>91.41%</td>\n",
       "      <td>F_similis_transfer_1.bam.stats:28834179</td>\n",
       "      <td>F_similis_transfer_1</td>\n",
       "      <td>F_similis</td>\n",
       "      <td>91.41</td>\n",
       "    </tr>\n",
       "    <tr>\n",
       "      <th>2</th>\n",
       "      <td>./F_grandis_FW_1.bam.stats:72079965</td>\n",
       "      <td>(95.84%</td>\n",
       "      <td>95.84%</td>\n",
       "      <td>F_grandis_FW_1.bam.stats:72079965</td>\n",
       "      <td>F_grandis_FW_1</td>\n",
       "      <td>F_grandis</td>\n",
       "      <td>95.84</td>\n",
       "    </tr>\n",
       "    <tr>\n",
       "      <th>3</th>\n",
       "      <td>./L_goodei_FW_1.bam.stats:43611079</td>\n",
       "      <td>(88.95%</td>\n",
       "      <td>88.95%</td>\n",
       "      <td>L_goodei_FW_1.bam.stats:43611079</td>\n",
       "      <td>L_goodei_FW_1</td>\n",
       "      <td>L_goodei</td>\n",
       "      <td>88.95</td>\n",
       "    </tr>\n",
       "    <tr>\n",
       "      <th>4</th>\n",
       "      <td>./F_notti_FW_1.bam.stats:22509999</td>\n",
       "      <td>(92.55%</td>\n",
       "      <td>92.55%</td>\n",
       "      <td>F_notti_FW_1.bam.stats:22509999</td>\n",
       "      <td>F_notti_FW_1</td>\n",
       "      <td>F_notti</td>\n",
       "      <td>92.55</td>\n",
       "    </tr>\n",
       "  </tbody>\n",
       "</table>\n",
       "</div>"
      ],
      "text/plain": [
       "                                 sample_info perc_info  \\\n",
       "0   ./A_xenica_transfer_2.bam.stats:32867410   (91.47%   \n",
       "1  ./F_similis_transfer_1.bam.stats:28834179   (91.41%   \n",
       "2        ./F_grandis_FW_1.bam.stats:72079965   (95.84%   \n",
       "3         ./L_goodei_FW_1.bam.stats:43611079   (88.95%   \n",
       "4          ./F_notti_FW_1.bam.stats:22509999   (92.55%   \n",
       "\n",
       "  bwagenome_alignment_rate                                  samples  \\\n",
       "0                   91.47%   A_xenica_transfer_2.bam.stats:32867410   \n",
       "1                   91.41%  F_similis_transfer_1.bam.stats:28834179   \n",
       "2                   95.84%        F_grandis_FW_1.bam.stats:72079965   \n",
       "3                   88.95%         L_goodei_FW_1.bam.stats:43611079   \n",
       "4                   92.55%          F_notti_FW_1.bam.stats:22509999   \n",
       "\n",
       "              replicate    species  bwa_mem_genome_alignment_rate  \n",
       "0   A_xenica_transfer_2   A_xenica                          91.47  \n",
       "1  F_similis_transfer_1  F_similis                          91.41  \n",
       "2        F_grandis_FW_1  F_grandis                          95.84  \n",
       "3         L_goodei_FW_1   L_goodei                          88.95  \n",
       "4          F_notti_FW_1    F_notti                          92.55  "
      ]
     },
     "execution_count": 231,
     "metadata": {},
     "output_type": "execute_result"
    }
   ],
   "source": [
    "rate.head()"
   ]
  },
  {
   "cell_type": "code",
   "execution_count": 232,
   "metadata": {},
   "outputs": [],
   "source": [
    "rate = rate[['replicate','species','bwa_mem_genome_alignment_rate']]"
   ]
  },
  {
   "cell_type": "code",
   "execution_count": 233,
   "metadata": {},
   "outputs": [],
   "source": [
    "rate.species=pd.Categorical(rate.species,categories=arranged_x)"
   ]
  },
  {
   "cell_type": "code",
   "execution_count": 234,
   "metadata": {},
   "outputs": [],
   "source": [
    "rate_bwa_genome = rate"
   ]
  },
  {
   "cell_type": "code",
   "execution_count": 236,
   "metadata": {},
   "outputs": [
    {
     "data": {
      "image/png": "[encoded data removed]",
      "text/plain": [
       "<Figure size 360x360 with 1 Axes>"
      ]
     },
     "metadata": {
      "needs_background": "light"
     },
     "output_type": "display_data"
    }
   ],
   "source": [
    "sns.catplot(x=\"species\", y=\"bwa_mem_genome_alignment_rate\", jitter=False, data=rate_bwa_genome);\n",
    "plt.xticks(rotation=90);"
   ]
  },
  {
   "cell_type": "markdown",
   "metadata": {},
   "source": [
    "# bwa mem transcriptome"
   ]
  },
  {
   "cell_type": "code",
   "execution_count": 237,
   "metadata": {},
   "outputs": [],
   "source": [
    "bwatranscriptome_file = alignment_rate_dir + \"bwa_transcriptome_alignmentrates\"\n",
    "bwatranscriptome_data = pd.read_csv(bwatranscriptome_file,sep=\" \",header=None)"
   ]
  },
  {
   "cell_type": "code",
   "execution_count": 238,
   "metadata": {},
   "outputs": [
    {
     "data": {
      "text/html": [
       "<div>\n",
       "<style scoped>\n",
       "    .dataframe tbody tr th:only-of-type {\n",
       "        vertical-align: middle;\n",
       "    }\n",
       "\n",
       "    .dataframe tbody tr th {\n",
       "        vertical-align: top;\n",
       "    }\n",
       "\n",
       "    .dataframe thead th {\n",
       "        text-align: right;\n",
       "    }\n",
       "</style>\n",
       "<table border=\"1\" class=\"dataframe\">\n",
       "  <thead>\n",
       "    <tr style=\"text-align: right;\">\n",
       "      <th></th>\n",
       "      <th>0</th>\n",
       "      <th>1</th>\n",
       "      <th>2</th>\n",
       "      <th>3</th>\n",
       "      <th>4</th>\n",
       "      <th>5</th>\n",
       "      <th>6</th>\n",
       "    </tr>\n",
       "  </thead>\n",
       "  <tbody>\n",
       "    <tr>\n",
       "      <th>0</th>\n",
       "      <td>./F_heteroclitusMDPP_FW_2.bam.stats:17276728</td>\n",
       "      <td>+</td>\n",
       "      <td>0</td>\n",
       "      <td>mapped</td>\n",
       "      <td>(79.62%</td>\n",
       "      <td>:</td>\n",
       "      <td>N/A)</td>\n",
       "    </tr>\n",
       "    <tr>\n",
       "      <th>1</th>\n",
       "      <td>./L_goodei_transfer_1.bam.stats:12515679</td>\n",
       "      <td>+</td>\n",
       "      <td>0</td>\n",
       "      <td>mapped</td>\n",
       "      <td>(67.06%</td>\n",
       "      <td>:</td>\n",
       "      <td>N/A)</td>\n",
       "    </tr>\n",
       "    <tr>\n",
       "      <th>2</th>\n",
       "      <td>./L_parva_FW_1.bam.stats:14748857</td>\n",
       "      <td>+</td>\n",
       "      <td>0</td>\n",
       "      <td>mapped</td>\n",
       "      <td>(68.33%</td>\n",
       "      <td>:</td>\n",
       "      <td>N/A)</td>\n",
       "    </tr>\n",
       "    <tr>\n",
       "      <th>3</th>\n",
       "      <td>./F_diaphanus_transfer_2.bam.stats:10328847</td>\n",
       "      <td>+</td>\n",
       "      <td>0</td>\n",
       "      <td>mapped</td>\n",
       "      <td>(79.00%</td>\n",
       "      <td>:</td>\n",
       "      <td>N/A)</td>\n",
       "    </tr>\n",
       "    <tr>\n",
       "      <th>4</th>\n",
       "      <td>./F_heteroclitusMDPP_FW_3.bam.stats:28713501</td>\n",
       "      <td>+</td>\n",
       "      <td>0</td>\n",
       "      <td>mapped</td>\n",
       "      <td>(82.35%</td>\n",
       "      <td>:</td>\n",
       "      <td>N/A)</td>\n",
       "    </tr>\n",
       "  </tbody>\n",
       "</table>\n",
       "</div>"
      ],
      "text/plain": [
       "                                              0  1  2       3        4  5  \\\n",
       "0  ./F_heteroclitusMDPP_FW_2.bam.stats:17276728  +  0  mapped  (79.62%  :   \n",
       "1      ./L_goodei_transfer_1.bam.stats:12515679  +  0  mapped  (67.06%  :   \n",
       "2             ./L_parva_FW_1.bam.stats:14748857  +  0  mapped  (68.33%  :   \n",
       "3   ./F_diaphanus_transfer_2.bam.stats:10328847  +  0  mapped  (79.00%  :   \n",
       "4  ./F_heteroclitusMDPP_FW_3.bam.stats:28713501  +  0  mapped  (82.35%  :   \n",
       "\n",
       "      6  \n",
       "0  N/A)  \n",
       "1  N/A)  \n",
       "2  N/A)  \n",
       "3  N/A)  \n",
       "4  N/A)  "
      ]
     },
     "execution_count": 238,
     "metadata": {},
     "output_type": "execute_result"
    }
   ],
   "source": [
    "bwatranscriptome_data.head()"
   ]
  },
  {
   "cell_type": "code",
   "execution_count": 239,
   "metadata": {},
   "outputs": [
    {
     "name": "stderr",
     "output_type": "stream",
     "text": [
      "/Users/johnsolk/anaconda3/envs/jupyterpy3/lib/python3.7/site-packages/ipykernel_launcher.py:3: SettingWithCopyWarning: \n",
      "A value is trying to be set on a copy of a slice from a DataFrame.\n",
      "Try using .loc[row_indexer,col_indexer] = value instead\n",
      "\n",
      "See the caveats in the documentation: http://pandas.pydata.org/pandas-docs/stable/indexing.html#indexing-view-versus-copy\n",
      "  This is separate from the ipykernel package so we can avoid doing imports until\n",
      "/Users/johnsolk/anaconda3/envs/jupyterpy3/lib/python3.7/site-packages/ipykernel_launcher.py:4: SettingWithCopyWarning: \n",
      "A value is trying to be set on a copy of a slice from a DataFrame.\n",
      "Try using .loc[row_indexer,col_indexer] = value instead\n",
      "\n",
      "See the caveats in the documentation: http://pandas.pydata.org/pandas-docs/stable/indexing.html#indexing-view-versus-copy\n",
      "  after removing the cwd from sys.path.\n"
     ]
    }
   ],
   "source": [
    "rate = bwatranscriptome_data[[0,4]]\n",
    "rate.columns = ['sample_info','perc_info']\n",
    "rate['bwatranscriptome_alignment_rate'] = rate.perc_info.str.split('(',n=1,expand=True)[1]\n",
    "rate['samples'] = rate.sample_info.str.split(\"/\",n=2,expand=True)[1]"
   ]
  },
  {
   "cell_type": "code",
   "execution_count": 240,
   "metadata": {},
   "outputs": [
    {
     "name": "stderr",
     "output_type": "stream",
     "text": [
      "/Users/johnsolk/anaconda3/envs/jupyterpy3/lib/python3.7/site-packages/ipykernel_launcher.py:1: SettingWithCopyWarning: \n",
      "A value is trying to be set on a copy of a slice from a DataFrame.\n",
      "Try using .loc[row_indexer,col_indexer] = value instead\n",
      "\n",
      "See the caveats in the documentation: http://pandas.pydata.org/pandas-docs/stable/indexing.html#indexing-view-versus-copy\n",
      "  \"\"\"Entry point for launching an IPython kernel.\n"
     ]
    }
   ],
   "source": [
    "rate['replicate'] = rate.samples.str.split(\".\",n=2,expand=True)[0]"
   ]
  },
  {
   "cell_type": "code",
   "execution_count": 241,
   "metadata": {},
   "outputs": [
    {
     "name": "stderr",
     "output_type": "stream",
     "text": [
      "/Users/johnsolk/anaconda3/envs/jupyterpy3/lib/python3.7/site-packages/ipykernel_launcher.py:1: SettingWithCopyWarning: \n",
      "A value is trying to be set on a copy of a slice from a DataFrame.\n",
      "Try using .loc[row_indexer,col_indexer] = value instead\n",
      "\n",
      "See the caveats in the documentation: http://pandas.pydata.org/pandas-docs/stable/indexing.html#indexing-view-versus-copy\n",
      "  \"\"\"Entry point for launching an IPython kernel.\n"
     ]
    }
   ],
   "source": [
    "rate['species'] = rate.samples.str.split(\"_\",n=4,expand=True)[0] + \"_\" + rate.samples.str.split(\"_\",n=4,expand=True)[1] "
   ]
  },
  {
   "cell_type": "code",
   "execution_count": 242,
   "metadata": {},
   "outputs": [],
   "source": [
    "rate['bwa_mem_transcriptome_alignment_rate'] = rate.bwatranscriptome_alignment_rate.str.split(\"%\",n=1,expand=True)[0].astype('float')"
   ]
  },
  {
   "cell_type": "code",
   "execution_count": 243,
   "metadata": {},
   "outputs": [],
   "source": [
    "rate = rate[['replicate','species','bwa_mem_transcriptome_alignment_rate']]"
   ]
  },
  {
   "cell_type": "code",
   "execution_count": 244,
   "metadata": {},
   "outputs": [],
   "source": [
    "rate.species=pd.Categorical(rate.species,categories=arranged_x)"
   ]
  },
  {
   "cell_type": "code",
   "execution_count": 245,
   "metadata": {},
   "outputs": [],
   "source": [
    "rate_bwa_transcriptome = rate"
   ]
  },
  {
   "cell_type": "code",
   "execution_count": 246,
   "metadata": {},
   "outputs": [
    {
     "data": {
      "image/png": "[encoded data removed]",
      "text/plain": [
       "<Figure size 360x360 with 1 Axes>"
      ]
     },
     "metadata": {
      "needs_background": "light"
     },
     "output_type": "display_data"
    }
   ],
   "source": [
    "sns.catplot(x=\"species\", y=\"bwa_mem_transcriptome_alignment_rate\", jitter=False, data=rate_bwa_transcriptome);\n",
    "plt.xticks(rotation=90);"
   ]
  },
  {
   "cell_type": "markdown",
   "metadata": {},
   "source": [
    "# STAR"
   ]
  },
  {
   "cell_type": "code",
   "execution_count": 263,
   "metadata": {},
   "outputs": [],
   "source": [
    "star_file = alignment_rate_dir + \"STAR_genome_alignmentrates\"\n",
    "star_data = pd.read_csv(star_file,sep=\"\\t\",header=None)"
   ]
  },
  {
   "cell_type": "code",
   "execution_count": 264,
   "metadata": {},
   "outputs": [
    {
     "data": {
      "text/html": [
       "<div>\n",
       "<style scoped>\n",
       "    .dataframe tbody tr th:only-of-type {\n",
       "        vertical-align: middle;\n",
       "    }\n",
       "\n",
       "    .dataframe tbody tr th {\n",
       "        vertical-align: top;\n",
       "    }\n",
       "\n",
       "    .dataframe thead th {\n",
       "        text-align: right;\n",
       "    }\n",
       "</style>\n",
       "<table border=\"1\" class=\"dataframe\">\n",
       "  <thead>\n",
       "    <tr style=\"text-align: right;\">\n",
       "      <th></th>\n",
       "      <th>0</th>\n",
       "      <th>1</th>\n",
       "    </tr>\n",
       "  </thead>\n",
       "  <tbody>\n",
       "    <tr>\n",
       "      <th>0</th>\n",
       "      <td>./F_notatus_transfer_1Log.final.out:          ...</td>\n",
       "      <td>59.60%</td>\n",
       "    </tr>\n",
       "    <tr>\n",
       "      <th>1</th>\n",
       "      <td>./F_chrysotus_BW_3Log.final.out:              ...</td>\n",
       "      <td>57.87%</td>\n",
       "    </tr>\n",
       "    <tr>\n",
       "      <th>2</th>\n",
       "      <td>./F_heteroclitusMDPL_FW_2Log.final.out:       ...</td>\n",
       "      <td>82.16%</td>\n",
       "    </tr>\n",
       "    <tr>\n",
       "      <th>3</th>\n",
       "      <td>./F_grandis_FW_2Log.final.out:                ...</td>\n",
       "      <td>76.34%</td>\n",
       "    </tr>\n",
       "    <tr>\n",
       "      <th>4</th>\n",
       "      <td>./A_xenica_transfer_2Log.final.out:           ...</td>\n",
       "      <td>55.62%</td>\n",
       "    </tr>\n",
       "  </tbody>\n",
       "</table>\n",
       "</div>"
      ],
      "text/plain": [
       "                                                   0       1\n",
       "0  ./F_notatus_transfer_1Log.final.out:          ...  59.60%\n",
       "1  ./F_chrysotus_BW_3Log.final.out:              ...  57.87%\n",
       "2  ./F_heteroclitusMDPL_FW_2Log.final.out:       ...  82.16%\n",
       "3  ./F_grandis_FW_2Log.final.out:                ...  76.34%\n",
       "4  ./A_xenica_transfer_2Log.final.out:           ...  55.62%"
      ]
     },
     "execution_count": 264,
     "metadata": {},
     "output_type": "execute_result"
    }
   ],
   "source": [
    "star_data.head()"
   ]
  },
  {
   "cell_type": "code",
   "execution_count": 265,
   "metadata": {},
   "outputs": [],
   "source": [
    "rate = star_data\n",
    "rate.columns = ['sample_info','perc_info']\n",
    "rate['STAR_genome_alignment_rate'] = rate.perc_info.str.split('%',n=1,expand=True)[0].astype('float')"
   ]
  },
  {
   "cell_type": "code",
   "execution_count": 266,
   "metadata": {},
   "outputs": [],
   "source": [
    "rate['samples'] = rate.sample_info.str.split(\"/\",n=2,expand=True)[1]"
   ]
  },
  {
   "cell_type": "code",
   "execution_count": 267,
   "metadata": {},
   "outputs": [
    {
     "data": {
      "text/html": [
       "<div>\n",
       "<style scoped>\n",
       "    .dataframe tbody tr th:only-of-type {\n",
       "        vertical-align: middle;\n",
       "    }\n",
       "\n",
       "    .dataframe tbody tr th {\n",
       "        vertical-align: top;\n",
       "    }\n",
       "\n",
       "    .dataframe thead th {\n",
       "        text-align: right;\n",
       "    }\n",
       "</style>\n",
       "<table border=\"1\" class=\"dataframe\">\n",
       "  <thead>\n",
       "    <tr style=\"text-align: right;\">\n",
       "      <th></th>\n",
       "      <th>sample_info</th>\n",
       "      <th>perc_info</th>\n",
       "      <th>STAR_genome_alignment_rate</th>\n",
       "      <th>samples</th>\n",
       "    </tr>\n",
       "  </thead>\n",
       "  <tbody>\n",
       "    <tr>\n",
       "      <th>0</th>\n",
       "      <td>./F_notatus_transfer_1Log.final.out:          ...</td>\n",
       "      <td>59.60%</td>\n",
       "      <td>59.60</td>\n",
       "      <td>F_notatus_transfer_1Log.final.out:            ...</td>\n",
       "    </tr>\n",
       "    <tr>\n",
       "      <th>1</th>\n",
       "      <td>./F_chrysotus_BW_3Log.final.out:              ...</td>\n",
       "      <td>57.87%</td>\n",
       "      <td>57.87</td>\n",
       "      <td>F_chrysotus_BW_3Log.final.out:                ...</td>\n",
       "    </tr>\n",
       "    <tr>\n",
       "      <th>2</th>\n",
       "      <td>./F_heteroclitusMDPL_FW_2Log.final.out:       ...</td>\n",
       "      <td>82.16%</td>\n",
       "      <td>82.16</td>\n",
       "      <td>F_heteroclitusMDPL_FW_2Log.final.out:         ...</td>\n",
       "    </tr>\n",
       "    <tr>\n",
       "      <th>3</th>\n",
       "      <td>./F_grandis_FW_2Log.final.out:                ...</td>\n",
       "      <td>76.34%</td>\n",
       "      <td>76.34</td>\n",
       "      <td>F_grandis_FW_2Log.final.out:                  ...</td>\n",
       "    </tr>\n",
       "    <tr>\n",
       "      <th>4</th>\n",
       "      <td>./A_xenica_transfer_2Log.final.out:           ...</td>\n",
       "      <td>55.62%</td>\n",
       "      <td>55.62</td>\n",
       "      <td>A_xenica_transfer_2Log.final.out:             ...</td>\n",
       "    </tr>\n",
       "  </tbody>\n",
       "</table>\n",
       "</div>"
      ],
      "text/plain": [
       "                                         sample_info perc_info  \\\n",
       "0  ./F_notatus_transfer_1Log.final.out:          ...    59.60%   \n",
       "1  ./F_chrysotus_BW_3Log.final.out:              ...    57.87%   \n",
       "2  ./F_heteroclitusMDPL_FW_2Log.final.out:       ...    82.16%   \n",
       "3  ./F_grandis_FW_2Log.final.out:                ...    76.34%   \n",
       "4  ./A_xenica_transfer_2Log.final.out:           ...    55.62%   \n",
       "\n",
       "   STAR_genome_alignment_rate  \\\n",
       "0                       59.60   \n",
       "1                       57.87   \n",
       "2                       82.16   \n",
       "3                       76.34   \n",
       "4                       55.62   \n",
       "\n",
       "                                             samples  \n",
       "0  F_notatus_transfer_1Log.final.out:            ...  \n",
       "1  F_chrysotus_BW_3Log.final.out:                ...  \n",
       "2  F_heteroclitusMDPL_FW_2Log.final.out:         ...  \n",
       "3  F_grandis_FW_2Log.final.out:                  ...  \n",
       "4  A_xenica_transfer_2Log.final.out:             ...  "
      ]
     },
     "execution_count": 267,
     "metadata": {},
     "output_type": "execute_result"
    }
   ],
   "source": [
    "rate.head()"
   ]
  },
  {
   "cell_type": "code",
   "execution_count": 268,
   "metadata": {},
   "outputs": [],
   "source": [
    "rate['species'] = rate.samples.str.split(\"_\",n=4,expand=True)[0] + \"_\" + rate.samples.str.split(\"_\",n=4,expand=True)[1]"
   ]
  },
  {
   "cell_type": "code",
   "execution_count": 269,
   "metadata": {},
   "outputs": [],
   "source": [
    "rate['replicate_info'] = rate.samples.str.split(\"_\",n=4,expand=True)[3]"
   ]
  },
  {
   "cell_type": "code",
   "execution_count": 270,
   "metadata": {},
   "outputs": [],
   "source": [
    "rate['replicate'] = rate.samples.str.split(\"_\",n=4,expand=True)[0] + \"_\" + rate.samples.str.split(\"_\",n=4,expand=True)[1] + \"_\" + rate.samples.str.split(\"_\",n=4,expand=True)[2] + \"_\" + rate.replicate_info.str.split(\"Log\",n=1,expand=True)[0]\n"
   ]
  },
  {
   "cell_type": "code",
   "execution_count": 271,
   "metadata": {},
   "outputs": [
    {
     "data": {
      "text/html": [
       "<div>\n",
       "<style scoped>\n",
       "    .dataframe tbody tr th:only-of-type {\n",
       "        vertical-align: middle;\n",
       "    }\n",
       "\n",
       "    .dataframe tbody tr th {\n",
       "        vertical-align: top;\n",
       "    }\n",
       "\n",
       "    .dataframe thead th {\n",
       "        text-align: right;\n",
       "    }\n",
       "</style>\n",
       "<table border=\"1\" class=\"dataframe\">\n",
       "  <thead>\n",
       "    <tr style=\"text-align: right;\">\n",
       "      <th></th>\n",
       "      <th>sample_info</th>\n",
       "      <th>perc_info</th>\n",
       "      <th>STAR_genome_alignment_rate</th>\n",
       "      <th>samples</th>\n",
       "      <th>species</th>\n",
       "      <th>replicate_info</th>\n",
       "      <th>replicate</th>\n",
       "    </tr>\n",
       "  </thead>\n",
       "  <tbody>\n",
       "    <tr>\n",
       "      <th>0</th>\n",
       "      <td>./F_notatus_transfer_1Log.final.out:          ...</td>\n",
       "      <td>59.60%</td>\n",
       "      <td>59.60</td>\n",
       "      <td>F_notatus_transfer_1Log.final.out:            ...</td>\n",
       "      <td>F_notatus</td>\n",
       "      <td>1Log.final.out:                        Uniquel...</td>\n",
       "      <td>F_notatus_transfer_1</td>\n",
       "    </tr>\n",
       "    <tr>\n",
       "      <th>1</th>\n",
       "      <td>./F_chrysotus_BW_3Log.final.out:              ...</td>\n",
       "      <td>57.87%</td>\n",
       "      <td>57.87</td>\n",
       "      <td>F_chrysotus_BW_3Log.final.out:                ...</td>\n",
       "      <td>F_chrysotus</td>\n",
       "      <td>3Log.final.out:                        Uniquel...</td>\n",
       "      <td>F_chrysotus_BW_3</td>\n",
       "    </tr>\n",
       "    <tr>\n",
       "      <th>2</th>\n",
       "      <td>./F_heteroclitusMDPL_FW_2Log.final.out:       ...</td>\n",
       "      <td>82.16%</td>\n",
       "      <td>82.16</td>\n",
       "      <td>F_heteroclitusMDPL_FW_2Log.final.out:         ...</td>\n",
       "      <td>F_heteroclitusMDPL</td>\n",
       "      <td>2Log.final.out:                        Uniquel...</td>\n",
       "      <td>F_heteroclitusMDPL_FW_2</td>\n",
       "    </tr>\n",
       "    <tr>\n",
       "      <th>3</th>\n",
       "      <td>./F_grandis_FW_2Log.final.out:                ...</td>\n",
       "      <td>76.34%</td>\n",
       "      <td>76.34</td>\n",
       "      <td>F_grandis_FW_2Log.final.out:                  ...</td>\n",
       "      <td>F_grandis</td>\n",
       "      <td>2Log.final.out:                        Uniquel...</td>\n",
       "      <td>F_grandis_FW_2</td>\n",
       "    </tr>\n",
       "    <tr>\n",
       "      <th>4</th>\n",
       "      <td>./A_xenica_transfer_2Log.final.out:           ...</td>\n",
       "      <td>55.62%</td>\n",
       "      <td>55.62</td>\n",
       "      <td>A_xenica_transfer_2Log.final.out:             ...</td>\n",
       "      <td>A_xenica</td>\n",
       "      <td>2Log.final.out:                        Uniquel...</td>\n",
       "      <td>A_xenica_transfer_2</td>\n",
       "    </tr>\n",
       "  </tbody>\n",
       "</table>\n",
       "</div>"
      ],
      "text/plain": [
       "                                         sample_info perc_info  \\\n",
       "0  ./F_notatus_transfer_1Log.final.out:          ...    59.60%   \n",
       "1  ./F_chrysotus_BW_3Log.final.out:              ...    57.87%   \n",
       "2  ./F_heteroclitusMDPL_FW_2Log.final.out:       ...    82.16%   \n",
       "3  ./F_grandis_FW_2Log.final.out:                ...    76.34%   \n",
       "4  ./A_xenica_transfer_2Log.final.out:           ...    55.62%   \n",
       "\n",
       "   STAR_genome_alignment_rate  \\\n",
       "0                       59.60   \n",
       "1                       57.87   \n",
       "2                       82.16   \n",
       "3                       76.34   \n",
       "4                       55.62   \n",
       "\n",
       "                                             samples             species  \\\n",
       "0  F_notatus_transfer_1Log.final.out:            ...           F_notatus   \n",
       "1  F_chrysotus_BW_3Log.final.out:                ...         F_chrysotus   \n",
       "2  F_heteroclitusMDPL_FW_2Log.final.out:         ...  F_heteroclitusMDPL   \n",
       "3  F_grandis_FW_2Log.final.out:                  ...           F_grandis   \n",
       "4  A_xenica_transfer_2Log.final.out:             ...            A_xenica   \n",
       "\n",
       "                                      replicate_info                replicate  \n",
       "0  1Log.final.out:                        Uniquel...     F_notatus_transfer_1  \n",
       "1  3Log.final.out:                        Uniquel...         F_chrysotus_BW_3  \n",
       "2  2Log.final.out:                        Uniquel...  F_heteroclitusMDPL_FW_2  \n",
       "3  2Log.final.out:                        Uniquel...           F_grandis_FW_2  \n",
       "4  2Log.final.out:                        Uniquel...      A_xenica_transfer_2  "
      ]
     },
     "execution_count": 271,
     "metadata": {},
     "output_type": "execute_result"
    }
   ],
   "source": [
    "rate.head()"
   ]
  },
  {
   "cell_type": "code",
   "execution_count": 272,
   "metadata": {},
   "outputs": [],
   "source": [
    "rate = rate[['replicate','species','STAR_genome_alignment_rate']]"
   ]
  },
  {
   "cell_type": "code",
   "execution_count": 273,
   "metadata": {},
   "outputs": [
    {
     "data": {
      "text/html": [
       "<div>\n",
       "<style scoped>\n",
       "    .dataframe tbody tr th:only-of-type {\n",
       "        vertical-align: middle;\n",
       "    }\n",
       "\n",
       "    .dataframe tbody tr th {\n",
       "        vertical-align: top;\n",
       "    }\n",
       "\n",
       "    .dataframe thead th {\n",
       "        text-align: right;\n",
       "    }\n",
       "</style>\n",
       "<table border=\"1\" class=\"dataframe\">\n",
       "  <thead>\n",
       "    <tr style=\"text-align: right;\">\n",
       "      <th></th>\n",
       "      <th>replicate</th>\n",
       "      <th>species</th>\n",
       "      <th>STAR_genome_alignment_rate</th>\n",
       "    </tr>\n",
       "  </thead>\n",
       "  <tbody>\n",
       "    <tr>\n",
       "      <th>0</th>\n",
       "      <td>F_notatus_transfer_1</td>\n",
       "      <td>F_notatus</td>\n",
       "      <td>59.60</td>\n",
       "    </tr>\n",
       "    <tr>\n",
       "      <th>1</th>\n",
       "      <td>F_chrysotus_BW_3</td>\n",
       "      <td>F_chrysotus</td>\n",
       "      <td>57.87</td>\n",
       "    </tr>\n",
       "    <tr>\n",
       "      <th>2</th>\n",
       "      <td>F_heteroclitusMDPL_FW_2</td>\n",
       "      <td>F_heteroclitusMDPL</td>\n",
       "      <td>82.16</td>\n",
       "    </tr>\n",
       "    <tr>\n",
       "      <th>3</th>\n",
       "      <td>F_grandis_FW_2</td>\n",
       "      <td>F_grandis</td>\n",
       "      <td>76.34</td>\n",
       "    </tr>\n",
       "    <tr>\n",
       "      <th>4</th>\n",
       "      <td>A_xenica_transfer_2</td>\n",
       "      <td>A_xenica</td>\n",
       "      <td>55.62</td>\n",
       "    </tr>\n",
       "  </tbody>\n",
       "</table>\n",
       "</div>"
      ],
      "text/plain": [
       "                 replicate             species  STAR_genome_alignment_rate\n",
       "0     F_notatus_transfer_1           F_notatus                       59.60\n",
       "1         F_chrysotus_BW_3         F_chrysotus                       57.87\n",
       "2  F_heteroclitusMDPL_FW_2  F_heteroclitusMDPL                       82.16\n",
       "3           F_grandis_FW_2           F_grandis                       76.34\n",
       "4      A_xenica_transfer_2            A_xenica                       55.62"
      ]
     },
     "execution_count": 273,
     "metadata": {},
     "output_type": "execute_result"
    }
   ],
   "source": [
    "rate.head()"
   ]
  },
  {
   "cell_type": "code",
   "execution_count": 274,
   "metadata": {},
   "outputs": [],
   "source": [
    "rate.species=pd.Categorical(rate.species,categories=arranged_x)"
   ]
  },
  {
   "cell_type": "code",
   "execution_count": 275,
   "metadata": {},
   "outputs": [],
   "source": [
    "rate_star = rate"
   ]
  },
  {
   "cell_type": "code",
   "execution_count": 277,
   "metadata": {},
   "outputs": [
    {
     "data": {
      "image/png": "[encoded data removed]",
      "text/plain": [
       "<Figure size 360x360 with 1 Axes>"
      ]
     },
     "metadata": {
      "needs_background": "light"
     },
     "output_type": "display_data"
    }
   ],
   "source": [
    "sns.catplot(x=\"species\", y=\"STAR_genome_alignment_rate\", jitter=False, data=rate_star);\n",
    "plt.xticks(rotation=90);"
   ]
  },
  {
   "cell_type": "markdown",
   "metadata": {},
   "source": [
    "# 5 alignment methods together"
   ]
  },
  {
   "cell_type": "code",
   "execution_count": 281,
   "metadata": {},
   "outputs": [
    {
     "data": {
      "image/png": "[encoded data removed]",
      "text/plain": [
       "<Figure size 360x360 with 1 Axes>"
      ]
     },
     "metadata": {
      "needs_background": "light"
     },
     "output_type": "display_data"
    },
    {
     "data": {
      "image/png": "[encoded data removed]",
      "text/plain": [
       "<Figure size 360x360 with 1 Axes>"
      ]
     },
     "metadata": {
      "needs_background": "light"
     },
     "output_type": "display_data"
    },
    {
     "data": {
      "image/png": "[encoded data removed]",
      "text/plain": [
       "<Figure size 360x360 with 1 Axes>"
      ]
     },
     "metadata": {
      "needs_background": "light"
     },
     "output_type": "display_data"
    },
    {
     "data": {
      "image/png": "[encoded data removed]",
      "text/plain": [
       "<Figure size 360x360 with 1 Axes>"
      ]
     },
     "metadata": {
      "needs_background": "light"
     },
     "output_type": "display_data"
    },
    {
     "data": {
      "image/png": "[encoded data removed]",
      "text/plain": [
       "<Figure size 360x360 with 1 Axes>"
      ]
     },
     "metadata": {
      "needs_background": "light"
     },
     "output_type": "display_data"
    }
   ],
   "source": [
    "sns.catplot(x=\"species\", y=\"salmon_alignment_rate\", jitter=False, data=df_salmon);\n",
    "plt.xticks(rotation=90);\n",
    "sns.catplot(x=\"species\", y=\"bwa_mem_genome_alignment_rate\", jitter=False, data=rate_bwa_genome);\n",
    "plt.xticks(rotation=90);\n",
    "sns.catplot(x=\"species\", y=\"bwa_mem_transcriptome_alignment_rate\", jitter=False, data=rate_bwa_transcriptome);\n",
    "plt.xticks(rotation=90);\n",
    "sns.catplot(x=\"species\", y=\"alignment_rate\", jitter=False, data=rate_hisat2);\n",
    "plt.xticks(rotation=90);\n",
    "sns.catplot(x=\"species\", y=\"STAR_genome_alignment_rate\", jitter=False, data=rate_star);\n",
    "plt.xticks(rotation=90);"
   ]
  },
  {
   "cell_type": "code",
   "execution_count": null,
   "metadata": {},
   "outputs": [],
   "source": []
  }
 ],
 "metadata": {
  "kernelspec": {
   "display_name": "Python 3",
   "language": "python",
   "name": "python3"
  },
  "language_info": {
   "codemirror_mode": {
    "name": "ipython",
    "version": 3
   },
   "file_extension": ".py",
   "mimetype": "text/x-python",
   "name": "python",
   "nbconvert_exporter": "python",
   "pygments_lexer": "ipython3",
   "version": "3.7.1"
  }
 },
 "nbformat": 4,
 "nbformat_minor": 2
}
