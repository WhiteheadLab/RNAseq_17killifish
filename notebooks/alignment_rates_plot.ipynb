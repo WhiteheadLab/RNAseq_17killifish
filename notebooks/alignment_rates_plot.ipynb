{
 "cells": [
  {
   "cell_type": "markdown",
   "metadata": {},
   "source": [
    "# Alignment rates of RNAseq reads to F. heteroclitus reference "
   ]
  },
  {
   "cell_type": "code",
   "execution_count": 2,
   "metadata": {},
   "outputs": [],
   "source": [
    "import os\n",
    "import pandas as pd\n",
    "import numpy as np\n",
    "import matplotlib.pyplot as plt\n",
    "import seaborn as sns"
   ]
  },
  {
   "cell_type": "markdown",
   "metadata": {},
   "source": [
    "# import jaccard distances from sourmash"
   ]
  },
  {
   "cell_type": "code",
   "execution_count": 3,
   "metadata": {},
   "outputs": [],
   "source": [
    "sourmash_comp_matrix = pd.read_csv(\"../evaluation/all_v_ncbi.cmp.csv\")"
   ]
  },
  {
   "cell_type": "code",
   "execution_count": 4,
   "metadata": {},
   "outputs": [],
   "source": [
    "rows = sourmash_comp_matrix.columns"
   ]
  },
  {
   "cell_type": "code",
   "execution_count": 5,
   "metadata": {},
   "outputs": [],
   "source": [
    "sourmash_comp_matrix = sourmash_comp_matrix.set_index(rows)"
   ]
  },
  {
   "cell_type": "code",
   "execution_count": 6,
   "metadata": {},
   "outputs": [],
   "source": [
    "sourmash_comp_matrix['species'] =  sourmash_comp_matrix.index.values"
   ]
  },
  {
   "cell_type": "code",
   "execution_count": 7,
   "metadata": {},
   "outputs": [],
   "source": [
    "species = sourmash_comp_matrix.species.str.split(\".\",n=1,expand=True)[0]"
   ]
  },
  {
   "cell_type": "code",
   "execution_count": 8,
   "metadata": {},
   "outputs": [],
   "source": [
    "sourmash_comp_matrix = sourmash_comp_matrix.set_index(species)\n",
    "sourmash_comp_matrix.index.name = 'species'"
   ]
  },
  {
   "cell_type": "code",
   "execution_count": 9,
   "metadata": {},
   "outputs": [],
   "source": [
    "x_axis_jaccard = sourmash_comp_matrix[['rna.fa']]"
   ]
  },
  {
   "cell_type": "code",
   "execution_count": 10,
   "metadata": {},
   "outputs": [],
   "source": [
    "x_axis_jaccard = x_axis_jaccard[:-1]"
   ]
  },
  {
   "cell_type": "code",
   "execution_count": 11,
   "metadata": {},
   "outputs": [],
   "source": [
    "x_axis_jaccard[['rna.fa']] = x_axis_jaccard[['rna.fa']].astype('float')"
   ]
  },
  {
   "cell_type": "code",
   "execution_count": 12,
   "metadata": {},
   "outputs": [
    {
     "data": {
      "text/html": [
       "<div>\n",
       "<style scoped>\n",
       "    .dataframe tbody tr th:only-of-type {\n",
       "        vertical-align: middle;\n",
       "    }\n",
       "\n",
       "    .dataframe tbody tr th {\n",
       "        vertical-align: top;\n",
       "    }\n",
       "\n",
       "    .dataframe thead th {\n",
       "        text-align: right;\n",
       "    }\n",
       "</style>\n",
       "<table border=\"1\" class=\"dataframe\">\n",
       "  <thead>\n",
       "    <tr style=\"text-align: right;\">\n",
       "      <th></th>\n",
       "      <th>rna.fa</th>\n",
       "    </tr>\n",
       "    <tr>\n",
       "      <th>species</th>\n",
       "      <th></th>\n",
       "    </tr>\n",
       "  </thead>\n",
       "  <tbody>\n",
       "    <tr>\n",
       "      <th>F_xenicus</th>\n",
       "      <td>0.065359</td>\n",
       "    </tr>\n",
       "    <tr>\n",
       "      <th>F_catenatus</th>\n",
       "      <td>0.109070</td>\n",
       "    </tr>\n",
       "    <tr>\n",
       "      <th>F_chrysotus</th>\n",
       "      <td>0.066424</td>\n",
       "    </tr>\n",
       "    <tr>\n",
       "      <th>F_diaphanus</th>\n",
       "      <td>0.114249</td>\n",
       "    </tr>\n",
       "    <tr>\n",
       "      <th>F_grandis</th>\n",
       "      <td>0.121405</td>\n",
       "    </tr>\n",
       "    <tr>\n",
       "      <th>F_heteroclitusMDPL</th>\n",
       "      <td>0.221701</td>\n",
       "    </tr>\n",
       "    <tr>\n",
       "      <th>F_heteroclitusMDPP</th>\n",
       "      <td>0.201000</td>\n",
       "    </tr>\n",
       "    <tr>\n",
       "      <th>F_notatus</th>\n",
       "      <td>0.073891</td>\n",
       "    </tr>\n",
       "    <tr>\n",
       "      <th>F_nottii</th>\n",
       "      <td>0.089826</td>\n",
       "    </tr>\n",
       "    <tr>\n",
       "      <th>F_olivaceus</th>\n",
       "      <td>0.078874</td>\n",
       "    </tr>\n",
       "    <tr>\n",
       "      <th>F_parvipinnis</th>\n",
       "      <td>0.050145</td>\n",
       "    </tr>\n",
       "    <tr>\n",
       "      <th>F_rathbuni</th>\n",
       "      <td>0.097641</td>\n",
       "    </tr>\n",
       "    <tr>\n",
       "      <th>F_sciadicus</th>\n",
       "      <td>0.084369</td>\n",
       "    </tr>\n",
       "    <tr>\n",
       "      <th>F_similis</th>\n",
       "      <td>0.065499</td>\n",
       "    </tr>\n",
       "    <tr>\n",
       "      <th>F_zebrinus</th>\n",
       "      <td>0.082327</td>\n",
       "    </tr>\n",
       "    <tr>\n",
       "      <th>L_goodei</th>\n",
       "      <td>0.054161</td>\n",
       "    </tr>\n",
       "    <tr>\n",
       "      <th>L_parva</th>\n",
       "      <td>0.053764</td>\n",
       "    </tr>\n",
       "  </tbody>\n",
       "</table>\n",
       "</div>"
      ],
      "text/plain": [
       "                      rna.fa\n",
       "species                     \n",
       "F_xenicus           0.065359\n",
       "F_catenatus         0.109070\n",
       "F_chrysotus         0.066424\n",
       "F_diaphanus         0.114249\n",
       "F_grandis           0.121405\n",
       "F_heteroclitusMDPL  0.221701\n",
       "F_heteroclitusMDPP  0.201000\n",
       "F_notatus           0.073891\n",
       "F_nottii            0.089826\n",
       "F_olivaceus         0.078874\n",
       "F_parvipinnis       0.050145\n",
       "F_rathbuni          0.097641\n",
       "F_sciadicus         0.084369\n",
       "F_similis           0.065499\n",
       "F_zebrinus          0.082327\n",
       "L_goodei            0.054161\n",
       "L_parva             0.053764"
      ]
     },
     "execution_count": 12,
     "metadata": {},
     "output_type": "execute_result"
    }
   ],
   "source": [
    "x_axis_jaccard"
   ]
  },
  {
   "cell_type": "markdown",
   "metadata": {},
   "source": [
    "# import alignment data"
   ]
  },
  {
   "cell_type": "code",
   "execution_count": 107,
   "metadata": {},
   "outputs": [],
   "source": [
    "alignment_rate_dir = \"../evaluation/alignment_rates_comparison/\"\n",
    "alignment_rate_files = os.listdir(alignment_rate_dir)"
   ]
  },
  {
   "cell_type": "code",
   "execution_count": 108,
   "metadata": {},
   "outputs": [
    {
     "data": {
      "text/plain": [
       "['bwa_genome_clipping_alignmentrates',\n",
       " 'bwa_genome_mismatchgap_alignrates',\n",
       " 'bwa_txome_clipping_alignrates',\n",
       " 'STAR_genome_alignmentrates',\n",
       " 'salmon_denovo_alignrates',\n",
       " 'bwa_txome_mismatchgap_alignrates',\n",
       " 'hisat2_genome_alignmentrate',\n",
       " 'bwa_genome_alignmentrates',\n",
       " 'bwa_transcriptome_alignmentrates',\n",
       " 'salmon_Fhet_alignrates']"
      ]
     },
     "execution_count": 108,
     "metadata": {},
     "output_type": "execute_result"
    }
   ],
   "source": [
    "alignment_rate_files"
   ]
  },
  {
   "cell_type": "markdown",
   "metadata": {},
   "source": [
    "# salmon with F. het NCBI transcriptoms"
   ]
  },
  {
   "cell_type": "code",
   "execution_count": 109,
   "metadata": {},
   "outputs": [
    {
     "name": "stderr",
     "output_type": "stream",
     "text": [
      "/Users/johnsolk/anaconda3/envs/jupyterpy3/lib/python3.7/site-packages/ipykernel_launcher.py:5: SettingWithCopyWarning: \n",
      "A value is trying to be set on a copy of a slice from a DataFrame.\n",
      "Try using .loc[row_indexer,col_indexer] = value instead\n",
      "\n",
      "See the caveats in the documentation: http://pandas.pydata.org/pandas-docs/stable/indexing.html#indexing-view-versus-copy\n",
      "  \"\"\"\n",
      "/Users/johnsolk/anaconda3/envs/jupyterpy3/lib/python3.7/site-packages/ipykernel_launcher.py:6: SettingWithCopyWarning: \n",
      "A value is trying to be set on a copy of a slice from a DataFrame.\n",
      "Try using .loc[row_indexer,col_indexer] = value instead\n",
      "\n",
      "See the caveats in the documentation: http://pandas.pydata.org/pandas-docs/stable/indexing.html#indexing-view-versus-copy\n",
      "  \n"
     ]
    }
   ],
   "source": [
    "salmon_file = alignment_rate_dir + \"salmon_Fhet_alignrates\"\n",
    "salmon_data = pd.read_csv(salmon_file,sep=\" \",header=None)\n",
    "rate = salmon_data[[0,7]]\n",
    "rate.columns = ['sample_info','perc_info']\n",
    "rate['salmon_alignment_rate'] = rate.perc_info.str.split('%',n=1,expand=True)[0]\n",
    "rate['sample'] = rate.sample_info.str.split(\"/\",n=2,expand=True)[1]\n",
    "df = rate[['sample','salmon_alignment_rate']]\n",
    "df = df.drop_duplicates(subset='sample', keep='first', inplace=False)\n",
    "df[['genus','species1','other1','other2']] = df['sample'].str.split('_',expand=True)\n",
    "df[\"species\"] = df[\"genus\"] + \"_\" + df[\"species1\"]\n",
    "df = df[['sample','species','salmon_alignment_rate']]\n",
    "df[['salmon_alignment_rate']] = df[['salmon_alignment_rate']].astype('float')"
   ]
  },
  {
   "cell_type": "code",
   "execution_count": 110,
   "metadata": {},
   "outputs": [],
   "source": [
    "# get mean and sd of df_salmon groupby species\n",
    "df_salmon_mean = df.groupby(\"species\")[\"salmon_alignment_rate\"].agg([np.mean, np.std])\n",
    "df_salmon_mean.columns = ['mean_salmonFhet','std_salmonFhet']"
   ]
  },
  {
   "cell_type": "code",
   "execution_count": 111,
   "metadata": {},
   "outputs": [],
   "source": [
    "# merge with jaccard distances from sourmash\n",
    "df_salmon = pd.merge(df_salmon_mean,x_axis_jaccard,on = \"species\")"
   ]
  },
  {
   "cell_type": "code",
   "execution_count": 112,
   "metadata": {},
   "outputs": [
    {
     "data": {
      "text/html": [
       "<div>\n",
       "<style scoped>\n",
       "    .dataframe tbody tr th:only-of-type {\n",
       "        vertical-align: middle;\n",
       "    }\n",
       "\n",
       "    .dataframe tbody tr th {\n",
       "        vertical-align: top;\n",
       "    }\n",
       "\n",
       "    .dataframe thead th {\n",
       "        text-align: right;\n",
       "    }\n",
       "</style>\n",
       "<table border=\"1\" class=\"dataframe\">\n",
       "  <thead>\n",
       "    <tr style=\"text-align: right;\">\n",
       "      <th></th>\n",
       "      <th>mean_salmonFhet</th>\n",
       "      <th>std_salmonFhet</th>\n",
       "      <th>rna.fa</th>\n",
       "    </tr>\n",
       "    <tr>\n",
       "      <th>species</th>\n",
       "      <th></th>\n",
       "      <th></th>\n",
       "      <th></th>\n",
       "    </tr>\n",
       "  </thead>\n",
       "  <tbody>\n",
       "    <tr>\n",
       "      <th>F_catenatus</th>\n",
       "      <td>59.184429</td>\n",
       "      <td>4.343153</td>\n",
       "      <td>0.109070</td>\n",
       "    </tr>\n",
       "    <tr>\n",
       "      <th>F_chrysotus</th>\n",
       "      <td>54.770188</td>\n",
       "      <td>1.296955</td>\n",
       "      <td>0.066424</td>\n",
       "    </tr>\n",
       "    <tr>\n",
       "      <th>F_diaphanus</th>\n",
       "      <td>61.246000</td>\n",
       "      <td>2.470607</td>\n",
       "      <td>0.114249</td>\n",
       "    </tr>\n",
       "    <tr>\n",
       "      <th>F_grandis</th>\n",
       "      <td>57.420867</td>\n",
       "      <td>12.006247</td>\n",
       "      <td>0.121405</td>\n",
       "    </tr>\n",
       "    <tr>\n",
       "      <th>F_heteroclitusMDPL</th>\n",
       "      <td>64.552211</td>\n",
       "      <td>5.273074</td>\n",
       "      <td>0.221701</td>\n",
       "    </tr>\n",
       "    <tr>\n",
       "      <th>F_heteroclitusMDPP</th>\n",
       "      <td>65.770489</td>\n",
       "      <td>4.722945</td>\n",
       "      <td>0.201000</td>\n",
       "    </tr>\n",
       "    <tr>\n",
       "      <th>F_notatus</th>\n",
       "      <td>56.591278</td>\n",
       "      <td>2.152217</td>\n",
       "      <td>0.073891</td>\n",
       "    </tr>\n",
       "    <tr>\n",
       "      <th>F_nottii</th>\n",
       "      <td>55.099800</td>\n",
       "      <td>NaN</td>\n",
       "      <td>0.089826</td>\n",
       "    </tr>\n",
       "    <tr>\n",
       "      <th>F_olivaceus</th>\n",
       "      <td>55.028838</td>\n",
       "      <td>3.442983</td>\n",
       "      <td>0.078874</td>\n",
       "    </tr>\n",
       "    <tr>\n",
       "      <th>F_parvipinnis</th>\n",
       "      <td>43.424457</td>\n",
       "      <td>1.804062</td>\n",
       "      <td>0.050145</td>\n",
       "    </tr>\n",
       "    <tr>\n",
       "      <th>F_rathbuni</th>\n",
       "      <td>61.714956</td>\n",
       "      <td>1.894362</td>\n",
       "      <td>0.097641</td>\n",
       "    </tr>\n",
       "    <tr>\n",
       "      <th>F_sciadicus</th>\n",
       "      <td>56.682275</td>\n",
       "      <td>1.876854</td>\n",
       "      <td>0.084369</td>\n",
       "    </tr>\n",
       "    <tr>\n",
       "      <th>F_similis</th>\n",
       "      <td>48.177767</td>\n",
       "      <td>4.917644</td>\n",
       "      <td>0.065499</td>\n",
       "    </tr>\n",
       "    <tr>\n",
       "      <th>F_xenicus</th>\n",
       "      <td>55.375100</td>\n",
       "      <td>2.010143</td>\n",
       "      <td>0.065359</td>\n",
       "    </tr>\n",
       "    <tr>\n",
       "      <th>F_zebrinus</th>\n",
       "      <td>52.972925</td>\n",
       "      <td>3.926850</td>\n",
       "      <td>0.082327</td>\n",
       "    </tr>\n",
       "    <tr>\n",
       "      <th>L_goodei</th>\n",
       "      <td>46.687689</td>\n",
       "      <td>2.752060</td>\n",
       "      <td>0.054161</td>\n",
       "    </tr>\n",
       "    <tr>\n",
       "      <th>L_parva</th>\n",
       "      <td>49.292456</td>\n",
       "      <td>4.072149</td>\n",
       "      <td>0.053764</td>\n",
       "    </tr>\n",
       "  </tbody>\n",
       "</table>\n",
       "</div>"
      ],
      "text/plain": [
       "                    mean_salmonFhet  std_salmonFhet    rna.fa\n",
       "species                                                      \n",
       "F_catenatus               59.184429        4.343153  0.109070\n",
       "F_chrysotus               54.770188        1.296955  0.066424\n",
       "F_diaphanus               61.246000        2.470607  0.114249\n",
       "F_grandis                 57.420867       12.006247  0.121405\n",
       "F_heteroclitusMDPL        64.552211        5.273074  0.221701\n",
       "F_heteroclitusMDPP        65.770489        4.722945  0.201000\n",
       "F_notatus                 56.591278        2.152217  0.073891\n",
       "F_nottii                  55.099800             NaN  0.089826\n",
       "F_olivaceus               55.028838        3.442983  0.078874\n",
       "F_parvipinnis             43.424457        1.804062  0.050145\n",
       "F_rathbuni                61.714956        1.894362  0.097641\n",
       "F_sciadicus               56.682275        1.876854  0.084369\n",
       "F_similis                 48.177767        4.917644  0.065499\n",
       "F_xenicus                 55.375100        2.010143  0.065359\n",
       "F_zebrinus                52.972925        3.926850  0.082327\n",
       "L_goodei                  46.687689        2.752060  0.054161\n",
       "L_parva                   49.292456        4.072149  0.053764"
      ]
     },
     "execution_count": 112,
     "metadata": {},
     "output_type": "execute_result"
    }
   ],
   "source": [
    "df_salmon"
   ]
  },
  {
   "cell_type": "markdown",
   "metadata": {},
   "source": [
    "# salmon with species-specific de novo transcriptomes"
   ]
  },
  {
   "cell_type": "code",
   "execution_count": 113,
   "metadata": {},
   "outputs": [
    {
     "name": "stderr",
     "output_type": "stream",
     "text": [
      "/Users/johnsolk/anaconda3/envs/jupyterpy3/lib/python3.7/site-packages/ipykernel_launcher.py:5: SettingWithCopyWarning: \n",
      "A value is trying to be set on a copy of a slice from a DataFrame.\n",
      "Try using .loc[row_indexer,col_indexer] = value instead\n",
      "\n",
      "See the caveats in the documentation: http://pandas.pydata.org/pandas-docs/stable/indexing.html#indexing-view-versus-copy\n",
      "  \"\"\"\n",
      "/Users/johnsolk/anaconda3/envs/jupyterpy3/lib/python3.7/site-packages/ipykernel_launcher.py:6: SettingWithCopyWarning: \n",
      "A value is trying to be set on a copy of a slice from a DataFrame.\n",
      "Try using .loc[row_indexer,col_indexer] = value instead\n",
      "\n",
      "See the caveats in the documentation: http://pandas.pydata.org/pandas-docs/stable/indexing.html#indexing-view-versus-copy\n",
      "  \n"
     ]
    }
   ],
   "source": [
    "salmon_file = alignment_rate_dir + \"salmon_denovo_alignrates\"\n",
    "salmon_data = pd.read_csv(salmon_file,sep=\" \",header=None)\n",
    "rate = salmon_data[[0,7]]\n",
    "rate.columns = ['sample_info','perc_info']\n",
    "rate['salmon_alignment_rate'] = rate.perc_info.str.split('%',n=1,expand=True)[0]\n",
    "rate['sample'] = rate.sample_info.str.split(\"/\",n=2,expand=True)[1]\n",
    "df = rate[['sample','salmon_alignment_rate']]\n",
    "df = df.drop_duplicates(subset='sample', keep='first', inplace=False)\n",
    "df[['genus','species1','other1','other2']] = df['sample'].str.split('_',expand=True)\n",
    "df[\"species\"] = df[\"genus\"] + \"_\" + df[\"species1\"]\n",
    "df = df[['sample','species','salmon_alignment_rate']]\n",
    "df[['salmon_alignment_rate']] = df[['salmon_alignment_rate']].astype('float')"
   ]
  },
  {
   "cell_type": "code",
   "execution_count": 114,
   "metadata": {},
   "outputs": [],
   "source": [
    "# get mean and sd of df_salmon groupby species\n",
    "df_salmon_mean = df.groupby(\"species\")[\"salmon_alignment_rate\"].agg([np.mean, np.std])\n",
    "df_salmon_mean.columns = ['mean_salmondenovo','std_salmondenovo']"
   ]
  },
  {
   "cell_type": "code",
   "execution_count": 115,
   "metadata": {},
   "outputs": [],
   "source": [
    "df_salmon_denovo = pd.merge(df_salmon_mean,x_axis_jaccard,on = \"species\")"
   ]
  },
  {
   "cell_type": "code",
   "execution_count": 116,
   "metadata": {},
   "outputs": [
    {
     "data": {
      "text/html": [
       "<div>\n",
       "<style scoped>\n",
       "    .dataframe tbody tr th:only-of-type {\n",
       "        vertical-align: middle;\n",
       "    }\n",
       "\n",
       "    .dataframe tbody tr th {\n",
       "        vertical-align: top;\n",
       "    }\n",
       "\n",
       "    .dataframe thead th {\n",
       "        text-align: right;\n",
       "    }\n",
       "</style>\n",
       "<table border=\"1\" class=\"dataframe\">\n",
       "  <thead>\n",
       "    <tr style=\"text-align: right;\">\n",
       "      <th></th>\n",
       "      <th>mean_salmondenovo</th>\n",
       "      <th>std_salmondenovo</th>\n",
       "      <th>rna.fa</th>\n",
       "    </tr>\n",
       "    <tr>\n",
       "      <th>species</th>\n",
       "      <th></th>\n",
       "      <th></th>\n",
       "      <th></th>\n",
       "    </tr>\n",
       "  </thead>\n",
       "  <tbody>\n",
       "    <tr>\n",
       "      <th>F_catenatus</th>\n",
       "      <td>81.182980</td>\n",
       "      <td>2.615629</td>\n",
       "      <td>0.109070</td>\n",
       "    </tr>\n",
       "    <tr>\n",
       "      <th>F_chrysotus</th>\n",
       "      <td>81.800800</td>\n",
       "      <td>0.974929</td>\n",
       "      <td>0.066424</td>\n",
       "    </tr>\n",
       "    <tr>\n",
       "      <th>F_diaphanus</th>\n",
       "      <td>80.270933</td>\n",
       "      <td>1.800028</td>\n",
       "      <td>0.114249</td>\n",
       "    </tr>\n",
       "    <tr>\n",
       "      <th>F_grandis</th>\n",
       "      <td>74.955256</td>\n",
       "      <td>1.485886</td>\n",
       "      <td>0.121405</td>\n",
       "    </tr>\n",
       "    <tr>\n",
       "      <th>F_heteroclitusMDPL</th>\n",
       "      <td>75.755189</td>\n",
       "      <td>2.042814</td>\n",
       "      <td>0.221701</td>\n",
       "    </tr>\n",
       "    <tr>\n",
       "      <th>F_heteroclitusMDPP</th>\n",
       "      <td>74.023778</td>\n",
       "      <td>3.181816</td>\n",
       "      <td>0.201000</td>\n",
       "    </tr>\n",
       "    <tr>\n",
       "      <th>F_notatus</th>\n",
       "      <td>81.458678</td>\n",
       "      <td>1.289989</td>\n",
       "      <td>0.073891</td>\n",
       "    </tr>\n",
       "    <tr>\n",
       "      <th>F_nottii</th>\n",
       "      <td>81.702600</td>\n",
       "      <td>NaN</td>\n",
       "      <td>0.089826</td>\n",
       "    </tr>\n",
       "    <tr>\n",
       "      <th>F_olivaceus</th>\n",
       "      <td>82.859237</td>\n",
       "      <td>1.403167</td>\n",
       "      <td>0.078874</td>\n",
       "    </tr>\n",
       "    <tr>\n",
       "      <th>F_parvipinnis</th>\n",
       "      <td>83.153300</td>\n",
       "      <td>1.590271</td>\n",
       "      <td>0.050145</td>\n",
       "    </tr>\n",
       "    <tr>\n",
       "      <th>F_rathbuni</th>\n",
       "      <td>82.010856</td>\n",
       "      <td>1.775989</td>\n",
       "      <td>0.097641</td>\n",
       "    </tr>\n",
       "    <tr>\n",
       "      <th>F_sciadicus</th>\n",
       "      <td>82.068325</td>\n",
       "      <td>2.058371</td>\n",
       "      <td>0.084369</td>\n",
       "    </tr>\n",
       "    <tr>\n",
       "      <th>F_similis</th>\n",
       "      <td>75.993111</td>\n",
       "      <td>1.477629</td>\n",
       "      <td>0.065499</td>\n",
       "    </tr>\n",
       "    <tr>\n",
       "      <th>F_xenicus</th>\n",
       "      <td>82.434400</td>\n",
       "      <td>2.554720</td>\n",
       "      <td>0.065359</td>\n",
       "    </tr>\n",
       "    <tr>\n",
       "      <th>F_zebrinus</th>\n",
       "      <td>81.141075</td>\n",
       "      <td>4.547584</td>\n",
       "      <td>0.082327</td>\n",
       "    </tr>\n",
       "    <tr>\n",
       "      <th>L_goodei</th>\n",
       "      <td>77.046000</td>\n",
       "      <td>2.031459</td>\n",
       "      <td>0.054161</td>\n",
       "    </tr>\n",
       "    <tr>\n",
       "      <th>L_parva</th>\n",
       "      <td>80.816611</td>\n",
       "      <td>1.434253</td>\n",
       "      <td>0.053764</td>\n",
       "    </tr>\n",
       "  </tbody>\n",
       "</table>\n",
       "</div>"
      ],
      "text/plain": [
       "                    mean_salmondenovo  std_salmondenovo    rna.fa\n",
       "species                                                          \n",
       "F_catenatus                 81.182980          2.615629  0.109070\n",
       "F_chrysotus                 81.800800          0.974929  0.066424\n",
       "F_diaphanus                 80.270933          1.800028  0.114249\n",
       "F_grandis                   74.955256          1.485886  0.121405\n",
       "F_heteroclitusMDPL          75.755189          2.042814  0.221701\n",
       "F_heteroclitusMDPP          74.023778          3.181816  0.201000\n",
       "F_notatus                   81.458678          1.289989  0.073891\n",
       "F_nottii                    81.702600               NaN  0.089826\n",
       "F_olivaceus                 82.859237          1.403167  0.078874\n",
       "F_parvipinnis               83.153300          1.590271  0.050145\n",
       "F_rathbuni                  82.010856          1.775989  0.097641\n",
       "F_sciadicus                 82.068325          2.058371  0.084369\n",
       "F_similis                   75.993111          1.477629  0.065499\n",
       "F_xenicus                   82.434400          2.554720  0.065359\n",
       "F_zebrinus                  81.141075          4.547584  0.082327\n",
       "L_goodei                    77.046000          2.031459  0.054161\n",
       "L_parva                     80.816611          1.434253  0.053764"
      ]
     },
     "execution_count": 116,
     "metadata": {},
     "output_type": "execute_result"
    }
   ],
   "source": [
    "df_salmon_denovo"
   ]
  },
  {
   "cell_type": "markdown",
   "metadata": {},
   "source": [
    "# hisat2"
   ]
  },
  {
   "cell_type": "code",
   "execution_count": 117,
   "metadata": {},
   "outputs": [],
   "source": [
    "# I know the files are labeled STAR, this was a typo in my script that named all my jobs with \"STAR\" prior to running on hpc"
   ]
  },
  {
   "cell_type": "code",
   "execution_count": 118,
   "metadata": {},
   "outputs": [],
   "source": [
    "hisat2_file = alignment_rate_dir + \"hisat2_genome_alignmentrate\"\n",
    "hisat2_data = pd.read_csv(hisat2_file,sep=\" \",header=None)"
   ]
  },
  {
   "cell_type": "code",
   "execution_count": 119,
   "metadata": {},
   "outputs": [
    {
     "name": "stderr",
     "output_type": "stream",
     "text": [
      "/Users/johnsolk/anaconda3/envs/jupyterpy3/lib/python3.7/site-packages/ipykernel_launcher.py:3: SettingWithCopyWarning: \n",
      "A value is trying to be set on a copy of a slice from a DataFrame.\n",
      "Try using .loc[row_indexer,col_indexer] = value instead\n",
      "\n",
      "See the caveats in the documentation: http://pandas.pydata.org/pandas-docs/stable/indexing.html#indexing-view-versus-copy\n",
      "  This is separate from the ipykernel package so we can avoid doing imports until\n",
      "/Users/johnsolk/anaconda3/envs/jupyterpy3/lib/python3.7/site-packages/ipykernel_launcher.py:4: SettingWithCopyWarning: \n",
      "A value is trying to be set on a copy of a slice from a DataFrame.\n",
      "Try using .loc[row_indexer,col_indexer] = value instead\n",
      "\n",
      "See the caveats in the documentation: http://pandas.pydata.org/pandas-docs/stable/indexing.html#indexing-view-versus-copy\n",
      "  after removing the cwd from sys.path.\n"
     ]
    }
   ],
   "source": [
    "rate = hisat2_data[[0]]\n",
    "rate.columns = ['sample_info']\n",
    "rate['hisat2_alignment_rate'] = rate.sample_info.str.split(':',n=1,expand=True)[1]\n",
    "rate['samples'] = rate.sample_info.str.split(\":\",n=1,expand=True)[0]"
   ]
  },
  {
   "cell_type": "code",
   "execution_count": 120,
   "metadata": {},
   "outputs": [],
   "source": [
    "rate['sample'] = rate.samples.str.split(\"/\",n=2,expand=True)[1]"
   ]
  },
  {
   "cell_type": "code",
   "execution_count": 121,
   "metadata": {},
   "outputs": [],
   "source": [
    "rate[['star','genus','species1','condition','other1']] = rate['sample'].str.split('_',expand=True)"
   ]
  },
  {
   "cell_type": "code",
   "execution_count": 122,
   "metadata": {},
   "outputs": [],
   "source": [
    "rate[\"species\"] = rate[\"genus\"] + \"_\" + rate[\"species1\"]"
   ]
  },
  {
   "cell_type": "code",
   "execution_count": 123,
   "metadata": {},
   "outputs": [],
   "source": [
    "rate['replicate'] = rate['genus'] + \"_\" + rate['species1'] + \"_\" + rate['condition'] + \"_\" + rate['other1'].str.split(\"-\",expand=True)[0]"
   ]
  },
  {
   "cell_type": "code",
   "execution_count": 124,
   "metadata": {},
   "outputs": [],
   "source": [
    "rate['alignment_rate'] = rate['hisat2_alignment_rate'].str.split(\"%\",expand=True)[0]"
   ]
  },
  {
   "cell_type": "code",
   "execution_count": 125,
   "metadata": {},
   "outputs": [],
   "source": [
    "rate = rate[['replicate','species','alignment_rate']]"
   ]
  },
  {
   "cell_type": "code",
   "execution_count": 126,
   "metadata": {},
   "outputs": [],
   "source": [
    "rate[['alignment_rate']] = rate[['alignment_rate']].astype('float')"
   ]
  },
  {
   "cell_type": "code",
   "execution_count": 127,
   "metadata": {},
   "outputs": [],
   "source": [
    "# get mean and sd of df_salmon groupby species\n",
    "df_hisat2_mean = rate.groupby(\"species\")[\"alignment_rate\"].agg([np.mean, np.std])\n",
    "df_hisat2_mean.columns = ['mean_hisat2','std_hisat2']"
   ]
  },
  {
   "cell_type": "code",
   "execution_count": 128,
   "metadata": {},
   "outputs": [],
   "source": [
    "df_hisat2 = pd.merge(df_hisat2_mean,x_axis_jaccard,on = \"species\")"
   ]
  },
  {
   "cell_type": "code",
   "execution_count": 129,
   "metadata": {},
   "outputs": [
    {
     "data": {
      "text/html": [
       "<div>\n",
       "<style scoped>\n",
       "    .dataframe tbody tr th:only-of-type {\n",
       "        vertical-align: middle;\n",
       "    }\n",
       "\n",
       "    .dataframe tbody tr th {\n",
       "        vertical-align: top;\n",
       "    }\n",
       "\n",
       "    .dataframe thead th {\n",
       "        text-align: right;\n",
       "    }\n",
       "</style>\n",
       "<table border=\"1\" class=\"dataframe\">\n",
       "  <thead>\n",
       "    <tr style=\"text-align: right;\">\n",
       "      <th></th>\n",
       "      <th>mean_hisat2</th>\n",
       "      <th>std_hisat2</th>\n",
       "      <th>rna.fa</th>\n",
       "    </tr>\n",
       "    <tr>\n",
       "      <th>species</th>\n",
       "      <th></th>\n",
       "      <th></th>\n",
       "      <th></th>\n",
       "    </tr>\n",
       "  </thead>\n",
       "  <tbody>\n",
       "    <tr>\n",
       "      <th>F_catenatus</th>\n",
       "      <td>48.815714</td>\n",
       "      <td>1.183960</td>\n",
       "      <td>0.109070</td>\n",
       "    </tr>\n",
       "    <tr>\n",
       "      <th>F_chrysotus</th>\n",
       "      <td>32.077500</td>\n",
       "      <td>1.028477</td>\n",
       "      <td>0.066424</td>\n",
       "    </tr>\n",
       "    <tr>\n",
       "      <th>F_diaphanus</th>\n",
       "      <td>49.873333</td>\n",
       "      <td>2.151712</td>\n",
       "      <td>0.114249</td>\n",
       "    </tr>\n",
       "    <tr>\n",
       "      <th>F_grandis</th>\n",
       "      <td>63.860000</td>\n",
       "      <td>1.497030</td>\n",
       "      <td>0.121405</td>\n",
       "    </tr>\n",
       "    <tr>\n",
       "      <th>F_heteroclitusMDPL</th>\n",
       "      <td>76.278889</td>\n",
       "      <td>2.315974</td>\n",
       "      <td>0.221701</td>\n",
       "    </tr>\n",
       "    <tr>\n",
       "      <th>F_heteroclitusMDPP</th>\n",
       "      <td>77.720000</td>\n",
       "      <td>2.681832</td>\n",
       "      <td>0.201000</td>\n",
       "    </tr>\n",
       "    <tr>\n",
       "      <th>F_notatus</th>\n",
       "      <td>36.821111</td>\n",
       "      <td>0.987743</td>\n",
       "      <td>0.073891</td>\n",
       "    </tr>\n",
       "    <tr>\n",
       "      <th>F_nottii</th>\n",
       "      <td>32.405000</td>\n",
       "      <td>0.162635</td>\n",
       "      <td>0.089826</td>\n",
       "    </tr>\n",
       "    <tr>\n",
       "      <th>F_olivaceus</th>\n",
       "      <td>36.528750</td>\n",
       "      <td>0.816848</td>\n",
       "      <td>0.078874</td>\n",
       "    </tr>\n",
       "    <tr>\n",
       "      <th>F_parvipinnis</th>\n",
       "      <td>26.710000</td>\n",
       "      <td>3.121263</td>\n",
       "      <td>0.050145</td>\n",
       "    </tr>\n",
       "    <tr>\n",
       "      <th>F_rathbuni</th>\n",
       "      <td>49.791111</td>\n",
       "      <td>1.988815</td>\n",
       "      <td>0.097641</td>\n",
       "    </tr>\n",
       "    <tr>\n",
       "      <th>F_sciadicus</th>\n",
       "      <td>35.585000</td>\n",
       "      <td>1.453513</td>\n",
       "      <td>0.084369</td>\n",
       "    </tr>\n",
       "    <tr>\n",
       "      <th>F_similis</th>\n",
       "      <td>36.833333</td>\n",
       "      <td>2.335974</td>\n",
       "      <td>0.065499</td>\n",
       "    </tr>\n",
       "    <tr>\n",
       "      <th>F_xenicus</th>\n",
       "      <td>31.456667</td>\n",
       "      <td>0.950761</td>\n",
       "      <td>0.065359</td>\n",
       "    </tr>\n",
       "    <tr>\n",
       "      <th>F_zebrinus</th>\n",
       "      <td>34.647500</td>\n",
       "      <td>0.983713</td>\n",
       "      <td>0.082327</td>\n",
       "    </tr>\n",
       "    <tr>\n",
       "      <th>L_goodei</th>\n",
       "      <td>29.051111</td>\n",
       "      <td>2.227467</td>\n",
       "      <td>0.054161</td>\n",
       "    </tr>\n",
       "    <tr>\n",
       "      <th>L_parva</th>\n",
       "      <td>27.895556</td>\n",
       "      <td>1.647818</td>\n",
       "      <td>0.053764</td>\n",
       "    </tr>\n",
       "  </tbody>\n",
       "</table>\n",
       "</div>"
      ],
      "text/plain": [
       "                    mean_hisat2  std_hisat2    rna.fa\n",
       "species                                              \n",
       "F_catenatus           48.815714    1.183960  0.109070\n",
       "F_chrysotus           32.077500    1.028477  0.066424\n",
       "F_diaphanus           49.873333    2.151712  0.114249\n",
       "F_grandis             63.860000    1.497030  0.121405\n",
       "F_heteroclitusMDPL    76.278889    2.315974  0.221701\n",
       "F_heteroclitusMDPP    77.720000    2.681832  0.201000\n",
       "F_notatus             36.821111    0.987743  0.073891\n",
       "F_nottii              32.405000    0.162635  0.089826\n",
       "F_olivaceus           36.528750    0.816848  0.078874\n",
       "F_parvipinnis         26.710000    3.121263  0.050145\n",
       "F_rathbuni            49.791111    1.988815  0.097641\n",
       "F_sciadicus           35.585000    1.453513  0.084369\n",
       "F_similis             36.833333    2.335974  0.065499\n",
       "F_xenicus             31.456667    0.950761  0.065359\n",
       "F_zebrinus            34.647500    0.983713  0.082327\n",
       "L_goodei              29.051111    2.227467  0.054161\n",
       "L_parva               27.895556    1.647818  0.053764"
      ]
     },
     "execution_count": 129,
     "metadata": {},
     "output_type": "execute_result"
    }
   ],
   "source": [
    "df_hisat2"
   ]
  },
  {
   "cell_type": "markdown",
   "metadata": {},
   "source": [
    "# bwa mem genome"
   ]
  },
  {
   "cell_type": "code",
   "execution_count": 36,
   "metadata": {},
   "outputs": [],
   "source": [
    "bwagenome_file = alignment_rate_dir + \"bwa_genome_alignmentrates\"\n",
    "bwagenome_data = pd.read_csv(bwagenome_file,sep=\" \",header=None)"
   ]
  },
  {
   "cell_type": "code",
   "execution_count": 37,
   "metadata": {},
   "outputs": [
    {
     "name": "stderr",
     "output_type": "stream",
     "text": [
      "/Users/johnsolk/anaconda3/envs/jupyterpy3/lib/python3.7/site-packages/ipykernel_launcher.py:3: SettingWithCopyWarning: \n",
      "A value is trying to be set on a copy of a slice from a DataFrame.\n",
      "Try using .loc[row_indexer,col_indexer] = value instead\n",
      "\n",
      "See the caveats in the documentation: http://pandas.pydata.org/pandas-docs/stable/indexing.html#indexing-view-versus-copy\n",
      "  This is separate from the ipykernel package so we can avoid doing imports until\n",
      "/Users/johnsolk/anaconda3/envs/jupyterpy3/lib/python3.7/site-packages/ipykernel_launcher.py:4: SettingWithCopyWarning: \n",
      "A value is trying to be set on a copy of a slice from a DataFrame.\n",
      "Try using .loc[row_indexer,col_indexer] = value instead\n",
      "\n",
      "See the caveats in the documentation: http://pandas.pydata.org/pandas-docs/stable/indexing.html#indexing-view-versus-copy\n",
      "  after removing the cwd from sys.path.\n"
     ]
    }
   ],
   "source": [
    "rate = bwagenome_data[[0,4]]\n",
    "rate.columns = ['sample_info','perc_info']\n",
    "rate['bwagenome_alignment_rate'] = rate.perc_info.str.split('(',n=1,expand=True)[1]\n",
    "rate['samples'] = rate.sample_info.str.split(\"/\",n=2,expand=True)[1]"
   ]
  },
  {
   "cell_type": "code",
   "execution_count": 38,
   "metadata": {},
   "outputs": [
    {
     "name": "stderr",
     "output_type": "stream",
     "text": [
      "/Users/johnsolk/anaconda3/envs/jupyterpy3/lib/python3.7/site-packages/ipykernel_launcher.py:1: SettingWithCopyWarning: \n",
      "A value is trying to be set on a copy of a slice from a DataFrame.\n",
      "Try using .loc[row_indexer,col_indexer] = value instead\n",
      "\n",
      "See the caveats in the documentation: http://pandas.pydata.org/pandas-docs/stable/indexing.html#indexing-view-versus-copy\n",
      "  \"\"\"Entry point for launching an IPython kernel.\n"
     ]
    }
   ],
   "source": [
    "rate['replicate'] = rate.samples.str.split(\".\",n=2,expand=True)[0]"
   ]
  },
  {
   "cell_type": "code",
   "execution_count": 39,
   "metadata": {},
   "outputs": [
    {
     "name": "stderr",
     "output_type": "stream",
     "text": [
      "/Users/johnsolk/anaconda3/envs/jupyterpy3/lib/python3.7/site-packages/ipykernel_launcher.py:1: SettingWithCopyWarning: \n",
      "A value is trying to be set on a copy of a slice from a DataFrame.\n",
      "Try using .loc[row_indexer,col_indexer] = value instead\n",
      "\n",
      "See the caveats in the documentation: http://pandas.pydata.org/pandas-docs/stable/indexing.html#indexing-view-versus-copy\n",
      "  \"\"\"Entry point for launching an IPython kernel.\n"
     ]
    }
   ],
   "source": [
    "rate['species'] = rate.samples.str.split(\"_\",n=4,expand=True)[0] + \"_\" + rate.samples.str.split(\"_\",n=4,expand=True)[1] "
   ]
  },
  {
   "cell_type": "code",
   "execution_count": 40,
   "metadata": {},
   "outputs": [],
   "source": [
    "rate['bwa_mem_genome_alignment_rate'] = rate.bwagenome_alignment_rate.str.split(\"%\",n=1,expand=True)[0].astype('float')"
   ]
  },
  {
   "cell_type": "code",
   "execution_count": 41,
   "metadata": {},
   "outputs": [],
   "source": [
    "rate = rate[['replicate','species','bwa_mem_genome_alignment_rate']]"
   ]
  },
  {
   "cell_type": "code",
   "execution_count": 42,
   "metadata": {},
   "outputs": [],
   "source": [
    "# get mean and sd of df_salmon groupby species\n",
    "df_bwamemgenome_mean = rate.groupby(\"species\")[\"bwa_mem_genome_alignment_rate\"].agg([np.mean, np.std])\n",
    "df_bwamemgenome_mean.columns = ['mean_bwamem_genome','std_bwamem_genome']"
   ]
  },
  {
   "cell_type": "code",
   "execution_count": 43,
   "metadata": {},
   "outputs": [],
   "source": [
    "df_bwamemgenome = pd.merge(df_bwamemgenome_mean,x_axis_jaccard,on = \"species\")"
   ]
  },
  {
   "cell_type": "code",
   "execution_count": 44,
   "metadata": {},
   "outputs": [
    {
     "data": {
      "text/html": [
       "<div>\n",
       "<style scoped>\n",
       "    .dataframe tbody tr th:only-of-type {\n",
       "        vertical-align: middle;\n",
       "    }\n",
       "\n",
       "    .dataframe tbody tr th {\n",
       "        vertical-align: top;\n",
       "    }\n",
       "\n",
       "    .dataframe thead th {\n",
       "        text-align: right;\n",
       "    }\n",
       "</style>\n",
       "<table border=\"1\" class=\"dataframe\">\n",
       "  <thead>\n",
       "    <tr style=\"text-align: right;\">\n",
       "      <th></th>\n",
       "      <th>mean_bwamem_genome</th>\n",
       "      <th>std_bwamem_genome</th>\n",
       "      <th>rna.fa</th>\n",
       "    </tr>\n",
       "    <tr>\n",
       "      <th>species</th>\n",
       "      <th></th>\n",
       "      <th></th>\n",
       "      <th></th>\n",
       "    </tr>\n",
       "  </thead>\n",
       "  <tbody>\n",
       "    <tr>\n",
       "      <th>F_chrysotus</th>\n",
       "      <td>91.680000</td>\n",
       "      <td>0.478271</td>\n",
       "      <td>0.066424</td>\n",
       "    </tr>\n",
       "    <tr>\n",
       "      <th>F_diaphanus</th>\n",
       "      <td>94.965000</td>\n",
       "      <td>0.374206</td>\n",
       "      <td>0.114249</td>\n",
       "    </tr>\n",
       "    <tr>\n",
       "      <th>F_grandis</th>\n",
       "      <td>95.662500</td>\n",
       "      <td>0.428477</td>\n",
       "      <td>0.121405</td>\n",
       "    </tr>\n",
       "    <tr>\n",
       "      <th>F_heteroclitusMDPL</th>\n",
       "      <td>96.248889</td>\n",
       "      <td>0.788344</td>\n",
       "      <td>0.221701</td>\n",
       "    </tr>\n",
       "    <tr>\n",
       "      <th>F_heteroclitusMDPP</th>\n",
       "      <td>96.134444</td>\n",
       "      <td>0.781747</td>\n",
       "      <td>0.201000</td>\n",
       "    </tr>\n",
       "    <tr>\n",
       "      <th>F_notatus</th>\n",
       "      <td>93.255000</td>\n",
       "      <td>0.605876</td>\n",
       "      <td>0.073891</td>\n",
       "    </tr>\n",
       "    <tr>\n",
       "      <th>F_rathbuni</th>\n",
       "      <td>95.573750</td>\n",
       "      <td>0.700692</td>\n",
       "      <td>0.097641</td>\n",
       "    </tr>\n",
       "    <tr>\n",
       "      <th>F_sciadicus</th>\n",
       "      <td>92.660000</td>\n",
       "      <td>0.441588</td>\n",
       "      <td>0.084369</td>\n",
       "    </tr>\n",
       "    <tr>\n",
       "      <th>F_similis</th>\n",
       "      <td>91.680000</td>\n",
       "      <td>0.479114</td>\n",
       "      <td>0.065499</td>\n",
       "    </tr>\n",
       "    <tr>\n",
       "      <th>F_zebrinus</th>\n",
       "      <td>92.330000</td>\n",
       "      <td>0.809403</td>\n",
       "      <td>0.082327</td>\n",
       "    </tr>\n",
       "    <tr>\n",
       "      <th>L_goodei</th>\n",
       "      <td>89.294444</td>\n",
       "      <td>0.713987</td>\n",
       "      <td>0.054161</td>\n",
       "    </tr>\n",
       "    <tr>\n",
       "      <th>L_parva</th>\n",
       "      <td>89.652500</td>\n",
       "      <td>0.840693</td>\n",
       "      <td>0.053764</td>\n",
       "    </tr>\n",
       "  </tbody>\n",
       "</table>\n",
       "</div>"
      ],
      "text/plain": [
       "                    mean_bwamem_genome  std_bwamem_genome    rna.fa\n",
       "species                                                            \n",
       "F_chrysotus                  91.680000           0.478271  0.066424\n",
       "F_diaphanus                  94.965000           0.374206  0.114249\n",
       "F_grandis                    95.662500           0.428477  0.121405\n",
       "F_heteroclitusMDPL           96.248889           0.788344  0.221701\n",
       "F_heteroclitusMDPP           96.134444           0.781747  0.201000\n",
       "F_notatus                    93.255000           0.605876  0.073891\n",
       "F_rathbuni                   95.573750           0.700692  0.097641\n",
       "F_sciadicus                  92.660000           0.441588  0.084369\n",
       "F_similis                    91.680000           0.479114  0.065499\n",
       "F_zebrinus                   92.330000           0.809403  0.082327\n",
       "L_goodei                     89.294444           0.713987  0.054161\n",
       "L_parva                      89.652500           0.840693  0.053764"
      ]
     },
     "execution_count": 44,
     "metadata": {},
     "output_type": "execute_result"
    }
   ],
   "source": [
    "df_bwamemgenome"
   ]
  },
  {
   "cell_type": "markdown",
   "metadata": {},
   "source": [
    "# bwa mem genome, clipping penalty -L 100 (length of read)"
   ]
  },
  {
   "cell_type": "code",
   "execution_count": 45,
   "metadata": {},
   "outputs": [],
   "source": [
    "bwagenome_file = alignment_rate_dir + \"bwa_genome_clipping_alignmentrates\"\n",
    "bwagenome_data = pd.read_csv(bwagenome_file,sep=\" \",header=None)"
   ]
  },
  {
   "cell_type": "code",
   "execution_count": 46,
   "metadata": {},
   "outputs": [
    {
     "name": "stderr",
     "output_type": "stream",
     "text": [
      "/Users/johnsolk/anaconda3/envs/jupyterpy3/lib/python3.7/site-packages/ipykernel_launcher.py:3: SettingWithCopyWarning: \n",
      "A value is trying to be set on a copy of a slice from a DataFrame.\n",
      "Try using .loc[row_indexer,col_indexer] = value instead\n",
      "\n",
      "See the caveats in the documentation: http://pandas.pydata.org/pandas-docs/stable/indexing.html#indexing-view-versus-copy\n",
      "  This is separate from the ipykernel package so we can avoid doing imports until\n",
      "/Users/johnsolk/anaconda3/envs/jupyterpy3/lib/python3.7/site-packages/ipykernel_launcher.py:4: SettingWithCopyWarning: \n",
      "A value is trying to be set on a copy of a slice from a DataFrame.\n",
      "Try using .loc[row_indexer,col_indexer] = value instead\n",
      "\n",
      "See the caveats in the documentation: http://pandas.pydata.org/pandas-docs/stable/indexing.html#indexing-view-versus-copy\n",
      "  after removing the cwd from sys.path.\n"
     ]
    }
   ],
   "source": [
    "rate = bwagenome_data[[0,4]]\n",
    "rate.columns = ['sample_info','perc_info']\n",
    "rate['bwagenome_clipping_alignment_rate'] = rate.perc_info.str.split('(',n=1,expand=True)[1]\n",
    "rate['samples'] = rate.sample_info.str.split(\"/\",n=2,expand=True)[1]"
   ]
  },
  {
   "cell_type": "code",
   "execution_count": 47,
   "metadata": {},
   "outputs": [
    {
     "name": "stderr",
     "output_type": "stream",
     "text": [
      "/Users/johnsolk/anaconda3/envs/jupyterpy3/lib/python3.7/site-packages/ipykernel_launcher.py:1: SettingWithCopyWarning: \n",
      "A value is trying to be set on a copy of a slice from a DataFrame.\n",
      "Try using .loc[row_indexer,col_indexer] = value instead\n",
      "\n",
      "See the caveats in the documentation: http://pandas.pydata.org/pandas-docs/stable/indexing.html#indexing-view-versus-copy\n",
      "  \"\"\"Entry point for launching an IPython kernel.\n"
     ]
    }
   ],
   "source": [
    "rate['replicate'] = rate.samples.str.split(\".\",n=2,expand=True)[0]"
   ]
  },
  {
   "cell_type": "code",
   "execution_count": 48,
   "metadata": {},
   "outputs": [
    {
     "name": "stderr",
     "output_type": "stream",
     "text": [
      "/Users/johnsolk/anaconda3/envs/jupyterpy3/lib/python3.7/site-packages/ipykernel_launcher.py:1: SettingWithCopyWarning: \n",
      "A value is trying to be set on a copy of a slice from a DataFrame.\n",
      "Try using .loc[row_indexer,col_indexer] = value instead\n",
      "\n",
      "See the caveats in the documentation: http://pandas.pydata.org/pandas-docs/stable/indexing.html#indexing-view-versus-copy\n",
      "  \"\"\"Entry point for launching an IPython kernel.\n"
     ]
    }
   ],
   "source": [
    "rate['species'] = rate.samples.str.split(\"_\",n=4,expand=True)[0] + \"_\" + rate.samples.str.split(\"_\",n=4,expand=True)[1] "
   ]
  },
  {
   "cell_type": "code",
   "execution_count": 49,
   "metadata": {},
   "outputs": [
    {
     "name": "stderr",
     "output_type": "stream",
     "text": [
      "/Users/johnsolk/anaconda3/envs/jupyterpy3/lib/python3.7/site-packages/ipykernel_launcher.py:1: SettingWithCopyWarning: \n",
      "A value is trying to be set on a copy of a slice from a DataFrame.\n",
      "Try using .loc[row_indexer,col_indexer] = value instead\n",
      "\n",
      "See the caveats in the documentation: http://pandas.pydata.org/pandas-docs/stable/indexing.html#indexing-view-versus-copy\n",
      "  \"\"\"Entry point for launching an IPython kernel.\n"
     ]
    }
   ],
   "source": [
    "rate['bwagenome_clipping_alignment_rate'] = rate.bwagenome_clipping_alignment_rate.str.split(\"%\",n=1,expand=True)[0].astype('float')"
   ]
  },
  {
   "cell_type": "code",
   "execution_count": 50,
   "metadata": {},
   "outputs": [],
   "source": [
    "rate = rate[['replicate','species','bwagenome_clipping_alignment_rate']]"
   ]
  },
  {
   "cell_type": "code",
   "execution_count": 51,
   "metadata": {},
   "outputs": [],
   "source": [
    "# get mean and sd of df_salmon groupby species\n",
    "df_bwamemgenome_mean = rate.groupby(\"species\")['bwagenome_clipping_alignment_rate'].agg([np.mean, np.std])\n",
    "df_bwamemgenome_mean.columns = ['mean_bwamem_genome_clipping','std_bwamem_genome_clipping']"
   ]
  },
  {
   "cell_type": "code",
   "execution_count": 52,
   "metadata": {},
   "outputs": [],
   "source": [
    "df_bwamemgenome_clipping = pd.merge(df_bwamemgenome_mean,x_axis_jaccard,on = \"species\")"
   ]
  },
  {
   "cell_type": "code",
   "execution_count": 53,
   "metadata": {},
   "outputs": [
    {
     "data": {
      "text/html": [
       "<div>\n",
       "<style scoped>\n",
       "    .dataframe tbody tr th:only-of-type {\n",
       "        vertical-align: middle;\n",
       "    }\n",
       "\n",
       "    .dataframe tbody tr th {\n",
       "        vertical-align: top;\n",
       "    }\n",
       "\n",
       "    .dataframe thead th {\n",
       "        text-align: right;\n",
       "    }\n",
       "</style>\n",
       "<table border=\"1\" class=\"dataframe\">\n",
       "  <thead>\n",
       "    <tr style=\"text-align: right;\">\n",
       "      <th></th>\n",
       "      <th>mean_bwamem_genome_clipping</th>\n",
       "      <th>std_bwamem_genome_clipping</th>\n",
       "      <th>rna.fa</th>\n",
       "    </tr>\n",
       "    <tr>\n",
       "      <th>species</th>\n",
       "      <th></th>\n",
       "      <th></th>\n",
       "      <th></th>\n",
       "    </tr>\n",
       "  </thead>\n",
       "  <tbody>\n",
       "    <tr>\n",
       "      <th>F_chrysotus</th>\n",
       "      <td>91.291250</td>\n",
       "      <td>0.481944</td>\n",
       "      <td>0.066424</td>\n",
       "    </tr>\n",
       "    <tr>\n",
       "      <th>F_diaphanus</th>\n",
       "      <td>94.626667</td>\n",
       "      <td>0.393633</td>\n",
       "      <td>0.114249</td>\n",
       "    </tr>\n",
       "    <tr>\n",
       "      <th>F_grandis</th>\n",
       "      <td>95.331111</td>\n",
       "      <td>0.438077</td>\n",
       "      <td>0.121405</td>\n",
       "    </tr>\n",
       "    <tr>\n",
       "      <th>F_heteroclitusMDPL</th>\n",
       "      <td>95.897778</td>\n",
       "      <td>0.858673</td>\n",
       "      <td>0.221701</td>\n",
       "    </tr>\n",
       "    <tr>\n",
       "      <th>F_heteroclitusMDPP</th>\n",
       "      <td>95.756667</td>\n",
       "      <td>0.827964</td>\n",
       "      <td>0.201000</td>\n",
       "    </tr>\n",
       "    <tr>\n",
       "      <th>F_notatus</th>\n",
       "      <td>92.826667</td>\n",
       "      <td>0.624840</td>\n",
       "      <td>0.073891</td>\n",
       "    </tr>\n",
       "    <tr>\n",
       "      <th>F_rathbuni</th>\n",
       "      <td>95.192222</td>\n",
       "      <td>0.733634</td>\n",
       "      <td>0.097641</td>\n",
       "    </tr>\n",
       "    <tr>\n",
       "      <th>F_sciadicus</th>\n",
       "      <td>92.287500</td>\n",
       "      <td>0.458576</td>\n",
       "      <td>0.084369</td>\n",
       "    </tr>\n",
       "    <tr>\n",
       "      <th>F_similis</th>\n",
       "      <td>91.287778</td>\n",
       "      <td>0.502040</td>\n",
       "      <td>0.065499</td>\n",
       "    </tr>\n",
       "    <tr>\n",
       "      <th>F_zebrinus</th>\n",
       "      <td>91.960000</td>\n",
       "      <td>0.837536</td>\n",
       "      <td>0.082327</td>\n",
       "    </tr>\n",
       "    <tr>\n",
       "      <th>L_goodei</th>\n",
       "      <td>88.881111</td>\n",
       "      <td>0.721915</td>\n",
       "      <td>0.054161</td>\n",
       "    </tr>\n",
       "    <tr>\n",
       "      <th>L_parva</th>\n",
       "      <td>89.182222</td>\n",
       "      <td>0.820637</td>\n",
       "      <td>0.053764</td>\n",
       "    </tr>\n",
       "  </tbody>\n",
       "</table>\n",
       "</div>"
      ],
      "text/plain": [
       "                    mean_bwamem_genome_clipping  std_bwamem_genome_clipping  \\\n",
       "species                                                                       \n",
       "F_chrysotus                           91.291250                    0.481944   \n",
       "F_diaphanus                           94.626667                    0.393633   \n",
       "F_grandis                             95.331111                    0.438077   \n",
       "F_heteroclitusMDPL                    95.897778                    0.858673   \n",
       "F_heteroclitusMDPP                    95.756667                    0.827964   \n",
       "F_notatus                             92.826667                    0.624840   \n",
       "F_rathbuni                            95.192222                    0.733634   \n",
       "F_sciadicus                           92.287500                    0.458576   \n",
       "F_similis                             91.287778                    0.502040   \n",
       "F_zebrinus                            91.960000                    0.837536   \n",
       "L_goodei                              88.881111                    0.721915   \n",
       "L_parva                               89.182222                    0.820637   \n",
       "\n",
       "                      rna.fa  \n",
       "species                       \n",
       "F_chrysotus         0.066424  \n",
       "F_diaphanus         0.114249  \n",
       "F_grandis           0.121405  \n",
       "F_heteroclitusMDPL  0.221701  \n",
       "F_heteroclitusMDPP  0.201000  \n",
       "F_notatus           0.073891  \n",
       "F_rathbuni          0.097641  \n",
       "F_sciadicus         0.084369  \n",
       "F_similis           0.065499  \n",
       "F_zebrinus          0.082327  \n",
       "L_goodei            0.054161  \n",
       "L_parva             0.053764  "
      ]
     },
     "execution_count": 53,
     "metadata": {},
     "output_type": "execute_result"
    }
   ],
   "source": [
    "df_bwamemgenome_clipping"
   ]
  },
  {
   "cell_type": "markdown",
   "metadata": {},
   "source": [
    "# bwa mem genome, clipping/gap/mismatch penalties -L 100 -B 40 -O 60"
   ]
  },
  {
   "cell_type": "code",
   "execution_count": 54,
   "metadata": {},
   "outputs": [],
   "source": [
    "bwagenome_file = alignment_rate_dir + \"bwa_genome_mismatchgap_alignrates\"\n",
    "bwagenome_data = pd.read_csv(bwagenome_file,sep=\" \",header=None)"
   ]
  },
  {
   "cell_type": "code",
   "execution_count": 55,
   "metadata": {},
   "outputs": [
    {
     "name": "stderr",
     "output_type": "stream",
     "text": [
      "/Users/johnsolk/anaconda3/envs/jupyterpy3/lib/python3.7/site-packages/ipykernel_launcher.py:3: SettingWithCopyWarning: \n",
      "A value is trying to be set on a copy of a slice from a DataFrame.\n",
      "Try using .loc[row_indexer,col_indexer] = value instead\n",
      "\n",
      "See the caveats in the documentation: http://pandas.pydata.org/pandas-docs/stable/indexing.html#indexing-view-versus-copy\n",
      "  This is separate from the ipykernel package so we can avoid doing imports until\n",
      "/Users/johnsolk/anaconda3/envs/jupyterpy3/lib/python3.7/site-packages/ipykernel_launcher.py:4: SettingWithCopyWarning: \n",
      "A value is trying to be set on a copy of a slice from a DataFrame.\n",
      "Try using .loc[row_indexer,col_indexer] = value instead\n",
      "\n",
      "See the caveats in the documentation: http://pandas.pydata.org/pandas-docs/stable/indexing.html#indexing-view-versus-copy\n",
      "  after removing the cwd from sys.path.\n"
     ]
    }
   ],
   "source": [
    "rate = bwagenome_data[[0,4]]\n",
    "rate.columns = ['sample_info','perc_info']\n",
    "rate['bwagenome_clipping_alignment_rate'] = rate.perc_info.str.split('(',n=1,expand=True)[1]\n",
    "rate['samples'] = rate.sample_info.str.split(\"/\",n=2,expand=True)[1]"
   ]
  },
  {
   "cell_type": "code",
   "execution_count": 56,
   "metadata": {},
   "outputs": [
    {
     "name": "stderr",
     "output_type": "stream",
     "text": [
      "/Users/johnsolk/anaconda3/envs/jupyterpy3/lib/python3.7/site-packages/ipykernel_launcher.py:1: SettingWithCopyWarning: \n",
      "A value is trying to be set on a copy of a slice from a DataFrame.\n",
      "Try using .loc[row_indexer,col_indexer] = value instead\n",
      "\n",
      "See the caveats in the documentation: http://pandas.pydata.org/pandas-docs/stable/indexing.html#indexing-view-versus-copy\n",
      "  \"\"\"Entry point for launching an IPython kernel.\n"
     ]
    }
   ],
   "source": [
    "rate['replicate'] = rate.samples.str.split(\".\",n=2,expand=True)[0]"
   ]
  },
  {
   "cell_type": "code",
   "execution_count": 57,
   "metadata": {},
   "outputs": [
    {
     "name": "stderr",
     "output_type": "stream",
     "text": [
      "/Users/johnsolk/anaconda3/envs/jupyterpy3/lib/python3.7/site-packages/ipykernel_launcher.py:1: SettingWithCopyWarning: \n",
      "A value is trying to be set on a copy of a slice from a DataFrame.\n",
      "Try using .loc[row_indexer,col_indexer] = value instead\n",
      "\n",
      "See the caveats in the documentation: http://pandas.pydata.org/pandas-docs/stable/indexing.html#indexing-view-versus-copy\n",
      "  \"\"\"Entry point for launching an IPython kernel.\n"
     ]
    }
   ],
   "source": [
    "rate['species'] = rate.samples.str.split(\"_\",n=4,expand=True)[0] + \"_\" + rate.samples.str.split(\"_\",n=4,expand=True)[1] "
   ]
  },
  {
   "cell_type": "code",
   "execution_count": 58,
   "metadata": {},
   "outputs": [
    {
     "name": "stderr",
     "output_type": "stream",
     "text": [
      "/Users/johnsolk/anaconda3/envs/jupyterpy3/lib/python3.7/site-packages/ipykernel_launcher.py:1: SettingWithCopyWarning: \n",
      "A value is trying to be set on a copy of a slice from a DataFrame.\n",
      "Try using .loc[row_indexer,col_indexer] = value instead\n",
      "\n",
      "See the caveats in the documentation: http://pandas.pydata.org/pandas-docs/stable/indexing.html#indexing-view-versus-copy\n",
      "  \"\"\"Entry point for launching an IPython kernel.\n"
     ]
    }
   ],
   "source": [
    "rate['bwagenome_clipping_alignment_rate'] = rate.bwagenome_clipping_alignment_rate.str.split(\"%\",n=1,expand=True)[0].astype('float')"
   ]
  },
  {
   "cell_type": "code",
   "execution_count": 59,
   "metadata": {},
   "outputs": [],
   "source": [
    "rate = rate[['replicate','species','bwagenome_clipping_alignment_rate']]"
   ]
  },
  {
   "cell_type": "code",
   "execution_count": 60,
   "metadata": {},
   "outputs": [],
   "source": [
    "# get mean and sd of df_salmon groupby species\n",
    "df_bwamemgenome_mean = rate.groupby(\"species\")['bwagenome_clipping_alignment_rate'].agg([np.mean, np.std])\n",
    "df_bwamemgenome_mean.columns = ['mean_bwamem_genome_gapmismatch','std_bwamem_genome_gapmismatch']"
   ]
  },
  {
   "cell_type": "code",
   "execution_count": 61,
   "metadata": {},
   "outputs": [],
   "source": [
    "df_bwamemgenome_gapmismatch = pd.merge(df_bwamemgenome_mean,x_axis_jaccard,on = \"species\")"
   ]
  },
  {
   "cell_type": "code",
   "execution_count": 62,
   "metadata": {},
   "outputs": [
    {
     "data": {
      "text/html": [
       "<div>\n",
       "<style scoped>\n",
       "    .dataframe tbody tr th:only-of-type {\n",
       "        vertical-align: middle;\n",
       "    }\n",
       "\n",
       "    .dataframe tbody tr th {\n",
       "        vertical-align: top;\n",
       "    }\n",
       "\n",
       "    .dataframe thead th {\n",
       "        text-align: right;\n",
       "    }\n",
       "</style>\n",
       "<table border=\"1\" class=\"dataframe\">\n",
       "  <thead>\n",
       "    <tr style=\"text-align: right;\">\n",
       "      <th></th>\n",
       "      <th>mean_bwamem_genome_gapmismatch</th>\n",
       "      <th>std_bwamem_genome_gapmismatch</th>\n",
       "      <th>rna.fa</th>\n",
       "    </tr>\n",
       "    <tr>\n",
       "      <th>species</th>\n",
       "      <th></th>\n",
       "      <th></th>\n",
       "      <th></th>\n",
       "    </tr>\n",
       "  </thead>\n",
       "  <tbody>\n",
       "    <tr>\n",
       "      <th>F_chrysotus</th>\n",
       "      <td>83.436250</td>\n",
       "      <td>0.809584</td>\n",
       "      <td>0.066424</td>\n",
       "    </tr>\n",
       "    <tr>\n",
       "      <th>F_diaphanus</th>\n",
       "      <td>90.650000</td>\n",
       "      <td>0.601963</td>\n",
       "      <td>0.114249</td>\n",
       "    </tr>\n",
       "    <tr>\n",
       "      <th>F_grandis</th>\n",
       "      <td>93.197500</td>\n",
       "      <td>0.541103</td>\n",
       "      <td>0.121405</td>\n",
       "    </tr>\n",
       "    <tr>\n",
       "      <th>F_heteroclitusMDPL</th>\n",
       "      <td>94.716667</td>\n",
       "      <td>1.065094</td>\n",
       "      <td>0.221701</td>\n",
       "    </tr>\n",
       "    <tr>\n",
       "      <th>F_heteroclitusMDPP</th>\n",
       "      <td>94.688889</td>\n",
       "      <td>1.117200</td>\n",
       "      <td>0.201000</td>\n",
       "    </tr>\n",
       "    <tr>\n",
       "      <th>F_notatus</th>\n",
       "      <td>86.233333</td>\n",
       "      <td>0.804752</td>\n",
       "      <td>0.073891</td>\n",
       "    </tr>\n",
       "    <tr>\n",
       "      <th>F_rathbuni</th>\n",
       "      <td>91.464444</td>\n",
       "      <td>1.142280</td>\n",
       "      <td>0.097641</td>\n",
       "    </tr>\n",
       "    <tr>\n",
       "      <th>F_sciadicus</th>\n",
       "      <td>85.027500</td>\n",
       "      <td>0.766306</td>\n",
       "      <td>0.084369</td>\n",
       "    </tr>\n",
       "    <tr>\n",
       "      <th>F_similis</th>\n",
       "      <td>84.610000</td>\n",
       "      <td>0.742849</td>\n",
       "      <td>0.065499</td>\n",
       "    </tr>\n",
       "    <tr>\n",
       "      <th>F_zebrinus</th>\n",
       "      <td>84.650000</td>\n",
       "      <td>1.197637</td>\n",
       "      <td>0.082327</td>\n",
       "    </tr>\n",
       "    <tr>\n",
       "      <th>L_goodei</th>\n",
       "      <td>79.633333</td>\n",
       "      <td>1.373690</td>\n",
       "      <td>0.054161</td>\n",
       "    </tr>\n",
       "    <tr>\n",
       "      <th>L_parva</th>\n",
       "      <td>79.531111</td>\n",
       "      <td>1.284158</td>\n",
       "      <td>0.053764</td>\n",
       "    </tr>\n",
       "  </tbody>\n",
       "</table>\n",
       "</div>"
      ],
      "text/plain": [
       "                    mean_bwamem_genome_gapmismatch  \\\n",
       "species                                              \n",
       "F_chrysotus                              83.436250   \n",
       "F_diaphanus                              90.650000   \n",
       "F_grandis                                93.197500   \n",
       "F_heteroclitusMDPL                       94.716667   \n",
       "F_heteroclitusMDPP                       94.688889   \n",
       "F_notatus                                86.233333   \n",
       "F_rathbuni                               91.464444   \n",
       "F_sciadicus                              85.027500   \n",
       "F_similis                                84.610000   \n",
       "F_zebrinus                               84.650000   \n",
       "L_goodei                                 79.633333   \n",
       "L_parva                                  79.531111   \n",
       "\n",
       "                    std_bwamem_genome_gapmismatch    rna.fa  \n",
       "species                                                      \n",
       "F_chrysotus                              0.809584  0.066424  \n",
       "F_diaphanus                              0.601963  0.114249  \n",
       "F_grandis                                0.541103  0.121405  \n",
       "F_heteroclitusMDPL                       1.065094  0.221701  \n",
       "F_heteroclitusMDPP                       1.117200  0.201000  \n",
       "F_notatus                                0.804752  0.073891  \n",
       "F_rathbuni                               1.142280  0.097641  \n",
       "F_sciadicus                              0.766306  0.084369  \n",
       "F_similis                                0.742849  0.065499  \n",
       "F_zebrinus                               1.197637  0.082327  \n",
       "L_goodei                                 1.373690  0.054161  \n",
       "L_parva                                  1.284158  0.053764  "
      ]
     },
     "execution_count": 62,
     "metadata": {},
     "output_type": "execute_result"
    }
   ],
   "source": [
    "df_bwamemgenome_gapmismatch"
   ]
  },
  {
   "cell_type": "markdown",
   "metadata": {},
   "source": [
    "# bwa mem txome"
   ]
  },
  {
   "cell_type": "code",
   "execution_count": 63,
   "metadata": {},
   "outputs": [],
   "source": [
    "bwatranscriptome_file = alignment_rate_dir + \"bwa_transcriptome_alignmentrates\"\n",
    "bwatranscriptome_data = pd.read_csv(bwatranscriptome_file,sep=\" \",header=None)"
   ]
  },
  {
   "cell_type": "code",
   "execution_count": 64,
   "metadata": {},
   "outputs": [
    {
     "name": "stderr",
     "output_type": "stream",
     "text": [
      "/Users/johnsolk/anaconda3/envs/jupyterpy3/lib/python3.7/site-packages/ipykernel_launcher.py:3: SettingWithCopyWarning: \n",
      "A value is trying to be set on a copy of a slice from a DataFrame.\n",
      "Try using .loc[row_indexer,col_indexer] = value instead\n",
      "\n",
      "See the caveats in the documentation: http://pandas.pydata.org/pandas-docs/stable/indexing.html#indexing-view-versus-copy\n",
      "  This is separate from the ipykernel package so we can avoid doing imports until\n",
      "/Users/johnsolk/anaconda3/envs/jupyterpy3/lib/python3.7/site-packages/ipykernel_launcher.py:4: SettingWithCopyWarning: \n",
      "A value is trying to be set on a copy of a slice from a DataFrame.\n",
      "Try using .loc[row_indexer,col_indexer] = value instead\n",
      "\n",
      "See the caveats in the documentation: http://pandas.pydata.org/pandas-docs/stable/indexing.html#indexing-view-versus-copy\n",
      "  after removing the cwd from sys.path.\n"
     ]
    }
   ],
   "source": [
    "rate = bwatranscriptome_data[[0,4]]\n",
    "rate.columns = ['sample_info','perc_info']\n",
    "rate['bwatranscriptome_alignment_rate'] = rate.perc_info.str.split('(',n=1,expand=True)[1]\n",
    "rate['samples'] = rate.sample_info.str.split(\"/\",n=2,expand=True)[1]"
   ]
  },
  {
   "cell_type": "code",
   "execution_count": 65,
   "metadata": {},
   "outputs": [
    {
     "name": "stderr",
     "output_type": "stream",
     "text": [
      "/Users/johnsolk/anaconda3/envs/jupyterpy3/lib/python3.7/site-packages/ipykernel_launcher.py:1: SettingWithCopyWarning: \n",
      "A value is trying to be set on a copy of a slice from a DataFrame.\n",
      "Try using .loc[row_indexer,col_indexer] = value instead\n",
      "\n",
      "See the caveats in the documentation: http://pandas.pydata.org/pandas-docs/stable/indexing.html#indexing-view-versus-copy\n",
      "  \"\"\"Entry point for launching an IPython kernel.\n"
     ]
    }
   ],
   "source": [
    "rate['replicate'] = rate.samples.str.split(\".\",n=2,expand=True)[0]"
   ]
  },
  {
   "cell_type": "code",
   "execution_count": 66,
   "metadata": {},
   "outputs": [
    {
     "name": "stderr",
     "output_type": "stream",
     "text": [
      "/Users/johnsolk/anaconda3/envs/jupyterpy3/lib/python3.7/site-packages/ipykernel_launcher.py:1: SettingWithCopyWarning: \n",
      "A value is trying to be set on a copy of a slice from a DataFrame.\n",
      "Try using .loc[row_indexer,col_indexer] = value instead\n",
      "\n",
      "See the caveats in the documentation: http://pandas.pydata.org/pandas-docs/stable/indexing.html#indexing-view-versus-copy\n",
      "  \"\"\"Entry point for launching an IPython kernel.\n"
     ]
    }
   ],
   "source": [
    "rate['species'] = rate.samples.str.split(\"_\",n=4,expand=True)[0] + \"_\" + rate.samples.str.split(\"_\",n=4,expand=True)[1] "
   ]
  },
  {
   "cell_type": "code",
   "execution_count": 67,
   "metadata": {},
   "outputs": [],
   "source": [
    "rate['bwa_mem_transcriptome_alignment_rate'] = rate.bwatranscriptome_alignment_rate.str.split(\"%\",n=1,expand=True)[0].astype('float')"
   ]
  },
  {
   "cell_type": "code",
   "execution_count": 68,
   "metadata": {},
   "outputs": [],
   "source": [
    "rate = rate[['replicate','species','bwa_mem_transcriptome_alignment_rate']]"
   ]
  },
  {
   "cell_type": "code",
   "execution_count": 69,
   "metadata": {},
   "outputs": [],
   "source": [
    "# get mean and sd of df_salmon groupby species\n",
    "df_bwamemtxome_mean = rate.groupby(\"species\")[\"bwa_mem_transcriptome_alignment_rate\"].agg([np.mean, np.std])\n",
    "df_bwamemtxome_mean.columns = ['mean_bwamem_txome','std_bwamem_txome']"
   ]
  },
  {
   "cell_type": "code",
   "execution_count": 70,
   "metadata": {},
   "outputs": [],
   "source": [
    "df_bwamemtxome = pd.merge(df_bwamemtxome_mean,x_axis_jaccard,on = \"species\")"
   ]
  },
  {
   "cell_type": "code",
   "execution_count": 71,
   "metadata": {},
   "outputs": [
    {
     "data": {
      "text/html": [
       "<div>\n",
       "<style scoped>\n",
       "    .dataframe tbody tr th:only-of-type {\n",
       "        vertical-align: middle;\n",
       "    }\n",
       "\n",
       "    .dataframe tbody tr th {\n",
       "        vertical-align: top;\n",
       "    }\n",
       "\n",
       "    .dataframe thead th {\n",
       "        text-align: right;\n",
       "    }\n",
       "</style>\n",
       "<table border=\"1\" class=\"dataframe\">\n",
       "  <thead>\n",
       "    <tr style=\"text-align: right;\">\n",
       "      <th></th>\n",
       "      <th>mean_bwamem_txome</th>\n",
       "      <th>std_bwamem_txome</th>\n",
       "      <th>rna.fa</th>\n",
       "    </tr>\n",
       "    <tr>\n",
       "      <th>species</th>\n",
       "      <th></th>\n",
       "      <th></th>\n",
       "      <th></th>\n",
       "    </tr>\n",
       "  </thead>\n",
       "  <tbody>\n",
       "    <tr>\n",
       "      <th>F_chrysotus</th>\n",
       "      <td>76.215000</td>\n",
       "      <td>1.249846</td>\n",
       "      <td>0.066424</td>\n",
       "    </tr>\n",
       "    <tr>\n",
       "      <th>F_diaphanus</th>\n",
       "      <td>77.216667</td>\n",
       "      <td>1.763073</td>\n",
       "      <td>0.114249</td>\n",
       "    </tr>\n",
       "    <tr>\n",
       "      <th>F_grandis</th>\n",
       "      <td>68.971111</td>\n",
       "      <td>13.888326</td>\n",
       "      <td>0.121405</td>\n",
       "    </tr>\n",
       "    <tr>\n",
       "      <th>F_heteroclitusMDPL</th>\n",
       "      <td>75.183333</td>\n",
       "      <td>5.804731</td>\n",
       "      <td>0.221701</td>\n",
       "    </tr>\n",
       "    <tr>\n",
       "      <th>F_heteroclitusMDPP</th>\n",
       "      <td>77.158889</td>\n",
       "      <td>4.712485</td>\n",
       "      <td>0.201000</td>\n",
       "    </tr>\n",
       "    <tr>\n",
       "      <th>F_notatus</th>\n",
       "      <td>75.898889</td>\n",
       "      <td>1.909021</td>\n",
       "      <td>0.073891</td>\n",
       "    </tr>\n",
       "    <tr>\n",
       "      <th>F_rathbuni</th>\n",
       "      <td>78.261111</td>\n",
       "      <td>1.738889</td>\n",
       "      <td>0.097641</td>\n",
       "    </tr>\n",
       "    <tr>\n",
       "      <th>F_sciadicus</th>\n",
       "      <td>76.945000</td>\n",
       "      <td>3.064621</td>\n",
       "      <td>0.084369</td>\n",
       "    </tr>\n",
       "    <tr>\n",
       "      <th>F_similis</th>\n",
       "      <td>66.975556</td>\n",
       "      <td>7.545426</td>\n",
       "      <td>0.065499</td>\n",
       "    </tr>\n",
       "    <tr>\n",
       "      <th>F_zebrinus</th>\n",
       "      <td>72.620000</td>\n",
       "      <td>4.658905</td>\n",
       "      <td>0.082327</td>\n",
       "    </tr>\n",
       "    <tr>\n",
       "      <th>L_goodei</th>\n",
       "      <td>68.804444</td>\n",
       "      <td>4.113417</td>\n",
       "      <td>0.054161</td>\n",
       "    </tr>\n",
       "    <tr>\n",
       "      <th>L_parva</th>\n",
       "      <td>72.317778</td>\n",
       "      <td>4.830884</td>\n",
       "      <td>0.053764</td>\n",
       "    </tr>\n",
       "  </tbody>\n",
       "</table>\n",
       "</div>"
      ],
      "text/plain": [
       "                    mean_bwamem_txome  std_bwamem_txome    rna.fa\n",
       "species                                                          \n",
       "F_chrysotus                 76.215000          1.249846  0.066424\n",
       "F_diaphanus                 77.216667          1.763073  0.114249\n",
       "F_grandis                   68.971111         13.888326  0.121405\n",
       "F_heteroclitusMDPL          75.183333          5.804731  0.221701\n",
       "F_heteroclitusMDPP          77.158889          4.712485  0.201000\n",
       "F_notatus                   75.898889          1.909021  0.073891\n",
       "F_rathbuni                  78.261111          1.738889  0.097641\n",
       "F_sciadicus                 76.945000          3.064621  0.084369\n",
       "F_similis                   66.975556          7.545426  0.065499\n",
       "F_zebrinus                  72.620000          4.658905  0.082327\n",
       "L_goodei                    68.804444          4.113417  0.054161\n",
       "L_parva                     72.317778          4.830884  0.053764"
      ]
     },
     "execution_count": 71,
     "metadata": {},
     "output_type": "execute_result"
    }
   ],
   "source": [
    "df_bwamemtxome"
   ]
  },
  {
   "cell_type": "markdown",
   "metadata": {},
   "source": [
    "# bwa mem txome, clipping penalty -L 100 (length of read)"
   ]
  },
  {
   "cell_type": "code",
   "execution_count": 72,
   "metadata": {},
   "outputs": [],
   "source": [
    "bwatranscriptome_file = alignment_rate_dir + \"bwa_txome_clipping_alignrates\"\n",
    "bwatranscriptome_data = pd.read_csv(bwatranscriptome_file,sep=\" \",header=None)"
   ]
  },
  {
   "cell_type": "code",
   "execution_count": 73,
   "metadata": {},
   "outputs": [
    {
     "name": "stderr",
     "output_type": "stream",
     "text": [
      "/Users/johnsolk/anaconda3/envs/jupyterpy3/lib/python3.7/site-packages/ipykernel_launcher.py:3: SettingWithCopyWarning: \n",
      "A value is trying to be set on a copy of a slice from a DataFrame.\n",
      "Try using .loc[row_indexer,col_indexer] = value instead\n",
      "\n",
      "See the caveats in the documentation: http://pandas.pydata.org/pandas-docs/stable/indexing.html#indexing-view-versus-copy\n",
      "  This is separate from the ipykernel package so we can avoid doing imports until\n",
      "/Users/johnsolk/anaconda3/envs/jupyterpy3/lib/python3.7/site-packages/ipykernel_launcher.py:4: SettingWithCopyWarning: \n",
      "A value is trying to be set on a copy of a slice from a DataFrame.\n",
      "Try using .loc[row_indexer,col_indexer] = value instead\n",
      "\n",
      "See the caveats in the documentation: http://pandas.pydata.org/pandas-docs/stable/indexing.html#indexing-view-versus-copy\n",
      "  after removing the cwd from sys.path.\n"
     ]
    }
   ],
   "source": [
    "rate = bwatranscriptome_data[[0,4]]\n",
    "rate.columns = ['sample_info','perc_info']\n",
    "rate['bwatxome_clipping_alignment_rate'] = rate.perc_info.str.split('(',n=1,expand=True)[1]\n",
    "rate['samples'] = rate.sample_info.str.split(\"/\",n=2,expand=True)[1]"
   ]
  },
  {
   "cell_type": "code",
   "execution_count": 74,
   "metadata": {},
   "outputs": [
    {
     "name": "stderr",
     "output_type": "stream",
     "text": [
      "/Users/johnsolk/anaconda3/envs/jupyterpy3/lib/python3.7/site-packages/ipykernel_launcher.py:1: SettingWithCopyWarning: \n",
      "A value is trying to be set on a copy of a slice from a DataFrame.\n",
      "Try using .loc[row_indexer,col_indexer] = value instead\n",
      "\n",
      "See the caveats in the documentation: http://pandas.pydata.org/pandas-docs/stable/indexing.html#indexing-view-versus-copy\n",
      "  \"\"\"Entry point for launching an IPython kernel.\n"
     ]
    }
   ],
   "source": [
    "rate['replicate'] = rate.samples.str.split(\".\",n=2,expand=True)[0]"
   ]
  },
  {
   "cell_type": "code",
   "execution_count": 75,
   "metadata": {},
   "outputs": [
    {
     "name": "stderr",
     "output_type": "stream",
     "text": [
      "/Users/johnsolk/anaconda3/envs/jupyterpy3/lib/python3.7/site-packages/ipykernel_launcher.py:1: SettingWithCopyWarning: \n",
      "A value is trying to be set on a copy of a slice from a DataFrame.\n",
      "Try using .loc[row_indexer,col_indexer] = value instead\n",
      "\n",
      "See the caveats in the documentation: http://pandas.pydata.org/pandas-docs/stable/indexing.html#indexing-view-versus-copy\n",
      "  \"\"\"Entry point for launching an IPython kernel.\n"
     ]
    }
   ],
   "source": [
    "rate['species'] = rate.samples.str.split(\"_\",n=4,expand=True)[0] + \"_\" + rate.samples.str.split(\"_\",n=4,expand=True)[1] "
   ]
  },
  {
   "cell_type": "code",
   "execution_count": 76,
   "metadata": {},
   "outputs": [
    {
     "name": "stderr",
     "output_type": "stream",
     "text": [
      "/Users/johnsolk/anaconda3/envs/jupyterpy3/lib/python3.7/site-packages/ipykernel_launcher.py:1: SettingWithCopyWarning: \n",
      "A value is trying to be set on a copy of a slice from a DataFrame.\n",
      "Try using .loc[row_indexer,col_indexer] = value instead\n",
      "\n",
      "See the caveats in the documentation: http://pandas.pydata.org/pandas-docs/stable/indexing.html#indexing-view-versus-copy\n",
      "  \"\"\"Entry point for launching an IPython kernel.\n"
     ]
    }
   ],
   "source": [
    "rate['bwatxome_clipping_alignment_rate'] = rate.bwatxome_clipping_alignment_rate.str.split(\"%\",n=1,expand=True)[0].astype('float')"
   ]
  },
  {
   "cell_type": "code",
   "execution_count": 77,
   "metadata": {},
   "outputs": [],
   "source": [
    "rate = rate[['replicate','species','bwatxome_clipping_alignment_rate']]"
   ]
  },
  {
   "cell_type": "code",
   "execution_count": 78,
   "metadata": {},
   "outputs": [],
   "source": [
    "# get mean and sd of df_salmon groupby species\n",
    "df_bwamemtxome_mean = rate.groupby(\"species\")['bwatxome_clipping_alignment_rate'].agg([np.mean, np.std])\n",
    "df_bwamemtxome_mean.columns = ['mean_bwamem_txome_clipping','std_bwamem_txome_clipping']"
   ]
  },
  {
   "cell_type": "code",
   "execution_count": 79,
   "metadata": {},
   "outputs": [],
   "source": [
    "df_bwamemtxome_clipping = pd.merge(df_bwamemtxome_mean,x_axis_jaccard,on = \"species\")"
   ]
  },
  {
   "cell_type": "code",
   "execution_count": 80,
   "metadata": {},
   "outputs": [
    {
     "data": {
      "text/html": [
       "<div>\n",
       "<style scoped>\n",
       "    .dataframe tbody tr th:only-of-type {\n",
       "        vertical-align: middle;\n",
       "    }\n",
       "\n",
       "    .dataframe tbody tr th {\n",
       "        vertical-align: top;\n",
       "    }\n",
       "\n",
       "    .dataframe thead th {\n",
       "        text-align: right;\n",
       "    }\n",
       "</style>\n",
       "<table border=\"1\" class=\"dataframe\">\n",
       "  <thead>\n",
       "    <tr style=\"text-align: right;\">\n",
       "      <th></th>\n",
       "      <th>mean_bwamem_txome_clipping</th>\n",
       "      <th>std_bwamem_txome_clipping</th>\n",
       "      <th>rna.fa</th>\n",
       "    </tr>\n",
       "    <tr>\n",
       "      <th>species</th>\n",
       "      <th></th>\n",
       "      <th></th>\n",
       "      <th></th>\n",
       "    </tr>\n",
       "  </thead>\n",
       "  <tbody>\n",
       "    <tr>\n",
       "      <th>F_chrysotus</th>\n",
       "      <td>76.153750</td>\n",
       "      <td>1.246044</td>\n",
       "      <td>0.066424</td>\n",
       "    </tr>\n",
       "    <tr>\n",
       "      <th>F_diaphanus</th>\n",
       "      <td>77.126667</td>\n",
       "      <td>1.769731</td>\n",
       "      <td>0.114249</td>\n",
       "    </tr>\n",
       "    <tr>\n",
       "      <th>F_grandis</th>\n",
       "      <td>68.871111</td>\n",
       "      <td>13.890408</td>\n",
       "      <td>0.121405</td>\n",
       "    </tr>\n",
       "    <tr>\n",
       "      <th>F_heteroclitusMDPL</th>\n",
       "      <td>75.073333</td>\n",
       "      <td>5.817957</td>\n",
       "      <td>0.221701</td>\n",
       "    </tr>\n",
       "    <tr>\n",
       "      <th>F_heteroclitusMDPP</th>\n",
       "      <td>77.031111</td>\n",
       "      <td>4.722699</td>\n",
       "      <td>0.201000</td>\n",
       "    </tr>\n",
       "    <tr>\n",
       "      <th>F_notatus</th>\n",
       "      <td>75.835556</td>\n",
       "      <td>1.914080</td>\n",
       "      <td>0.073891</td>\n",
       "    </tr>\n",
       "    <tr>\n",
       "      <th>F_rathbuni</th>\n",
       "      <td>78.185556</td>\n",
       "      <td>1.743740</td>\n",
       "      <td>0.097641</td>\n",
       "    </tr>\n",
       "    <tr>\n",
       "      <th>F_sciadicus</th>\n",
       "      <td>76.877500</td>\n",
       "      <td>3.068565</td>\n",
       "      <td>0.084369</td>\n",
       "    </tr>\n",
       "    <tr>\n",
       "      <th>F_similis</th>\n",
       "      <td>66.882222</td>\n",
       "      <td>7.550437</td>\n",
       "      <td>0.065499</td>\n",
       "    </tr>\n",
       "    <tr>\n",
       "      <th>F_zebrinus</th>\n",
       "      <td>72.550000</td>\n",
       "      <td>4.678853</td>\n",
       "      <td>0.082327</td>\n",
       "    </tr>\n",
       "    <tr>\n",
       "      <th>L_goodei</th>\n",
       "      <td>68.750000</td>\n",
       "      <td>4.122678</td>\n",
       "      <td>0.054161</td>\n",
       "    </tr>\n",
       "    <tr>\n",
       "      <th>L_parva</th>\n",
       "      <td>72.268889</td>\n",
       "      <td>4.838229</td>\n",
       "      <td>0.053764</td>\n",
       "    </tr>\n",
       "  </tbody>\n",
       "</table>\n",
       "</div>"
      ],
      "text/plain": [
       "                    mean_bwamem_txome_clipping  std_bwamem_txome_clipping  \\\n",
       "species                                                                     \n",
       "F_chrysotus                          76.153750                   1.246044   \n",
       "F_diaphanus                          77.126667                   1.769731   \n",
       "F_grandis                            68.871111                  13.890408   \n",
       "F_heteroclitusMDPL                   75.073333                   5.817957   \n",
       "F_heteroclitusMDPP                   77.031111                   4.722699   \n",
       "F_notatus                            75.835556                   1.914080   \n",
       "F_rathbuni                           78.185556                   1.743740   \n",
       "F_sciadicus                          76.877500                   3.068565   \n",
       "F_similis                            66.882222                   7.550437   \n",
       "F_zebrinus                           72.550000                   4.678853   \n",
       "L_goodei                             68.750000                   4.122678   \n",
       "L_parva                              72.268889                   4.838229   \n",
       "\n",
       "                      rna.fa  \n",
       "species                       \n",
       "F_chrysotus         0.066424  \n",
       "F_diaphanus         0.114249  \n",
       "F_grandis           0.121405  \n",
       "F_heteroclitusMDPL  0.221701  \n",
       "F_heteroclitusMDPP  0.201000  \n",
       "F_notatus           0.073891  \n",
       "F_rathbuni          0.097641  \n",
       "F_sciadicus         0.084369  \n",
       "F_similis           0.065499  \n",
       "F_zebrinus          0.082327  \n",
       "L_goodei            0.054161  \n",
       "L_parva             0.053764  "
      ]
     },
     "execution_count": 80,
     "metadata": {},
     "output_type": "execute_result"
    }
   ],
   "source": [
    "df_bwamemtxome_clipping"
   ]
  },
  {
   "cell_type": "markdown",
   "metadata": {},
   "source": [
    "# bwa mem txome, clipping/gap/mismatch penalties -L 100 -B 40 -O 60"
   ]
  },
  {
   "cell_type": "code",
   "execution_count": 81,
   "metadata": {},
   "outputs": [],
   "source": [
    "bwatranscriptome_file = alignment_rate_dir + \"bwa_txome_mismatchgap_alignrates\"\n",
    "bwatranscriptome_data = pd.read_csv(bwatranscriptome_file,sep=\" \",header=None)"
   ]
  },
  {
   "cell_type": "code",
   "execution_count": 82,
   "metadata": {},
   "outputs": [
    {
     "name": "stderr",
     "output_type": "stream",
     "text": [
      "/Users/johnsolk/anaconda3/envs/jupyterpy3/lib/python3.7/site-packages/ipykernel_launcher.py:3: SettingWithCopyWarning: \n",
      "A value is trying to be set on a copy of a slice from a DataFrame.\n",
      "Try using .loc[row_indexer,col_indexer] = value instead\n",
      "\n",
      "See the caveats in the documentation: http://pandas.pydata.org/pandas-docs/stable/indexing.html#indexing-view-versus-copy\n",
      "  This is separate from the ipykernel package so we can avoid doing imports until\n",
      "/Users/johnsolk/anaconda3/envs/jupyterpy3/lib/python3.7/site-packages/ipykernel_launcher.py:4: SettingWithCopyWarning: \n",
      "A value is trying to be set on a copy of a slice from a DataFrame.\n",
      "Try using .loc[row_indexer,col_indexer] = value instead\n",
      "\n",
      "See the caveats in the documentation: http://pandas.pydata.org/pandas-docs/stable/indexing.html#indexing-view-versus-copy\n",
      "  after removing the cwd from sys.path.\n"
     ]
    }
   ],
   "source": [
    "rate = bwatranscriptome_data[[0,4]]\n",
    "rate.columns = ['sample_info','perc_info']\n",
    "rate['bwatxome_gapmismatch_alignment_rate'] = rate.perc_info.str.split('(',n=1,expand=True)[1]\n",
    "rate['samples'] = rate.sample_info.str.split(\"/\",n=2,expand=True)[1]"
   ]
  },
  {
   "cell_type": "code",
   "execution_count": 83,
   "metadata": {},
   "outputs": [
    {
     "name": "stderr",
     "output_type": "stream",
     "text": [
      "/Users/johnsolk/anaconda3/envs/jupyterpy3/lib/python3.7/site-packages/ipykernel_launcher.py:1: SettingWithCopyWarning: \n",
      "A value is trying to be set on a copy of a slice from a DataFrame.\n",
      "Try using .loc[row_indexer,col_indexer] = value instead\n",
      "\n",
      "See the caveats in the documentation: http://pandas.pydata.org/pandas-docs/stable/indexing.html#indexing-view-versus-copy\n",
      "  \"\"\"Entry point for launching an IPython kernel.\n"
     ]
    }
   ],
   "source": [
    "rate['replicate'] = rate.samples.str.split(\".\",n=2,expand=True)[0]"
   ]
  },
  {
   "cell_type": "code",
   "execution_count": 84,
   "metadata": {},
   "outputs": [
    {
     "name": "stderr",
     "output_type": "stream",
     "text": [
      "/Users/johnsolk/anaconda3/envs/jupyterpy3/lib/python3.7/site-packages/ipykernel_launcher.py:1: SettingWithCopyWarning: \n",
      "A value is trying to be set on a copy of a slice from a DataFrame.\n",
      "Try using .loc[row_indexer,col_indexer] = value instead\n",
      "\n",
      "See the caveats in the documentation: http://pandas.pydata.org/pandas-docs/stable/indexing.html#indexing-view-versus-copy\n",
      "  \"\"\"Entry point for launching an IPython kernel.\n"
     ]
    }
   ],
   "source": [
    "rate['species'] = rate.samples.str.split(\"_\",n=4,expand=True)[0] + \"_\" + rate.samples.str.split(\"_\",n=4,expand=True)[1] "
   ]
  },
  {
   "cell_type": "code",
   "execution_count": 85,
   "metadata": {},
   "outputs": [
    {
     "name": "stderr",
     "output_type": "stream",
     "text": [
      "/Users/johnsolk/anaconda3/envs/jupyterpy3/lib/python3.7/site-packages/ipykernel_launcher.py:1: SettingWithCopyWarning: \n",
      "A value is trying to be set on a copy of a slice from a DataFrame.\n",
      "Try using .loc[row_indexer,col_indexer] = value instead\n",
      "\n",
      "See the caveats in the documentation: http://pandas.pydata.org/pandas-docs/stable/indexing.html#indexing-view-versus-copy\n",
      "  \"\"\"Entry point for launching an IPython kernel.\n"
     ]
    }
   ],
   "source": [
    "rate['bwatxome_gapmismatch_alignment_rate'] = rate.bwatxome_gapmismatch_alignment_rate.str.split(\"%\",n=1,expand=True)[0].astype('float')"
   ]
  },
  {
   "cell_type": "code",
   "execution_count": 86,
   "metadata": {},
   "outputs": [],
   "source": [
    "rate = rate[['replicate','species','bwatxome_gapmismatch_alignment_rate']]"
   ]
  },
  {
   "cell_type": "code",
   "execution_count": 87,
   "metadata": {},
   "outputs": [],
   "source": [
    "# get mean and sd of df_salmon groupby species\n",
    "df_bwamemtxome_mean = rate.groupby(\"species\")['bwatxome_gapmismatch_alignment_rate'].agg([np.mean, np.std])\n",
    "df_bwamemtxome_mean.columns = ['mean_bwamem_txome_gapmismatch','std_bwamem_txome_gapmismatch']"
   ]
  },
  {
   "cell_type": "code",
   "execution_count": 88,
   "metadata": {},
   "outputs": [],
   "source": [
    "df_bwamemtxome_gapmismatch = pd.merge(df_bwamemtxome_mean,x_axis_jaccard,on = \"species\")"
   ]
  },
  {
   "cell_type": "code",
   "execution_count": 89,
   "metadata": {},
   "outputs": [
    {
     "data": {
      "text/html": [
       "<div>\n",
       "<style scoped>\n",
       "    .dataframe tbody tr th:only-of-type {\n",
       "        vertical-align: middle;\n",
       "    }\n",
       "\n",
       "    .dataframe tbody tr th {\n",
       "        vertical-align: top;\n",
       "    }\n",
       "\n",
       "    .dataframe thead th {\n",
       "        text-align: right;\n",
       "    }\n",
       "</style>\n",
       "<table border=\"1\" class=\"dataframe\">\n",
       "  <thead>\n",
       "    <tr style=\"text-align: right;\">\n",
       "      <th></th>\n",
       "      <th>mean_bwamem_txome_gapmismatch</th>\n",
       "      <th>std_bwamem_txome_gapmismatch</th>\n",
       "      <th>rna.fa</th>\n",
       "    </tr>\n",
       "    <tr>\n",
       "      <th>species</th>\n",
       "      <th></th>\n",
       "      <th></th>\n",
       "      <th></th>\n",
       "    </tr>\n",
       "  </thead>\n",
       "  <tbody>\n",
       "    <tr>\n",
       "      <th>F_chrysotus</th>\n",
       "      <td>72.077500</td>\n",
       "      <td>1.154194</td>\n",
       "      <td>0.066424</td>\n",
       "    </tr>\n",
       "    <tr>\n",
       "      <th>F_diaphanus</th>\n",
       "      <td>75.848333</td>\n",
       "      <td>1.561735</td>\n",
       "      <td>0.114249</td>\n",
       "    </tr>\n",
       "    <tr>\n",
       "      <th>F_grandis</th>\n",
       "      <td>67.486250</td>\n",
       "      <td>13.950704</td>\n",
       "      <td>0.121405</td>\n",
       "    </tr>\n",
       "    <tr>\n",
       "      <th>F_heteroclitusMDPL</th>\n",
       "      <td>75.572500</td>\n",
       "      <td>5.274320</td>\n",
       "      <td>0.221701</td>\n",
       "    </tr>\n",
       "    <tr>\n",
       "      <th>F_heteroclitusMDPP</th>\n",
       "      <td>76.523750</td>\n",
       "      <td>5.120058</td>\n",
       "      <td>0.201000</td>\n",
       "    </tr>\n",
       "    <tr>\n",
       "      <th>F_notatus</th>\n",
       "      <td>72.860000</td>\n",
       "      <td>1.894353</td>\n",
       "      <td>0.073891</td>\n",
       "    </tr>\n",
       "    <tr>\n",
       "      <th>F_rathbuni</th>\n",
       "      <td>77.050000</td>\n",
       "      <td>1.944158</td>\n",
       "      <td>0.097641</td>\n",
       "    </tr>\n",
       "    <tr>\n",
       "      <th>F_sciadicus</th>\n",
       "      <td>73.222500</td>\n",
       "      <td>2.551488</td>\n",
       "      <td>0.084369</td>\n",
       "    </tr>\n",
       "    <tr>\n",
       "      <th>F_similis</th>\n",
       "      <td>64.115556</td>\n",
       "      <td>6.985848</td>\n",
       "      <td>0.065499</td>\n",
       "    </tr>\n",
       "    <tr>\n",
       "      <th>F_zebrinus</th>\n",
       "      <td>69.340000</td>\n",
       "      <td>4.353420</td>\n",
       "      <td>0.082327</td>\n",
       "    </tr>\n",
       "    <tr>\n",
       "      <th>L_goodei</th>\n",
       "      <td>63.604444</td>\n",
       "      <td>3.482144</td>\n",
       "      <td>0.054161</td>\n",
       "    </tr>\n",
       "    <tr>\n",
       "      <th>L_parva</th>\n",
       "      <td>66.702222</td>\n",
       "      <td>4.423776</td>\n",
       "      <td>0.053764</td>\n",
       "    </tr>\n",
       "  </tbody>\n",
       "</table>\n",
       "</div>"
      ],
      "text/plain": [
       "                    mean_bwamem_txome_gapmismatch  \\\n",
       "species                                             \n",
       "F_chrysotus                             72.077500   \n",
       "F_diaphanus                             75.848333   \n",
       "F_grandis                               67.486250   \n",
       "F_heteroclitusMDPL                      75.572500   \n",
       "F_heteroclitusMDPP                      76.523750   \n",
       "F_notatus                               72.860000   \n",
       "F_rathbuni                              77.050000   \n",
       "F_sciadicus                             73.222500   \n",
       "F_similis                               64.115556   \n",
       "F_zebrinus                              69.340000   \n",
       "L_goodei                                63.604444   \n",
       "L_parva                                 66.702222   \n",
       "\n",
       "                    std_bwamem_txome_gapmismatch    rna.fa  \n",
       "species                                                     \n",
       "F_chrysotus                             1.154194  0.066424  \n",
       "F_diaphanus                             1.561735  0.114249  \n",
       "F_grandis                              13.950704  0.121405  \n",
       "F_heteroclitusMDPL                      5.274320  0.221701  \n",
       "F_heteroclitusMDPP                      5.120058  0.201000  \n",
       "F_notatus                               1.894353  0.073891  \n",
       "F_rathbuni                              1.944158  0.097641  \n",
       "F_sciadicus                             2.551488  0.084369  \n",
       "F_similis                               6.985848  0.065499  \n",
       "F_zebrinus                              4.353420  0.082327  \n",
       "L_goodei                                3.482144  0.054161  \n",
       "L_parva                                 4.423776  0.053764  "
      ]
     },
     "execution_count": 89,
     "metadata": {},
     "output_type": "execute_result"
    }
   ],
   "source": [
    "df_bwamemtxome_gapmismatch"
   ]
  },
  {
   "cell_type": "markdown",
   "metadata": {},
   "source": [
    "# STAR"
   ]
  },
  {
   "cell_type": "code",
   "execution_count": 141,
   "metadata": {},
   "outputs": [],
   "source": [
    "star_file = alignment_rate_dir + \"STAR_genome_alignmentrates\"\n",
    "star_data = pd.read_csv(star_file,sep=\"\\t\",header=None)"
   ]
  },
  {
   "cell_type": "code",
   "execution_count": 142,
   "metadata": {},
   "outputs": [],
   "source": [
    "rate = star_data\n",
    "rate.columns = ['sample_info','perc_info']\n",
    "rate['STAR_genome_alignment_rate'] = rate.perc_info.str.split('%',n=1,expand=True)[0].astype('float')"
   ]
  },
  {
   "cell_type": "code",
   "execution_count": 143,
   "metadata": {},
   "outputs": [],
   "source": [
    "rate['samples'] = rate.sample_info.str.split(\"/\",n=2,expand=True)[1]"
   ]
  },
  {
   "cell_type": "code",
   "execution_count": 144,
   "metadata": {},
   "outputs": [],
   "source": [
    "rate['species'] = rate.samples.str.split(\"_\",n=4,expand=True)[0] + \"_\" + rate.samples.str.split(\"_\",n=4,expand=True)[1]"
   ]
  },
  {
   "cell_type": "code",
   "execution_count": 145,
   "metadata": {},
   "outputs": [],
   "source": [
    "rate['replicate_info'] = rate.samples.str.split(\"_\",n=4,expand=True)[3]"
   ]
  },
  {
   "cell_type": "code",
   "execution_count": 146,
   "metadata": {},
   "outputs": [],
   "source": [
    "rate['replicate'] = rate.samples.str.split(\"_\",n=4,expand=True)[0] + \"_\" + rate.samples.str.split(\"_\",n=4,expand=True)[1] + \"_\" + rate.samples.str.split(\"_\",n=4,expand=True)[2] + \"_\" + rate.replicate_info.str.split(\"Log\",n=1,expand=True)[0]\n"
   ]
  },
  {
   "cell_type": "code",
   "execution_count": 147,
   "metadata": {},
   "outputs": [],
   "source": [
    "rate = rate[['replicate','species','STAR_genome_alignment_rate']]"
   ]
  },
  {
   "cell_type": "code",
   "execution_count": 148,
   "metadata": {},
   "outputs": [],
   "source": [
    "# get mean and sd of df_salmon groupby species\n",
    "df_star_mean = rate.groupby(\"species\")[\"STAR_genome_alignment_rate\"].agg([np.mean, np.std])\n",
    "df_star_mean.columns = ['mean_star','std_star']"
   ]
  },
  {
   "cell_type": "code",
   "execution_count": 149,
   "metadata": {},
   "outputs": [],
   "source": [
    "df_star = pd.merge(df_star_mean,x_axis_jaccard,on = \"species\")"
   ]
  },
  {
   "cell_type": "code",
   "execution_count": 150,
   "metadata": {},
   "outputs": [
    {
     "data": {
      "text/html": [
       "<div>\n",
       "<style scoped>\n",
       "    .dataframe tbody tr th:only-of-type {\n",
       "        vertical-align: middle;\n",
       "    }\n",
       "\n",
       "    .dataframe tbody tr th {\n",
       "        vertical-align: top;\n",
       "    }\n",
       "\n",
       "    .dataframe thead th {\n",
       "        text-align: right;\n",
       "    }\n",
       "</style>\n",
       "<table border=\"1\" class=\"dataframe\">\n",
       "  <thead>\n",
       "    <tr style=\"text-align: right;\">\n",
       "      <th></th>\n",
       "      <th>mean_star</th>\n",
       "      <th>std_star</th>\n",
       "      <th>rna.fa</th>\n",
       "    </tr>\n",
       "    <tr>\n",
       "      <th>species</th>\n",
       "      <th></th>\n",
       "      <th></th>\n",
       "      <th></th>\n",
       "    </tr>\n",
       "  </thead>\n",
       "  <tbody>\n",
       "    <tr>\n",
       "      <th>F_catenatus</th>\n",
       "      <td>70.620000</td>\n",
       "      <td>2.227106</td>\n",
       "      <td>0.109070</td>\n",
       "    </tr>\n",
       "    <tr>\n",
       "      <th>F_chrysotus</th>\n",
       "      <td>56.520000</td>\n",
       "      <td>1.459011</td>\n",
       "      <td>0.066424</td>\n",
       "    </tr>\n",
       "    <tr>\n",
       "      <th>F_diaphanus</th>\n",
       "      <td>70.513333</td>\n",
       "      <td>1.951591</td>\n",
       "      <td>0.114249</td>\n",
       "    </tr>\n",
       "    <tr>\n",
       "      <th>F_grandis</th>\n",
       "      <td>75.825556</td>\n",
       "      <td>3.200383</td>\n",
       "      <td>0.121405</td>\n",
       "    </tr>\n",
       "    <tr>\n",
       "      <th>F_heteroclitusMDPL</th>\n",
       "      <td>81.781111</td>\n",
       "      <td>3.009009</td>\n",
       "      <td>0.221701</td>\n",
       "    </tr>\n",
       "    <tr>\n",
       "      <th>F_heteroclitusMDPP</th>\n",
       "      <td>82.238889</td>\n",
       "      <td>3.484194</td>\n",
       "      <td>0.201000</td>\n",
       "    </tr>\n",
       "    <tr>\n",
       "      <th>F_notatus</th>\n",
       "      <td>60.947778</td>\n",
       "      <td>1.573243</td>\n",
       "      <td>0.073891</td>\n",
       "    </tr>\n",
       "    <tr>\n",
       "      <th>F_nottii</th>\n",
       "      <td>57.005000</td>\n",
       "      <td>1.294005</td>\n",
       "      <td>0.089826</td>\n",
       "    </tr>\n",
       "    <tr>\n",
       "      <th>F_olivaceus</th>\n",
       "      <td>60.043750</td>\n",
       "      <td>1.869048</td>\n",
       "      <td>0.078874</td>\n",
       "    </tr>\n",
       "    <tr>\n",
       "      <th>F_parvipinnis</th>\n",
       "      <td>46.515000</td>\n",
       "      <td>2.944287</td>\n",
       "      <td>0.050145</td>\n",
       "    </tr>\n",
       "    <tr>\n",
       "      <th>F_rathbuni</th>\n",
       "      <td>72.427778</td>\n",
       "      <td>2.236575</td>\n",
       "      <td>0.097641</td>\n",
       "    </tr>\n",
       "    <tr>\n",
       "      <th>F_sciadicus</th>\n",
       "      <td>58.667500</td>\n",
       "      <td>1.812078</td>\n",
       "      <td>0.084369</td>\n",
       "    </tr>\n",
       "    <tr>\n",
       "      <th>F_similis</th>\n",
       "      <td>56.155556</td>\n",
       "      <td>1.478691</td>\n",
       "      <td>0.065499</td>\n",
       "    </tr>\n",
       "    <tr>\n",
       "      <th>F_xenicus</th>\n",
       "      <td>55.847500</td>\n",
       "      <td>1.986589</td>\n",
       "      <td>0.065359</td>\n",
       "    </tr>\n",
       "    <tr>\n",
       "      <th>F_zebrinus</th>\n",
       "      <td>57.905000</td>\n",
       "      <td>2.036165</td>\n",
       "      <td>0.082327</td>\n",
       "    </tr>\n",
       "    <tr>\n",
       "      <th>L_goodei</th>\n",
       "      <td>49.967778</td>\n",
       "      <td>1.637580</td>\n",
       "      <td>0.054161</td>\n",
       "    </tr>\n",
       "    <tr>\n",
       "      <th>L_parva</th>\n",
       "      <td>50.121111</td>\n",
       "      <td>2.281307</td>\n",
       "      <td>0.053764</td>\n",
       "    </tr>\n",
       "  </tbody>\n",
       "</table>\n",
       "</div>"
      ],
      "text/plain": [
       "                    mean_star  std_star    rna.fa\n",
       "species                                          \n",
       "F_catenatus         70.620000  2.227106  0.109070\n",
       "F_chrysotus         56.520000  1.459011  0.066424\n",
       "F_diaphanus         70.513333  1.951591  0.114249\n",
       "F_grandis           75.825556  3.200383  0.121405\n",
       "F_heteroclitusMDPL  81.781111  3.009009  0.221701\n",
       "F_heteroclitusMDPP  82.238889  3.484194  0.201000\n",
       "F_notatus           60.947778  1.573243  0.073891\n",
       "F_nottii            57.005000  1.294005  0.089826\n",
       "F_olivaceus         60.043750  1.869048  0.078874\n",
       "F_parvipinnis       46.515000  2.944287  0.050145\n",
       "F_rathbuni          72.427778  2.236575  0.097641\n",
       "F_sciadicus         58.667500  1.812078  0.084369\n",
       "F_similis           56.155556  1.478691  0.065499\n",
       "F_xenicus           55.847500  1.986589  0.065359\n",
       "F_zebrinus          57.905000  2.036165  0.082327\n",
       "L_goodei            49.967778  1.637580  0.054161\n",
       "L_parva             50.121111  2.281307  0.053764"
      ]
     },
     "execution_count": 150,
     "metadata": {},
     "output_type": "execute_result"
    }
   ],
   "source": [
    "df_star"
   ]
  },
  {
   "cell_type": "markdown",
   "metadata": {},
   "source": [
    "# 6 reference alignment methods + salmon de novo together"
   ]
  },
  {
   "cell_type": "code",
   "execution_count": 178,
   "metadata": {},
   "outputs": [],
   "source": [
    "alldf = pd.merge(df_star,df_salmon,on=\"species\")\n",
    "alldf = alldf.drop(columns=['rna.fa_x', 'rna.fa_y'])\n",
    "alldf = pd.merge(alldf,df_hisat2,on=\"species\")\n",
    "alldf = pd.merge(alldf,df_salmon_denovo,on=\"species\")\n",
    "alldf = alldf.rename(index=str, columns={\"rna.fa_x\": \"Fhet_jaccard\"})\n",
    "alldf = alldf.drop(columns=['rna.fa_y'])"
   ]
  },
  {
   "cell_type": "code",
   "execution_count": 179,
   "metadata": {},
   "outputs": [
    {
     "data": {
      "text/html": [
       "<div>\n",
       "<style scoped>\n",
       "    .dataframe tbody tr th:only-of-type {\n",
       "        vertical-align: middle;\n",
       "    }\n",
       "\n",
       "    .dataframe tbody tr th {\n",
       "        vertical-align: top;\n",
       "    }\n",
       "\n",
       "    .dataframe thead th {\n",
       "        text-align: right;\n",
       "    }\n",
       "</style>\n",
       "<table border=\"1\" class=\"dataframe\">\n",
       "  <thead>\n",
       "    <tr style=\"text-align: right;\">\n",
       "      <th></th>\n",
       "      <th>mean_star</th>\n",
       "      <th>std_star</th>\n",
       "      <th>mean_salmonFhet</th>\n",
       "      <th>std_salmonFhet</th>\n",
       "      <th>mean_hisat2</th>\n",
       "      <th>std_hisat2</th>\n",
       "      <th>Fhet_jaccard</th>\n",
       "      <th>mean_salmondenovo</th>\n",
       "      <th>std_salmondenovo</th>\n",
       "    </tr>\n",
       "    <tr>\n",
       "      <th>species</th>\n",
       "      <th></th>\n",
       "      <th></th>\n",
       "      <th></th>\n",
       "      <th></th>\n",
       "      <th></th>\n",
       "      <th></th>\n",
       "      <th></th>\n",
       "      <th></th>\n",
       "      <th></th>\n",
       "    </tr>\n",
       "  </thead>\n",
       "  <tbody>\n",
       "    <tr>\n",
       "      <th>F_catenatus</th>\n",
       "      <td>70.620000</td>\n",
       "      <td>2.227106</td>\n",
       "      <td>59.184429</td>\n",
       "      <td>4.343153</td>\n",
       "      <td>48.815714</td>\n",
       "      <td>1.183960</td>\n",
       "      <td>0.109070</td>\n",
       "      <td>81.182980</td>\n",
       "      <td>2.615629</td>\n",
       "    </tr>\n",
       "    <tr>\n",
       "      <th>F_chrysotus</th>\n",
       "      <td>56.520000</td>\n",
       "      <td>1.459011</td>\n",
       "      <td>54.770188</td>\n",
       "      <td>1.296955</td>\n",
       "      <td>32.077500</td>\n",
       "      <td>1.028477</td>\n",
       "      <td>0.066424</td>\n",
       "      <td>81.800800</td>\n",
       "      <td>0.974929</td>\n",
       "    </tr>\n",
       "    <tr>\n",
       "      <th>F_diaphanus</th>\n",
       "      <td>70.513333</td>\n",
       "      <td>1.951591</td>\n",
       "      <td>61.246000</td>\n",
       "      <td>2.470607</td>\n",
       "      <td>49.873333</td>\n",
       "      <td>2.151712</td>\n",
       "      <td>0.114249</td>\n",
       "      <td>80.270933</td>\n",
       "      <td>1.800028</td>\n",
       "    </tr>\n",
       "    <tr>\n",
       "      <th>F_grandis</th>\n",
       "      <td>75.825556</td>\n",
       "      <td>3.200383</td>\n",
       "      <td>57.420867</td>\n",
       "      <td>12.006247</td>\n",
       "      <td>63.860000</td>\n",
       "      <td>1.497030</td>\n",
       "      <td>0.121405</td>\n",
       "      <td>74.955256</td>\n",
       "      <td>1.485886</td>\n",
       "    </tr>\n",
       "    <tr>\n",
       "      <th>F_heteroclitusMDPL</th>\n",
       "      <td>81.781111</td>\n",
       "      <td>3.009009</td>\n",
       "      <td>64.552211</td>\n",
       "      <td>5.273074</td>\n",
       "      <td>76.278889</td>\n",
       "      <td>2.315974</td>\n",
       "      <td>0.221701</td>\n",
       "      <td>75.755189</td>\n",
       "      <td>2.042814</td>\n",
       "    </tr>\n",
       "    <tr>\n",
       "      <th>F_heteroclitusMDPP</th>\n",
       "      <td>82.238889</td>\n",
       "      <td>3.484194</td>\n",
       "      <td>65.770489</td>\n",
       "      <td>4.722945</td>\n",
       "      <td>77.720000</td>\n",
       "      <td>2.681832</td>\n",
       "      <td>0.201000</td>\n",
       "      <td>74.023778</td>\n",
       "      <td>3.181816</td>\n",
       "    </tr>\n",
       "    <tr>\n",
       "      <th>F_notatus</th>\n",
       "      <td>60.947778</td>\n",
       "      <td>1.573243</td>\n",
       "      <td>56.591278</td>\n",
       "      <td>2.152217</td>\n",
       "      <td>36.821111</td>\n",
       "      <td>0.987743</td>\n",
       "      <td>0.073891</td>\n",
       "      <td>81.458678</td>\n",
       "      <td>1.289989</td>\n",
       "    </tr>\n",
       "    <tr>\n",
       "      <th>F_nottii</th>\n",
       "      <td>57.005000</td>\n",
       "      <td>1.294005</td>\n",
       "      <td>55.099800</td>\n",
       "      <td>NaN</td>\n",
       "      <td>32.405000</td>\n",
       "      <td>0.162635</td>\n",
       "      <td>0.089826</td>\n",
       "      <td>81.702600</td>\n",
       "      <td>NaN</td>\n",
       "    </tr>\n",
       "    <tr>\n",
       "      <th>F_olivaceus</th>\n",
       "      <td>60.043750</td>\n",
       "      <td>1.869048</td>\n",
       "      <td>55.028838</td>\n",
       "      <td>3.442983</td>\n",
       "      <td>36.528750</td>\n",
       "      <td>0.816848</td>\n",
       "      <td>0.078874</td>\n",
       "      <td>82.859237</td>\n",
       "      <td>1.403167</td>\n",
       "    </tr>\n",
       "    <tr>\n",
       "      <th>F_parvipinnis</th>\n",
       "      <td>46.515000</td>\n",
       "      <td>2.944287</td>\n",
       "      <td>43.424457</td>\n",
       "      <td>1.804062</td>\n",
       "      <td>26.710000</td>\n",
       "      <td>3.121263</td>\n",
       "      <td>0.050145</td>\n",
       "      <td>83.153300</td>\n",
       "      <td>1.590271</td>\n",
       "    </tr>\n",
       "    <tr>\n",
       "      <th>F_rathbuni</th>\n",
       "      <td>72.427778</td>\n",
       "      <td>2.236575</td>\n",
       "      <td>61.714956</td>\n",
       "      <td>1.894362</td>\n",
       "      <td>49.791111</td>\n",
       "      <td>1.988815</td>\n",
       "      <td>0.097641</td>\n",
       "      <td>82.010856</td>\n",
       "      <td>1.775989</td>\n",
       "    </tr>\n",
       "    <tr>\n",
       "      <th>F_sciadicus</th>\n",
       "      <td>58.667500</td>\n",
       "      <td>1.812078</td>\n",
       "      <td>56.682275</td>\n",
       "      <td>1.876854</td>\n",
       "      <td>35.585000</td>\n",
       "      <td>1.453513</td>\n",
       "      <td>0.084369</td>\n",
       "      <td>82.068325</td>\n",
       "      <td>2.058371</td>\n",
       "    </tr>\n",
       "    <tr>\n",
       "      <th>F_similis</th>\n",
       "      <td>56.155556</td>\n",
       "      <td>1.478691</td>\n",
       "      <td>48.177767</td>\n",
       "      <td>4.917644</td>\n",
       "      <td>36.833333</td>\n",
       "      <td>2.335974</td>\n",
       "      <td>0.065499</td>\n",
       "      <td>75.993111</td>\n",
       "      <td>1.477629</td>\n",
       "    </tr>\n",
       "    <tr>\n",
       "      <th>F_xenicus</th>\n",
       "      <td>55.847500</td>\n",
       "      <td>1.986589</td>\n",
       "      <td>55.375100</td>\n",
       "      <td>2.010143</td>\n",
       "      <td>31.456667</td>\n",
       "      <td>0.950761</td>\n",
       "      <td>0.065359</td>\n",
       "      <td>82.434400</td>\n",
       "      <td>2.554720</td>\n",
       "    </tr>\n",
       "    <tr>\n",
       "      <th>F_zebrinus</th>\n",
       "      <td>57.905000</td>\n",
       "      <td>2.036165</td>\n",
       "      <td>52.972925</td>\n",
       "      <td>3.926850</td>\n",
       "      <td>34.647500</td>\n",
       "      <td>0.983713</td>\n",
       "      <td>0.082327</td>\n",
       "      <td>81.141075</td>\n",
       "      <td>4.547584</td>\n",
       "    </tr>\n",
       "    <tr>\n",
       "      <th>L_goodei</th>\n",
       "      <td>49.967778</td>\n",
       "      <td>1.637580</td>\n",
       "      <td>46.687689</td>\n",
       "      <td>2.752060</td>\n",
       "      <td>29.051111</td>\n",
       "      <td>2.227467</td>\n",
       "      <td>0.054161</td>\n",
       "      <td>77.046000</td>\n",
       "      <td>2.031459</td>\n",
       "    </tr>\n",
       "    <tr>\n",
       "      <th>L_parva</th>\n",
       "      <td>50.121111</td>\n",
       "      <td>2.281307</td>\n",
       "      <td>49.292456</td>\n",
       "      <td>4.072149</td>\n",
       "      <td>27.895556</td>\n",
       "      <td>1.647818</td>\n",
       "      <td>0.053764</td>\n",
       "      <td>80.816611</td>\n",
       "      <td>1.434253</td>\n",
       "    </tr>\n",
       "  </tbody>\n",
       "</table>\n",
       "</div>"
      ],
      "text/plain": [
       "                    mean_star  std_star  mean_salmonFhet  std_salmonFhet  \\\n",
       "species                                                                    \n",
       "F_catenatus         70.620000  2.227106        59.184429        4.343153   \n",
       "F_chrysotus         56.520000  1.459011        54.770188        1.296955   \n",
       "F_diaphanus         70.513333  1.951591        61.246000        2.470607   \n",
       "F_grandis           75.825556  3.200383        57.420867       12.006247   \n",
       "F_heteroclitusMDPL  81.781111  3.009009        64.552211        5.273074   \n",
       "F_heteroclitusMDPP  82.238889  3.484194        65.770489        4.722945   \n",
       "F_notatus           60.947778  1.573243        56.591278        2.152217   \n",
       "F_nottii            57.005000  1.294005        55.099800             NaN   \n",
       "F_olivaceus         60.043750  1.869048        55.028838        3.442983   \n",
       "F_parvipinnis       46.515000  2.944287        43.424457        1.804062   \n",
       "F_rathbuni          72.427778  2.236575        61.714956        1.894362   \n",
       "F_sciadicus         58.667500  1.812078        56.682275        1.876854   \n",
       "F_similis           56.155556  1.478691        48.177767        4.917644   \n",
       "F_xenicus           55.847500  1.986589        55.375100        2.010143   \n",
       "F_zebrinus          57.905000  2.036165        52.972925        3.926850   \n",
       "L_goodei            49.967778  1.637580        46.687689        2.752060   \n",
       "L_parva             50.121111  2.281307        49.292456        4.072149   \n",
       "\n",
       "                    mean_hisat2  std_hisat2  Fhet_jaccard  mean_salmondenovo  \\\n",
       "species                                                                        \n",
       "F_catenatus           48.815714    1.183960      0.109070          81.182980   \n",
       "F_chrysotus           32.077500    1.028477      0.066424          81.800800   \n",
       "F_diaphanus           49.873333    2.151712      0.114249          80.270933   \n",
       "F_grandis             63.860000    1.497030      0.121405          74.955256   \n",
       "F_heteroclitusMDPL    76.278889    2.315974      0.221701          75.755189   \n",
       "F_heteroclitusMDPP    77.720000    2.681832      0.201000          74.023778   \n",
       "F_notatus             36.821111    0.987743      0.073891          81.458678   \n",
       "F_nottii              32.405000    0.162635      0.089826          81.702600   \n",
       "F_olivaceus           36.528750    0.816848      0.078874          82.859237   \n",
       "F_parvipinnis         26.710000    3.121263      0.050145          83.153300   \n",
       "F_rathbuni            49.791111    1.988815      0.097641          82.010856   \n",
       "F_sciadicus           35.585000    1.453513      0.084369          82.068325   \n",
       "F_similis             36.833333    2.335974      0.065499          75.993111   \n",
       "F_xenicus             31.456667    0.950761      0.065359          82.434400   \n",
       "F_zebrinus            34.647500    0.983713      0.082327          81.141075   \n",
       "L_goodei              29.051111    2.227467      0.054161          77.046000   \n",
       "L_parva               27.895556    1.647818      0.053764          80.816611   \n",
       "\n",
       "                    std_salmondenovo  \n",
       "species                               \n",
       "F_catenatus                 2.615629  \n",
       "F_chrysotus                 0.974929  \n",
       "F_diaphanus                 1.800028  \n",
       "F_grandis                   1.485886  \n",
       "F_heteroclitusMDPL          2.042814  \n",
       "F_heteroclitusMDPP          3.181816  \n",
       "F_notatus                   1.289989  \n",
       "F_nottii                         NaN  \n",
       "F_olivaceus                 1.403167  \n",
       "F_parvipinnis               1.590271  \n",
       "F_rathbuni                  1.775989  \n",
       "F_sciadicus                 2.058371  \n",
       "F_similis                   1.477629  \n",
       "F_xenicus                   2.554720  \n",
       "F_zebrinus                  4.547584  \n",
       "L_goodei                    2.031459  \n",
       "L_parva                     1.434253  "
      ]
     },
     "execution_count": 179,
     "metadata": {},
     "output_type": "execute_result"
    }
   ],
   "source": [
    "alldf"
   ]
  },
  {
   "cell_type": "code",
   "execution_count": 180,
   "metadata": {},
   "outputs": [],
   "source": [
    "alldf[['Fhet_jaccard']] = alldf[['Fhet_jaccard']].astype('float')"
   ]
  },
  {
   "cell_type": "code",
   "execution_count": 181,
   "metadata": {},
   "outputs": [],
   "source": [
    "alldf = alldf.sort_values(by=['Fhet_jaccard'],ascending=True)"
   ]
  },
  {
   "cell_type": "code",
   "execution_count": 182,
   "metadata": {},
   "outputs": [
    {
     "data": {
      "text/html": [
       "<div>\n",
       "<style scoped>\n",
       "    .dataframe tbody tr th:only-of-type {\n",
       "        vertical-align: middle;\n",
       "    }\n",
       "\n",
       "    .dataframe tbody tr th {\n",
       "        vertical-align: top;\n",
       "    }\n",
       "\n",
       "    .dataframe thead th {\n",
       "        text-align: right;\n",
       "    }\n",
       "</style>\n",
       "<table border=\"1\" class=\"dataframe\">\n",
       "  <thead>\n",
       "    <tr style=\"text-align: right;\">\n",
       "      <th></th>\n",
       "      <th>mean_star</th>\n",
       "      <th>std_star</th>\n",
       "      <th>mean_salmonFhet</th>\n",
       "      <th>std_salmonFhet</th>\n",
       "      <th>mean_hisat2</th>\n",
       "      <th>std_hisat2</th>\n",
       "      <th>Fhet_jaccard</th>\n",
       "      <th>mean_salmondenovo</th>\n",
       "      <th>std_salmondenovo</th>\n",
       "    </tr>\n",
       "    <tr>\n",
       "      <th>species</th>\n",
       "      <th></th>\n",
       "      <th></th>\n",
       "      <th></th>\n",
       "      <th></th>\n",
       "      <th></th>\n",
       "      <th></th>\n",
       "      <th></th>\n",
       "      <th></th>\n",
       "      <th></th>\n",
       "    </tr>\n",
       "  </thead>\n",
       "  <tbody>\n",
       "    <tr>\n",
       "      <th>F_parvipinnis</th>\n",
       "      <td>46.515000</td>\n",
       "      <td>2.944287</td>\n",
       "      <td>43.424457</td>\n",
       "      <td>1.804062</td>\n",
       "      <td>26.710000</td>\n",
       "      <td>3.121263</td>\n",
       "      <td>0.050145</td>\n",
       "      <td>83.153300</td>\n",
       "      <td>1.590271</td>\n",
       "    </tr>\n",
       "    <tr>\n",
       "      <th>L_parva</th>\n",
       "      <td>50.121111</td>\n",
       "      <td>2.281307</td>\n",
       "      <td>49.292456</td>\n",
       "      <td>4.072149</td>\n",
       "      <td>27.895556</td>\n",
       "      <td>1.647818</td>\n",
       "      <td>0.053764</td>\n",
       "      <td>80.816611</td>\n",
       "      <td>1.434253</td>\n",
       "    </tr>\n",
       "    <tr>\n",
       "      <th>L_goodei</th>\n",
       "      <td>49.967778</td>\n",
       "      <td>1.637580</td>\n",
       "      <td>46.687689</td>\n",
       "      <td>2.752060</td>\n",
       "      <td>29.051111</td>\n",
       "      <td>2.227467</td>\n",
       "      <td>0.054161</td>\n",
       "      <td>77.046000</td>\n",
       "      <td>2.031459</td>\n",
       "    </tr>\n",
       "    <tr>\n",
       "      <th>F_xenicus</th>\n",
       "      <td>55.847500</td>\n",
       "      <td>1.986589</td>\n",
       "      <td>55.375100</td>\n",
       "      <td>2.010143</td>\n",
       "      <td>31.456667</td>\n",
       "      <td>0.950761</td>\n",
       "      <td>0.065359</td>\n",
       "      <td>82.434400</td>\n",
       "      <td>2.554720</td>\n",
       "    </tr>\n",
       "    <tr>\n",
       "      <th>F_similis</th>\n",
       "      <td>56.155556</td>\n",
       "      <td>1.478691</td>\n",
       "      <td>48.177767</td>\n",
       "      <td>4.917644</td>\n",
       "      <td>36.833333</td>\n",
       "      <td>2.335974</td>\n",
       "      <td>0.065499</td>\n",
       "      <td>75.993111</td>\n",
       "      <td>1.477629</td>\n",
       "    </tr>\n",
       "    <tr>\n",
       "      <th>F_chrysotus</th>\n",
       "      <td>56.520000</td>\n",
       "      <td>1.459011</td>\n",
       "      <td>54.770188</td>\n",
       "      <td>1.296955</td>\n",
       "      <td>32.077500</td>\n",
       "      <td>1.028477</td>\n",
       "      <td>0.066424</td>\n",
       "      <td>81.800800</td>\n",
       "      <td>0.974929</td>\n",
       "    </tr>\n",
       "    <tr>\n",
       "      <th>F_notatus</th>\n",
       "      <td>60.947778</td>\n",
       "      <td>1.573243</td>\n",
       "      <td>56.591278</td>\n",
       "      <td>2.152217</td>\n",
       "      <td>36.821111</td>\n",
       "      <td>0.987743</td>\n",
       "      <td>0.073891</td>\n",
       "      <td>81.458678</td>\n",
       "      <td>1.289989</td>\n",
       "    </tr>\n",
       "    <tr>\n",
       "      <th>F_olivaceus</th>\n",
       "      <td>60.043750</td>\n",
       "      <td>1.869048</td>\n",
       "      <td>55.028838</td>\n",
       "      <td>3.442983</td>\n",
       "      <td>36.528750</td>\n",
       "      <td>0.816848</td>\n",
       "      <td>0.078874</td>\n",
       "      <td>82.859237</td>\n",
       "      <td>1.403167</td>\n",
       "    </tr>\n",
       "    <tr>\n",
       "      <th>F_zebrinus</th>\n",
       "      <td>57.905000</td>\n",
       "      <td>2.036165</td>\n",
       "      <td>52.972925</td>\n",
       "      <td>3.926850</td>\n",
       "      <td>34.647500</td>\n",
       "      <td>0.983713</td>\n",
       "      <td>0.082327</td>\n",
       "      <td>81.141075</td>\n",
       "      <td>4.547584</td>\n",
       "    </tr>\n",
       "    <tr>\n",
       "      <th>F_sciadicus</th>\n",
       "      <td>58.667500</td>\n",
       "      <td>1.812078</td>\n",
       "      <td>56.682275</td>\n",
       "      <td>1.876854</td>\n",
       "      <td>35.585000</td>\n",
       "      <td>1.453513</td>\n",
       "      <td>0.084369</td>\n",
       "      <td>82.068325</td>\n",
       "      <td>2.058371</td>\n",
       "    </tr>\n",
       "    <tr>\n",
       "      <th>F_nottii</th>\n",
       "      <td>57.005000</td>\n",
       "      <td>1.294005</td>\n",
       "      <td>55.099800</td>\n",
       "      <td>NaN</td>\n",
       "      <td>32.405000</td>\n",
       "      <td>0.162635</td>\n",
       "      <td>0.089826</td>\n",
       "      <td>81.702600</td>\n",
       "      <td>NaN</td>\n",
       "    </tr>\n",
       "    <tr>\n",
       "      <th>F_rathbuni</th>\n",
       "      <td>72.427778</td>\n",
       "      <td>2.236575</td>\n",
       "      <td>61.714956</td>\n",
       "      <td>1.894362</td>\n",
       "      <td>49.791111</td>\n",
       "      <td>1.988815</td>\n",
       "      <td>0.097641</td>\n",
       "      <td>82.010856</td>\n",
       "      <td>1.775989</td>\n",
       "    </tr>\n",
       "    <tr>\n",
       "      <th>F_catenatus</th>\n",
       "      <td>70.620000</td>\n",
       "      <td>2.227106</td>\n",
       "      <td>59.184429</td>\n",
       "      <td>4.343153</td>\n",
       "      <td>48.815714</td>\n",
       "      <td>1.183960</td>\n",
       "      <td>0.109070</td>\n",
       "      <td>81.182980</td>\n",
       "      <td>2.615629</td>\n",
       "    </tr>\n",
       "    <tr>\n",
       "      <th>F_diaphanus</th>\n",
       "      <td>70.513333</td>\n",
       "      <td>1.951591</td>\n",
       "      <td>61.246000</td>\n",
       "      <td>2.470607</td>\n",
       "      <td>49.873333</td>\n",
       "      <td>2.151712</td>\n",
       "      <td>0.114249</td>\n",
       "      <td>80.270933</td>\n",
       "      <td>1.800028</td>\n",
       "    </tr>\n",
       "    <tr>\n",
       "      <th>F_grandis</th>\n",
       "      <td>75.825556</td>\n",
       "      <td>3.200383</td>\n",
       "      <td>57.420867</td>\n",
       "      <td>12.006247</td>\n",
       "      <td>63.860000</td>\n",
       "      <td>1.497030</td>\n",
       "      <td>0.121405</td>\n",
       "      <td>74.955256</td>\n",
       "      <td>1.485886</td>\n",
       "    </tr>\n",
       "    <tr>\n",
       "      <th>F_heteroclitusMDPP</th>\n",
       "      <td>82.238889</td>\n",
       "      <td>3.484194</td>\n",
       "      <td>65.770489</td>\n",
       "      <td>4.722945</td>\n",
       "      <td>77.720000</td>\n",
       "      <td>2.681832</td>\n",
       "      <td>0.201000</td>\n",
       "      <td>74.023778</td>\n",
       "      <td>3.181816</td>\n",
       "    </tr>\n",
       "    <tr>\n",
       "      <th>F_heteroclitusMDPL</th>\n",
       "      <td>81.781111</td>\n",
       "      <td>3.009009</td>\n",
       "      <td>64.552211</td>\n",
       "      <td>5.273074</td>\n",
       "      <td>76.278889</td>\n",
       "      <td>2.315974</td>\n",
       "      <td>0.221701</td>\n",
       "      <td>75.755189</td>\n",
       "      <td>2.042814</td>\n",
       "    </tr>\n",
       "  </tbody>\n",
       "</table>\n",
       "</div>"
      ],
      "text/plain": [
       "                    mean_star  std_star  mean_salmonFhet  std_salmonFhet  \\\n",
       "species                                                                    \n",
       "F_parvipinnis       46.515000  2.944287        43.424457        1.804062   \n",
       "L_parva             50.121111  2.281307        49.292456        4.072149   \n",
       "L_goodei            49.967778  1.637580        46.687689        2.752060   \n",
       "F_xenicus           55.847500  1.986589        55.375100        2.010143   \n",
       "F_similis           56.155556  1.478691        48.177767        4.917644   \n",
       "F_chrysotus         56.520000  1.459011        54.770188        1.296955   \n",
       "F_notatus           60.947778  1.573243        56.591278        2.152217   \n",
       "F_olivaceus         60.043750  1.869048        55.028838        3.442983   \n",
       "F_zebrinus          57.905000  2.036165        52.972925        3.926850   \n",
       "F_sciadicus         58.667500  1.812078        56.682275        1.876854   \n",
       "F_nottii            57.005000  1.294005        55.099800             NaN   \n",
       "F_rathbuni          72.427778  2.236575        61.714956        1.894362   \n",
       "F_catenatus         70.620000  2.227106        59.184429        4.343153   \n",
       "F_diaphanus         70.513333  1.951591        61.246000        2.470607   \n",
       "F_grandis           75.825556  3.200383        57.420867       12.006247   \n",
       "F_heteroclitusMDPP  82.238889  3.484194        65.770489        4.722945   \n",
       "F_heteroclitusMDPL  81.781111  3.009009        64.552211        5.273074   \n",
       "\n",
       "                    mean_hisat2  std_hisat2  Fhet_jaccard  mean_salmondenovo  \\\n",
       "species                                                                        \n",
       "F_parvipinnis         26.710000    3.121263      0.050145          83.153300   \n",
       "L_parva               27.895556    1.647818      0.053764          80.816611   \n",
       "L_goodei              29.051111    2.227467      0.054161          77.046000   \n",
       "F_xenicus             31.456667    0.950761      0.065359          82.434400   \n",
       "F_similis             36.833333    2.335974      0.065499          75.993111   \n",
       "F_chrysotus           32.077500    1.028477      0.066424          81.800800   \n",
       "F_notatus             36.821111    0.987743      0.073891          81.458678   \n",
       "F_olivaceus           36.528750    0.816848      0.078874          82.859237   \n",
       "F_zebrinus            34.647500    0.983713      0.082327          81.141075   \n",
       "F_sciadicus           35.585000    1.453513      0.084369          82.068325   \n",
       "F_nottii              32.405000    0.162635      0.089826          81.702600   \n",
       "F_rathbuni            49.791111    1.988815      0.097641          82.010856   \n",
       "F_catenatus           48.815714    1.183960      0.109070          81.182980   \n",
       "F_diaphanus           49.873333    2.151712      0.114249          80.270933   \n",
       "F_grandis             63.860000    1.497030      0.121405          74.955256   \n",
       "F_heteroclitusMDPP    77.720000    2.681832      0.201000          74.023778   \n",
       "F_heteroclitusMDPL    76.278889    2.315974      0.221701          75.755189   \n",
       "\n",
       "                    std_salmondenovo  \n",
       "species                               \n",
       "F_parvipinnis               1.590271  \n",
       "L_parva                     1.434253  \n",
       "L_goodei                    2.031459  \n",
       "F_xenicus                   2.554720  \n",
       "F_similis                   1.477629  \n",
       "F_chrysotus                 0.974929  \n",
       "F_notatus                   1.289989  \n",
       "F_olivaceus                 1.403167  \n",
       "F_zebrinus                  4.547584  \n",
       "F_sciadicus                 2.058371  \n",
       "F_nottii                         NaN  \n",
       "F_rathbuni                  1.775989  \n",
       "F_catenatus                 2.615629  \n",
       "F_diaphanus                 1.800028  \n",
       "F_grandis                   1.485886  \n",
       "F_heteroclitusMDPP          3.181816  \n",
       "F_heteroclitusMDPL          2.042814  "
      ]
     },
     "execution_count": 182,
     "metadata": {},
     "output_type": "execute_result"
    }
   ],
   "source": [
    "# This is the dataframe to be plotted.\n",
    "alldf"
   ]
  },
  {
   "cell_type": "code",
   "execution_count": 183,
   "metadata": {
    "scrolled": true
   },
   "outputs": [
    {
     "data": {
      "image/png": "[encoded data removed]",
      "text/plain": [
       "<Figure size 1440x720 with 1 Axes>"
      ]
     },
     "metadata": {
      "needs_background": "light"
     },
     "output_type": "display_data"
    }
   ],
   "source": [
    "def plotall():\n",
    "    fig, ax = plt.subplots(figsize=(20, 10))\n",
    "    ax.set_facecolor('white')\n",
    "    plt.errorbar(alldf['Fhet_jaccard'],alldf['mean_star'], alldf['std_star'], lw=2, marker='o', color = 'red')\n",
    "    #ax.errorbar(alldf['Fhet_jaccard'],alldf['mean_bwamem_txome'], alldf['std_bwamem_txome'],lw=2, marker='o', color = 'blue')\n",
    "    #ax.errorbar(alldf['Fhet_jaccard'],alldf['mean_bwamem_genome'], alldf['std_bwamem_genome'],lw=2, marker='o', color = 'green')\n",
    "    ax.errorbar(alldf['Fhet_jaccard'],alldf['mean_hisat2'], alldf['std_hisat2'],lw=2, marker='o', color = 'green')\n",
    "    ax.errorbar(alldf['Fhet_jaccard'],alldf['mean_salmonFhet'], alldf['std_salmonFhet'],lw=2, marker='o', color = 'purple')\n",
    "    ax.errorbar(alldf['Fhet_jaccard'],alldf['mean_salmondenovo'], alldf['std_salmondenovo'],lw=2, marker='o', linestyle='--', color = 'black')\n",
    "    #ax.errorbar(alldf['Fhet_jaccard'],alldf['mean_bwamem_genome_clipping'],alldf['std_bwamem_genome_clipping'],lw=2, marker='o', color = 'orange')\n",
    "    #ax.errorbar(alldf['Fhet_jaccard'],alldf['mean_bwamem_txome_clipping'],alldf['std_bwamem_txome_clipping'],lw=2, marker='o', color = 'cyan')\n",
    "    #ax.errorbar(alldf['Fhet_jaccard'],alldf['mean_bwamem_genome_gapmismatch'],alldf['std_bwamem_genome_gapmismatch'],lw=2, marker='o', color = 'orange')\n",
    "    #ax.errorbar(alldf['Fhet_jaccard'],alldf['mean_bwamem_txome_gapmismatch'],alldf['std_bwamem_txome_gapmismatch'],lw=2, marker='o', color = 'cyan')\n",
    "    ax.legend(loc='lower left', frameon=False,fontsize=16)\n",
    "    fig = ax.get_figure()\n",
    "    ax.invert_xaxis()\n",
    "    ax.set_xscale(\"log\")\n",
    "    plt.yticks(fontsize=14)\n",
    "    plt.ylim((25,100))\n",
    "    ax.set_yticks(np.arange(25, 100, 10),minor=True,)\n",
    "    ax.yaxis.set_tick_params(length=10)\n",
    "    ax.yaxis.set_tick_params(which=\"minor\",length=5)\n",
    "    plt.xticks(alldf['Fhet_jaccard'],alldf.index, rotation=90,fontsize=14)\n",
    "    ax.set_ylabel('Alignment %', fontsize=18)\n",
    "    ax.set_xlabel('Species (Jaccard distance from NCBI reference)', fontsize=18)\n",
    "    fig.show()\n",
    "    plt.savefig('Fig3.png', dpi=300, bbox_inches='tight')\n",
    "\n",
    "plotall()"
   ]
  },
  {
   "cell_type": "code",
   "execution_count": null,
   "metadata": {},
   "outputs": [],
   "source": []
  }
 ],
 "metadata": {
  "kernelspec": {
   "display_name": "Python 3",
   "language": "python",
   "name": "python3"
  },
  "language_info": {
   "codemirror_mode": {
    "name": "ipython",
    "version": 3
   },
   "file_extension": ".py",
   "mimetype": "text/x-python",
   "name": "python",
   "nbconvert_exporter": "python",
   "pygments_lexer": "ipython3",
   "version": "3.7.1"
  }
 },
 "nbformat": 4,
 "nbformat_minor": 2
}
