{
 "cells": [
  {
   "cell_type": "markdown",
   "metadata": {},
   "source": [
    "# Looking at Gene Expression across all Fundulus species"
   ]
  },
  {
   "cell_type": "code",
   "execution_count": 1,
   "metadata": {},
   "outputs": [
    {
     "name": "stdout",
     "output_type": "stream",
     "text": [
      "Populating the interactive namespace from numpy and matplotlib\n"
     ]
    }
   ],
   "source": [
    "%pylab inline\n",
    "import pandas as pd\n",
    "import pylab as pl\n",
    "import matplotlib.pyplot as plt\n",
    "import palettable as pal\n",
    "from scipy import stats\n",
    "import numpy as np \n",
    "import seaborn as sns\n",
    "%matplotlib inline"
   ]
  },
  {
   "cell_type": "code",
   "execution_count": 2,
   "metadata": {},
   "outputs": [],
   "source": [
    "giant_matrix = \"/Users/johnsolk/Documents/UCDavis/Whitehead/Ensembl_counts_normalized_25Feb2019.csv\"\n",
    "all_genes = pd.read_csv(giant_matrix,index_col=0)"
   ]
  },
  {
   "cell_type": "code",
   "execution_count": 3,
   "metadata": {},
   "outputs": [
    {
     "data": {
      "text/html": [
       "<div>\n",
       "<style scoped>\n",
       "    .dataframe tbody tr th:only-of-type {\n",
       "        vertical-align: middle;\n",
       "    }\n",
       "\n",
       "    .dataframe tbody tr th {\n",
       "        vertical-align: top;\n",
       "    }\n",
       "\n",
       "    .dataframe thead th {\n",
       "        text-align: right;\n",
       "    }\n",
       "</style>\n",
       "<table border=\"1\" class=\"dataframe\">\n",
       "  <thead>\n",
       "    <tr style=\"text-align: right;\">\n",
       "      <th></th>\n",
       "      <th>F_sciadicus_BW_1.quant</th>\n",
       "      <th>F_sciadicus_FW_1.quant</th>\n",
       "      <th>F_sciadicus_FW_2.quant</th>\n",
       "      <th>F_sciadicus_transfer_1.quant</th>\n",
       "      <th>F_rathbuni_BW_1.quant</th>\n",
       "      <th>F_rathbuni_BW_2.quant</th>\n",
       "      <th>F_rathbuni_BW_3.quant</th>\n",
       "      <th>F_rathbuni_FW_1.quant</th>\n",
       "      <th>F_rathbuni_FW_2.quant</th>\n",
       "      <th>F_rathbuni_FW_3.quant</th>\n",
       "      <th>...</th>\n",
       "      <th>F_catanatus_transfer_2.quant</th>\n",
       "      <th>F_heteroclitusMDPL_BW_1.quant</th>\n",
       "      <th>F_heteroclitusMDPL_BW_2.quant</th>\n",
       "      <th>F_heteroclitusMDPL_BW_3.quant</th>\n",
       "      <th>F_heteroclitusMDPL_FW_1.quant</th>\n",
       "      <th>F_heteroclitusMDPL_FW_2.quant</th>\n",
       "      <th>F_heteroclitusMDPL_FW_3.quant</th>\n",
       "      <th>F_heteroclitusMDPL_transfer_1.quant</th>\n",
       "      <th>F_heteroclitusMDPL_transfer_2.quant</th>\n",
       "      <th>F_heteroclitusMDPL_transfer_3.quant</th>\n",
       "    </tr>\n",
       "  </thead>\n",
       "  <tbody>\n",
       "    <tr>\n",
       "      <th>ENSFHEP00000000002</th>\n",
       "      <td>2.371597</td>\n",
       "      <td>0.000000</td>\n",
       "      <td>0.000000</td>\n",
       "      <td>2.080585</td>\n",
       "      <td>7.396334</td>\n",
       "      <td>0.000000</td>\n",
       "      <td>0.000000</td>\n",
       "      <td>6.963339</td>\n",
       "      <td>0.954480</td>\n",
       "      <td>0.000000</td>\n",
       "      <td>...</td>\n",
       "      <td>0.649591</td>\n",
       "      <td>1.771908</td>\n",
       "      <td>1.244243</td>\n",
       "      <td>9.474714</td>\n",
       "      <td>4.749169</td>\n",
       "      <td>0.000000</td>\n",
       "      <td>0.000000</td>\n",
       "      <td>3.122480</td>\n",
       "      <td>1.392245</td>\n",
       "      <td>0.860510</td>\n",
       "    </tr>\n",
       "    <tr>\n",
       "      <th>ENSFHEP00000000003</th>\n",
       "      <td>9108.120063</td>\n",
       "      <td>14237.444550</td>\n",
       "      <td>15763.528141</td>\n",
       "      <td>11608.626109</td>\n",
       "      <td>0.924542</td>\n",
       "      <td>0.000000</td>\n",
       "      <td>0.994372</td>\n",
       "      <td>0.000000</td>\n",
       "      <td>0.954480</td>\n",
       "      <td>1.541334</td>\n",
       "      <td>...</td>\n",
       "      <td>28.798536</td>\n",
       "      <td>0.000000</td>\n",
       "      <td>0.000000</td>\n",
       "      <td>0.000000</td>\n",
       "      <td>0.000000</td>\n",
       "      <td>0.000000</td>\n",
       "      <td>0.000000</td>\n",
       "      <td>0.000000</td>\n",
       "      <td>0.000000</td>\n",
       "      <td>0.000000</td>\n",
       "    </tr>\n",
       "    <tr>\n",
       "      <th>ENSFHEP00000000004</th>\n",
       "      <td>23159.835041</td>\n",
       "      <td>42030.786445</td>\n",
       "      <td>41512.403197</td>\n",
       "      <td>35871.372478</td>\n",
       "      <td>74371.060358</td>\n",
       "      <td>90970.408124</td>\n",
       "      <td>68306.426817</td>\n",
       "      <td>73853.170969</td>\n",
       "      <td>113698.397822</td>\n",
       "      <td>77159.198089</td>\n",
       "      <td>...</td>\n",
       "      <td>178410.177869</td>\n",
       "      <td>220071.001928</td>\n",
       "      <td>139205.946622</td>\n",
       "      <td>165565.886046</td>\n",
       "      <td>187818.947696</td>\n",
       "      <td>132161.388326</td>\n",
       "      <td>130016.537536</td>\n",
       "      <td>204947.122290</td>\n",
       "      <td>175243.962768</td>\n",
       "      <td>147207.150728</td>\n",
       "    </tr>\n",
       "    <tr>\n",
       "      <th>ENSFHEP00000000005</th>\n",
       "      <td>19921.418703</td>\n",
       "      <td>29796.631210</td>\n",
       "      <td>35715.657533</td>\n",
       "      <td>31451.168845</td>\n",
       "      <td>53245.282096</td>\n",
       "      <td>67430.539797</td>\n",
       "      <td>47369.914849</td>\n",
       "      <td>51731.417409</td>\n",
       "      <td>74235.413766</td>\n",
       "      <td>54672.671103</td>\n",
       "      <td>...</td>\n",
       "      <td>45.254842</td>\n",
       "      <td>3930.092450</td>\n",
       "      <td>1038.943202</td>\n",
       "      <td>1397.520283</td>\n",
       "      <td>3241.307832</td>\n",
       "      <td>1132.489571</td>\n",
       "      <td>790.670578</td>\n",
       "      <td>2804.768002</td>\n",
       "      <td>1933.828264</td>\n",
       "      <td>2044.858484</td>\n",
       "    </tr>\n",
       "    <tr>\n",
       "      <th>ENSFHEP00000000007</th>\n",
       "      <td>14898.375273</td>\n",
       "      <td>18507.452662</td>\n",
       "      <td>20850.184064</td>\n",
       "      <td>18705.502828</td>\n",
       "      <td>10.169959</td>\n",
       "      <td>0.000000</td>\n",
       "      <td>1.988745</td>\n",
       "      <td>30.948172</td>\n",
       "      <td>0.954480</td>\n",
       "      <td>1.541334</td>\n",
       "      <td>...</td>\n",
       "      <td>2.381834</td>\n",
       "      <td>74.420146</td>\n",
       "      <td>43.548517</td>\n",
       "      <td>127.908636</td>\n",
       "      <td>0.000000</td>\n",
       "      <td>7.231734</td>\n",
       "      <td>21.412343</td>\n",
       "      <td>0.000000</td>\n",
       "      <td>0.000000</td>\n",
       "      <td>1.147347</td>\n",
       "    </tr>\n",
       "  </tbody>\n",
       "</table>\n",
       "<p>5 rows × 122 columns</p>\n",
       "</div>"
      ],
      "text/plain": [
       "                    F_sciadicus_BW_1.quant  F_sciadicus_FW_1.quant  \\\n",
       "ENSFHEP00000000002                2.371597                0.000000   \n",
       "ENSFHEP00000000003             9108.120063            14237.444550   \n",
       "ENSFHEP00000000004            23159.835041            42030.786445   \n",
       "ENSFHEP00000000005            19921.418703            29796.631210   \n",
       "ENSFHEP00000000007            14898.375273            18507.452662   \n",
       "\n",
       "                    F_sciadicus_FW_2.quant  F_sciadicus_transfer_1.quant  \\\n",
       "ENSFHEP00000000002                0.000000                      2.080585   \n",
       "ENSFHEP00000000003            15763.528141                  11608.626109   \n",
       "ENSFHEP00000000004            41512.403197                  35871.372478   \n",
       "ENSFHEP00000000005            35715.657533                  31451.168845   \n",
       "ENSFHEP00000000007            20850.184064                  18705.502828   \n",
       "\n",
       "                    F_rathbuni_BW_1.quant  F_rathbuni_BW_2.quant  \\\n",
       "ENSFHEP00000000002               7.396334               0.000000   \n",
       "ENSFHEP00000000003               0.924542               0.000000   \n",
       "ENSFHEP00000000004           74371.060358           90970.408124   \n",
       "ENSFHEP00000000005           53245.282096           67430.539797   \n",
       "ENSFHEP00000000007              10.169959               0.000000   \n",
       "\n",
       "                    F_rathbuni_BW_3.quant  F_rathbuni_FW_1.quant  \\\n",
       "ENSFHEP00000000002               0.000000               6.963339   \n",
       "ENSFHEP00000000003               0.994372               0.000000   \n",
       "ENSFHEP00000000004           68306.426817           73853.170969   \n",
       "ENSFHEP00000000005           47369.914849           51731.417409   \n",
       "ENSFHEP00000000007               1.988745              30.948172   \n",
       "\n",
       "                    F_rathbuni_FW_2.quant  F_rathbuni_FW_3.quant  ...  \\\n",
       "ENSFHEP00000000002               0.954480               0.000000  ...   \n",
       "ENSFHEP00000000003               0.954480               1.541334  ...   \n",
       "ENSFHEP00000000004          113698.397822           77159.198089  ...   \n",
       "ENSFHEP00000000005           74235.413766           54672.671103  ...   \n",
       "ENSFHEP00000000007               0.954480               1.541334  ...   \n",
       "\n",
       "                    F_catanatus_transfer_2.quant  \\\n",
       "ENSFHEP00000000002                      0.649591   \n",
       "ENSFHEP00000000003                     28.798536   \n",
       "ENSFHEP00000000004                 178410.177869   \n",
       "ENSFHEP00000000005                     45.254842   \n",
       "ENSFHEP00000000007                      2.381834   \n",
       "\n",
       "                    F_heteroclitusMDPL_BW_1.quant  \\\n",
       "ENSFHEP00000000002                       1.771908   \n",
       "ENSFHEP00000000003                       0.000000   \n",
       "ENSFHEP00000000004                  220071.001928   \n",
       "ENSFHEP00000000005                    3930.092450   \n",
       "ENSFHEP00000000007                      74.420146   \n",
       "\n",
       "                    F_heteroclitusMDPL_BW_2.quant  \\\n",
       "ENSFHEP00000000002                       1.244243   \n",
       "ENSFHEP00000000003                       0.000000   \n",
       "ENSFHEP00000000004                  139205.946622   \n",
       "ENSFHEP00000000005                    1038.943202   \n",
       "ENSFHEP00000000007                      43.548517   \n",
       "\n",
       "                    F_heteroclitusMDPL_BW_3.quant  \\\n",
       "ENSFHEP00000000002                       9.474714   \n",
       "ENSFHEP00000000003                       0.000000   \n",
       "ENSFHEP00000000004                  165565.886046   \n",
       "ENSFHEP00000000005                    1397.520283   \n",
       "ENSFHEP00000000007                     127.908636   \n",
       "\n",
       "                    F_heteroclitusMDPL_FW_1.quant  \\\n",
       "ENSFHEP00000000002                       4.749169   \n",
       "ENSFHEP00000000003                       0.000000   \n",
       "ENSFHEP00000000004                  187818.947696   \n",
       "ENSFHEP00000000005                    3241.307832   \n",
       "ENSFHEP00000000007                       0.000000   \n",
       "\n",
       "                    F_heteroclitusMDPL_FW_2.quant  \\\n",
       "ENSFHEP00000000002                       0.000000   \n",
       "ENSFHEP00000000003                       0.000000   \n",
       "ENSFHEP00000000004                  132161.388326   \n",
       "ENSFHEP00000000005                    1132.489571   \n",
       "ENSFHEP00000000007                       7.231734   \n",
       "\n",
       "                    F_heteroclitusMDPL_FW_3.quant  \\\n",
       "ENSFHEP00000000002                       0.000000   \n",
       "ENSFHEP00000000003                       0.000000   \n",
       "ENSFHEP00000000004                  130016.537536   \n",
       "ENSFHEP00000000005                     790.670578   \n",
       "ENSFHEP00000000007                      21.412343   \n",
       "\n",
       "                    F_heteroclitusMDPL_transfer_1.quant  \\\n",
       "ENSFHEP00000000002                             3.122480   \n",
       "ENSFHEP00000000003                             0.000000   \n",
       "ENSFHEP00000000004                        204947.122290   \n",
       "ENSFHEP00000000005                          2804.768002   \n",
       "ENSFHEP00000000007                             0.000000   \n",
       "\n",
       "                    F_heteroclitusMDPL_transfer_2.quant  \\\n",
       "ENSFHEP00000000002                             1.392245   \n",
       "ENSFHEP00000000003                             0.000000   \n",
       "ENSFHEP00000000004                        175243.962768   \n",
       "ENSFHEP00000000005                          1933.828264   \n",
       "ENSFHEP00000000007                             0.000000   \n",
       "\n",
       "                    F_heteroclitusMDPL_transfer_3.quant  \n",
       "ENSFHEP00000000002                             0.860510  \n",
       "ENSFHEP00000000003                             0.000000  \n",
       "ENSFHEP00000000004                        147207.150728  \n",
       "ENSFHEP00000000005                          2044.858484  \n",
       "ENSFHEP00000000007                             1.147347  \n",
       "\n",
       "[5 rows x 122 columns]"
      ]
     },
     "execution_count": 3,
     "metadata": {},
     "output_type": "execute_result"
    }
   ],
   "source": [
    "all_genes.head()"
   ]
  },
  {
   "cell_type": "code",
   "execution_count": 4,
   "metadata": {},
   "outputs": [
    {
     "data": {
      "text/plain": [
       "(29220, 122)"
      ]
     },
     "execution_count": 4,
     "metadata": {},
     "output_type": "execute_result"
    }
   ],
   "source": [
    "all_genes.shape"
   ]
  },
  {
   "cell_type": "code",
   "execution_count": 5,
   "metadata": {},
   "outputs": [
    {
     "data": {
      "text/plain": [
       "513418.65038312"
      ]
     },
     "execution_count": 5,
     "metadata": {},
     "output_type": "execute_result"
    }
   ],
   "source": [
    "all_genes.values.max()"
   ]
  },
  {
   "cell_type": "code",
   "execution_count": null,
   "metadata": {},
   "outputs": [
    {
     "ename": "KeyboardInterrupt",
     "evalue": "",
     "output_type": "error",
     "traceback": [
      "\u001b[0;31m---------------------------------------------------------------------------\u001b[0m",
      "\u001b[0;31mKeyboardInterrupt\u001b[0m                         Traceback (most recent call last)",
      "\u001b[0;32m<ipython-input-12-98dee474dcf7>\u001b[0m in \u001b[0;36m<module>\u001b[0;34m\u001b[0m\n\u001b[0;32m----> 1\u001b[0;31m \u001b[0max\u001b[0m \u001b[0;34m=\u001b[0m \u001b[0msns\u001b[0m\u001b[0;34m.\u001b[0m\u001b[0mheatmap\u001b[0m\u001b[0;34m(\u001b[0m\u001b[0mall_genes\u001b[0m\u001b[0;34m,\u001b[0m \u001b[0mannot\u001b[0m\u001b[0;34m=\u001b[0m\u001b[0;32mTrue\u001b[0m\u001b[0;34m,\u001b[0m\u001b[0mcmap\u001b[0m\u001b[0;34m=\u001b[0m\u001b[0;34m\"Blues\"\u001b[0m\u001b[0;34m,\u001b[0m\u001b[0mfmt\u001b[0m\u001b[0;34m=\u001b[0m\u001b[0;34m'.1f'\u001b[0m\u001b[0;34m,\u001b[0m \u001b[0mvmin\u001b[0m\u001b[0;34m=\u001b[0m\u001b[0;36m0.1\u001b[0m\u001b[0;34m,\u001b[0m \u001b[0mvmax\u001b[0m\u001b[0;34m=\u001b[0m\u001b[0;36m99\u001b[0m\u001b[0;34m)\u001b[0m\u001b[0;34m;\u001b[0m\u001b[0;34m\u001b[0m\u001b[0;34m\u001b[0m\u001b[0m\n\u001b[0m\u001b[1;32m      2\u001b[0m \u001b[0max\u001b[0m\u001b[0;34m.\u001b[0m\u001b[0mset_ylabel\u001b[0m\u001b[0;34m(\u001b[0m\u001b[0;34m\"\"\u001b[0m\u001b[0;34m)\u001b[0m\u001b[0;34m\u001b[0m\u001b[0;34m\u001b[0m\u001b[0m\n\u001b[1;32m      3\u001b[0m \u001b[0mfig\u001b[0m \u001b[0;34m=\u001b[0m \u001b[0max\u001b[0m\u001b[0;34m.\u001b[0m\u001b[0mget_figure\u001b[0m\u001b[0;34m(\u001b[0m\u001b[0;34m)\u001b[0m\u001b[0;34m\u001b[0m\u001b[0;34m\u001b[0m\u001b[0m\n",
      "\u001b[0;32m~/anaconda3/envs/jupyterpy3/lib/python3.7/site-packages/seaborn/matrix.py\u001b[0m in \u001b[0;36mheatmap\u001b[0;34m(data, vmin, vmax, cmap, center, robust, annot, fmt, annot_kws, linewidths, linecolor, cbar, cbar_kws, cbar_ax, square, xticklabels, yticklabels, mask, ax, **kwargs)\u001b[0m\n\u001b[1;32m    526\u001b[0m     \u001b[0;32mif\u001b[0m \u001b[0msquare\u001b[0m\u001b[0;34m:\u001b[0m\u001b[0;34m\u001b[0m\u001b[0;34m\u001b[0m\u001b[0m\n\u001b[1;32m    527\u001b[0m         \u001b[0max\u001b[0m\u001b[0;34m.\u001b[0m\u001b[0mset_aspect\u001b[0m\u001b[0;34m(\u001b[0m\u001b[0;34m\"equal\"\u001b[0m\u001b[0;34m)\u001b[0m\u001b[0;34m\u001b[0m\u001b[0;34m\u001b[0m\u001b[0m\n\u001b[0;32m--> 528\u001b[0;31m     \u001b[0mplotter\u001b[0m\u001b[0;34m.\u001b[0m\u001b[0mplot\u001b[0m\u001b[0;34m(\u001b[0m\u001b[0max\u001b[0m\u001b[0;34m,\u001b[0m \u001b[0mcbar_ax\u001b[0m\u001b[0;34m,\u001b[0m \u001b[0mkwargs\u001b[0m\u001b[0;34m)\u001b[0m\u001b[0;34m\u001b[0m\u001b[0;34m\u001b[0m\u001b[0m\n\u001b[0m\u001b[1;32m    529\u001b[0m     \u001b[0;32mreturn\u001b[0m \u001b[0max\u001b[0m\u001b[0;34m\u001b[0m\u001b[0;34m\u001b[0m\u001b[0m\n\u001b[1;32m    530\u001b[0m \u001b[0;34m\u001b[0m\u001b[0m\n",
      "\u001b[0;32m~/anaconda3/envs/jupyterpy3/lib/python3.7/site-packages/seaborn/matrix.py\u001b[0m in \u001b[0;36mplot\u001b[0;34m(self, ax, cax, kws)\u001b[0m\n\u001b[1;32m    327\u001b[0m         \u001b[0;31m# Annotate the cells with the formatted values\u001b[0m\u001b[0;34m\u001b[0m\u001b[0;34m\u001b[0m\u001b[0;34m\u001b[0m\u001b[0m\n\u001b[1;32m    328\u001b[0m         \u001b[0;32mif\u001b[0m \u001b[0mself\u001b[0m\u001b[0;34m.\u001b[0m\u001b[0mannot\u001b[0m\u001b[0;34m:\u001b[0m\u001b[0;34m\u001b[0m\u001b[0;34m\u001b[0m\u001b[0m\n\u001b[0;32m--> 329\u001b[0;31m             \u001b[0mself\u001b[0m\u001b[0;34m.\u001b[0m\u001b[0m_annotate_heatmap\u001b[0m\u001b[0;34m(\u001b[0m\u001b[0max\u001b[0m\u001b[0;34m,\u001b[0m \u001b[0mmesh\u001b[0m\u001b[0;34m)\u001b[0m\u001b[0;34m\u001b[0m\u001b[0;34m\u001b[0m\u001b[0m\n\u001b[0m\u001b[1;32m    330\u001b[0m \u001b[0;34m\u001b[0m\u001b[0m\n\u001b[1;32m    331\u001b[0m \u001b[0;34m\u001b[0m\u001b[0m\n",
      "\u001b[0;32m~/anaconda3/envs/jupyterpy3/lib/python3.7/site-packages/seaborn/matrix.py\u001b[0m in \u001b[0;36m_annotate_heatmap\u001b[0;34m(self, ax, mesh)\u001b[0m\n\u001b[1;32m    244\u001b[0m                 \u001b[0mtext_kwargs\u001b[0m \u001b[0;34m=\u001b[0m \u001b[0mdict\u001b[0m\u001b[0;34m(\u001b[0m\u001b[0mcolor\u001b[0m\u001b[0;34m=\u001b[0m\u001b[0mtext_color\u001b[0m\u001b[0;34m,\u001b[0m \u001b[0mha\u001b[0m\u001b[0;34m=\u001b[0m\u001b[0;34m\"center\"\u001b[0m\u001b[0;34m,\u001b[0m \u001b[0mva\u001b[0m\u001b[0;34m=\u001b[0m\u001b[0;34m\"center\"\u001b[0m\u001b[0;34m)\u001b[0m\u001b[0;34m\u001b[0m\u001b[0;34m\u001b[0m\u001b[0m\n\u001b[1;32m    245\u001b[0m                 \u001b[0mtext_kwargs\u001b[0m\u001b[0;34m.\u001b[0m\u001b[0mupdate\u001b[0m\u001b[0;34m(\u001b[0m\u001b[0mself\u001b[0m\u001b[0;34m.\u001b[0m\u001b[0mannot_kws\u001b[0m\u001b[0;34m)\u001b[0m\u001b[0;34m\u001b[0m\u001b[0;34m\u001b[0m\u001b[0m\n\u001b[0;32m--> 246\u001b[0;31m                 \u001b[0max\u001b[0m\u001b[0;34m.\u001b[0m\u001b[0mtext\u001b[0m\u001b[0;34m(\u001b[0m\u001b[0mx\u001b[0m\u001b[0;34m,\u001b[0m \u001b[0my\u001b[0m\u001b[0;34m,\u001b[0m \u001b[0mannotation\u001b[0m\u001b[0;34m,\u001b[0m \u001b[0;34m**\u001b[0m\u001b[0mtext_kwargs\u001b[0m\u001b[0;34m)\u001b[0m\u001b[0;34m\u001b[0m\u001b[0;34m\u001b[0m\u001b[0m\n\u001b[0m\u001b[1;32m    247\u001b[0m \u001b[0;34m\u001b[0m\u001b[0m\n\u001b[1;32m    248\u001b[0m     \u001b[0;32mdef\u001b[0m \u001b[0m_skip_ticks\u001b[0m\u001b[0;34m(\u001b[0m\u001b[0mself\u001b[0m\u001b[0;34m,\u001b[0m \u001b[0mlabels\u001b[0m\u001b[0;34m,\u001b[0m \u001b[0mtickevery\u001b[0m\u001b[0;34m)\u001b[0m\u001b[0;34m:\u001b[0m\u001b[0;34m\u001b[0m\u001b[0;34m\u001b[0m\u001b[0m\n",
      "\u001b[0;32m~/anaconda3/envs/jupyterpy3/lib/python3.7/site-packages/matplotlib/axes/_axes.py\u001b[0m in \u001b[0;36mtext\u001b[0;34m(self, x, y, s, fontdict, withdash, **kwargs)\u001b[0m\n\u001b[1;32m    722\u001b[0m                 x=x, y=y, text=s)\n\u001b[1;32m    723\u001b[0m \u001b[0;34m\u001b[0m\u001b[0m\n\u001b[0;32m--> 724\u001b[0;31m         \u001b[0mt\u001b[0m\u001b[0;34m.\u001b[0m\u001b[0mupdate\u001b[0m\u001b[0;34m(\u001b[0m\u001b[0mdefault\u001b[0m\u001b[0;34m)\u001b[0m\u001b[0;34m\u001b[0m\u001b[0;34m\u001b[0m\u001b[0m\n\u001b[0m\u001b[1;32m    725\u001b[0m         \u001b[0;32mif\u001b[0m \u001b[0mfontdict\u001b[0m \u001b[0;32mis\u001b[0m \u001b[0;32mnot\u001b[0m \u001b[0;32mNone\u001b[0m\u001b[0;34m:\u001b[0m\u001b[0;34m\u001b[0m\u001b[0;34m\u001b[0m\u001b[0m\n\u001b[1;32m    726\u001b[0m             \u001b[0mt\u001b[0m\u001b[0;34m.\u001b[0m\u001b[0mupdate\u001b[0m\u001b[0;34m(\u001b[0m\u001b[0mfontdict\u001b[0m\u001b[0;34m)\u001b[0m\u001b[0;34m\u001b[0m\u001b[0;34m\u001b[0m\u001b[0m\n",
      "\u001b[0;32m~/anaconda3/envs/jupyterpy3/lib/python3.7/site-packages/matplotlib/text.py\u001b[0m in \u001b[0;36mupdate\u001b[0;34m(self, kwargs)\u001b[0m\n\u001b[1;32m    185\u001b[0m         \u001b[0msentinel\u001b[0m \u001b[0;34m=\u001b[0m \u001b[0mobject\u001b[0m\u001b[0;34m(\u001b[0m\u001b[0;34m)\u001b[0m  \u001b[0;31m# bbox can be None, so use another sentinel.\u001b[0m\u001b[0;34m\u001b[0m\u001b[0;34m\u001b[0m\u001b[0m\n\u001b[1;32m    186\u001b[0m         \u001b[0mbbox\u001b[0m \u001b[0;34m=\u001b[0m \u001b[0mkwargs\u001b[0m\u001b[0;34m.\u001b[0m\u001b[0mpop\u001b[0m\u001b[0;34m(\u001b[0m\u001b[0;34m\"bbox\"\u001b[0m\u001b[0;34m,\u001b[0m \u001b[0msentinel\u001b[0m\u001b[0;34m)\u001b[0m\u001b[0;34m\u001b[0m\u001b[0;34m\u001b[0m\u001b[0m\n\u001b[0;32m--> 187\u001b[0;31m         \u001b[0msuper\u001b[0m\u001b[0;34m(\u001b[0m\u001b[0;34m)\u001b[0m\u001b[0;34m.\u001b[0m\u001b[0mupdate\u001b[0m\u001b[0;34m(\u001b[0m\u001b[0mkwargs\u001b[0m\u001b[0;34m)\u001b[0m\u001b[0;34m\u001b[0m\u001b[0;34m\u001b[0m\u001b[0m\n\u001b[0m\u001b[1;32m    188\u001b[0m         \u001b[0;32mif\u001b[0m \u001b[0mbbox\u001b[0m \u001b[0;32mis\u001b[0m \u001b[0;32mnot\u001b[0m \u001b[0msentinel\u001b[0m\u001b[0;34m:\u001b[0m\u001b[0;34m\u001b[0m\u001b[0;34m\u001b[0m\u001b[0m\n\u001b[1;32m    189\u001b[0m             \u001b[0mself\u001b[0m\u001b[0;34m.\u001b[0m\u001b[0mset_bbox\u001b[0m\u001b[0;34m(\u001b[0m\u001b[0mbbox\u001b[0m\u001b[0;34m)\u001b[0m\u001b[0;34m\u001b[0m\u001b[0;34m\u001b[0m\u001b[0m\n",
      "\u001b[0;32m~/anaconda3/envs/jupyterpy3/lib/python3.7/site-packages/matplotlib/artist.py\u001b[0m in \u001b[0;36mupdate\u001b[0;34m(self, props)\u001b[0m\n\u001b[1;32m    914\u001b[0m \u001b[0;34m\u001b[0m\u001b[0m\n\u001b[1;32m    915\u001b[0m         \u001b[0;32mwith\u001b[0m \u001b[0mcbook\u001b[0m\u001b[0;34m.\u001b[0m\u001b[0m_setattr_cm\u001b[0m\u001b[0;34m(\u001b[0m\u001b[0mself\u001b[0m\u001b[0;34m,\u001b[0m \u001b[0meventson\u001b[0m\u001b[0;34m=\u001b[0m\u001b[0;32mFalse\u001b[0m\u001b[0;34m)\u001b[0m\u001b[0;34m:\u001b[0m\u001b[0;34m\u001b[0m\u001b[0;34m\u001b[0m\u001b[0m\n\u001b[0;32m--> 916\u001b[0;31m             \u001b[0mret\u001b[0m \u001b[0;34m=\u001b[0m \u001b[0;34m[\u001b[0m\u001b[0m_update_property\u001b[0m\u001b[0;34m(\u001b[0m\u001b[0mself\u001b[0m\u001b[0;34m,\u001b[0m \u001b[0mk\u001b[0m\u001b[0;34m,\u001b[0m \u001b[0mv\u001b[0m\u001b[0;34m)\u001b[0m \u001b[0;32mfor\u001b[0m \u001b[0mk\u001b[0m\u001b[0;34m,\u001b[0m \u001b[0mv\u001b[0m \u001b[0;32min\u001b[0m \u001b[0mprops\u001b[0m\u001b[0;34m.\u001b[0m\u001b[0mitems\u001b[0m\u001b[0;34m(\u001b[0m\u001b[0;34m)\u001b[0m\u001b[0;34m]\u001b[0m\u001b[0;34m\u001b[0m\u001b[0;34m\u001b[0m\u001b[0m\n\u001b[0m\u001b[1;32m    917\u001b[0m \u001b[0;34m\u001b[0m\u001b[0m\n\u001b[1;32m    918\u001b[0m         \u001b[0;32mif\u001b[0m \u001b[0mlen\u001b[0m\u001b[0;34m(\u001b[0m\u001b[0mret\u001b[0m\u001b[0;34m)\u001b[0m\u001b[0;34m:\u001b[0m\u001b[0;34m\u001b[0m\u001b[0;34m\u001b[0m\u001b[0m\n",
      "\u001b[0;32m~/anaconda3/envs/jupyterpy3/lib/python3.7/site-packages/matplotlib/artist.py\u001b[0m in \u001b[0;36m<listcomp>\u001b[0;34m(.0)\u001b[0m\n\u001b[1;32m    914\u001b[0m \u001b[0;34m\u001b[0m\u001b[0m\n\u001b[1;32m    915\u001b[0m         \u001b[0;32mwith\u001b[0m \u001b[0mcbook\u001b[0m\u001b[0;34m.\u001b[0m\u001b[0m_setattr_cm\u001b[0m\u001b[0;34m(\u001b[0m\u001b[0mself\u001b[0m\u001b[0;34m,\u001b[0m \u001b[0meventson\u001b[0m\u001b[0;34m=\u001b[0m\u001b[0;32mFalse\u001b[0m\u001b[0;34m)\u001b[0m\u001b[0;34m:\u001b[0m\u001b[0;34m\u001b[0m\u001b[0;34m\u001b[0m\u001b[0m\n\u001b[0;32m--> 916\u001b[0;31m             \u001b[0mret\u001b[0m \u001b[0;34m=\u001b[0m \u001b[0;34m[\u001b[0m\u001b[0m_update_property\u001b[0m\u001b[0;34m(\u001b[0m\u001b[0mself\u001b[0m\u001b[0;34m,\u001b[0m \u001b[0mk\u001b[0m\u001b[0;34m,\u001b[0m \u001b[0mv\u001b[0m\u001b[0;34m)\u001b[0m \u001b[0;32mfor\u001b[0m \u001b[0mk\u001b[0m\u001b[0;34m,\u001b[0m \u001b[0mv\u001b[0m \u001b[0;32min\u001b[0m \u001b[0mprops\u001b[0m\u001b[0;34m.\u001b[0m\u001b[0mitems\u001b[0m\u001b[0;34m(\u001b[0m\u001b[0;34m)\u001b[0m\u001b[0;34m]\u001b[0m\u001b[0;34m\u001b[0m\u001b[0;34m\u001b[0m\u001b[0m\n\u001b[0m\u001b[1;32m    917\u001b[0m \u001b[0;34m\u001b[0m\u001b[0m\n\u001b[1;32m    918\u001b[0m         \u001b[0;32mif\u001b[0m \u001b[0mlen\u001b[0m\u001b[0;34m(\u001b[0m\u001b[0mret\u001b[0m\u001b[0;34m)\u001b[0m\u001b[0;34m:\u001b[0m\u001b[0;34m\u001b[0m\u001b[0;34m\u001b[0m\u001b[0m\n",
      "\u001b[0;32m~/anaconda3/envs/jupyterpy3/lib/python3.7/site-packages/matplotlib/artist.py\u001b[0m in \u001b[0;36m_update_property\u001b[0;34m(self, k, v)\u001b[0m\n\u001b[1;32m    911\u001b[0m                 \u001b[0;32mif\u001b[0m \u001b[0;32mnot\u001b[0m \u001b[0mcallable\u001b[0m\u001b[0;34m(\u001b[0m\u001b[0mfunc\u001b[0m\u001b[0;34m)\u001b[0m\u001b[0;34m:\u001b[0m\u001b[0;34m\u001b[0m\u001b[0;34m\u001b[0m\u001b[0m\n\u001b[1;32m    912\u001b[0m                     \u001b[0;32mraise\u001b[0m \u001b[0mAttributeError\u001b[0m\u001b[0;34m(\u001b[0m\u001b[0;34m'Unknown property %s'\u001b[0m \u001b[0;34m%\u001b[0m \u001b[0mk\u001b[0m\u001b[0;34m)\u001b[0m\u001b[0;34m\u001b[0m\u001b[0;34m\u001b[0m\u001b[0m\n\u001b[0;32m--> 913\u001b[0;31m                 \u001b[0;32mreturn\u001b[0m \u001b[0mfunc\u001b[0m\u001b[0;34m(\u001b[0m\u001b[0mv\u001b[0m\u001b[0;34m)\u001b[0m\u001b[0;34m\u001b[0m\u001b[0;34m\u001b[0m\u001b[0m\n\u001b[0m\u001b[1;32m    914\u001b[0m \u001b[0;34m\u001b[0m\u001b[0m\n\u001b[1;32m    915\u001b[0m         \u001b[0;32mwith\u001b[0m \u001b[0mcbook\u001b[0m\u001b[0;34m.\u001b[0m\u001b[0m_setattr_cm\u001b[0m\u001b[0;34m(\u001b[0m\u001b[0mself\u001b[0m\u001b[0;34m,\u001b[0m \u001b[0meventson\u001b[0m\u001b[0;34m=\u001b[0m\u001b[0;32mFalse\u001b[0m\u001b[0;34m)\u001b[0m\u001b[0;34m:\u001b[0m\u001b[0;34m\u001b[0m\u001b[0;34m\u001b[0m\u001b[0m\n",
      "\u001b[0;32m~/anaconda3/envs/jupyterpy3/lib/python3.7/site-packages/matplotlib/artist.py\u001b[0m in \u001b[0;36mset_transform\u001b[0;34m(self, t)\u001b[0m\n\u001b[1;32m    333\u001b[0m         \u001b[0mself\u001b[0m\u001b[0;34m.\u001b[0m\u001b[0m_transform\u001b[0m \u001b[0;34m=\u001b[0m \u001b[0mt\u001b[0m\u001b[0;34m\u001b[0m\u001b[0;34m\u001b[0m\u001b[0m\n\u001b[1;32m    334\u001b[0m         \u001b[0mself\u001b[0m\u001b[0;34m.\u001b[0m\u001b[0m_transformSet\u001b[0m \u001b[0;34m=\u001b[0m \u001b[0;32mTrue\u001b[0m\u001b[0;34m\u001b[0m\u001b[0;34m\u001b[0m\u001b[0m\n\u001b[0;32m--> 335\u001b[0;31m         \u001b[0mself\u001b[0m\u001b[0;34m.\u001b[0m\u001b[0mpchanged\u001b[0m\u001b[0;34m(\u001b[0m\u001b[0;34m)\u001b[0m\u001b[0;34m\u001b[0m\u001b[0;34m\u001b[0m\u001b[0m\n\u001b[0m\u001b[1;32m    336\u001b[0m         \u001b[0mself\u001b[0m\u001b[0;34m.\u001b[0m\u001b[0mstale\u001b[0m \u001b[0;34m=\u001b[0m \u001b[0;32mTrue\u001b[0m\u001b[0;34m\u001b[0m\u001b[0;34m\u001b[0m\u001b[0m\n\u001b[1;32m    337\u001b[0m \u001b[0;34m\u001b[0m\u001b[0m\n",
      "\u001b[0;32m~/anaconda3/envs/jupyterpy3/lib/python3.7/site-packages/matplotlib/artist.py\u001b[0m in \u001b[0;36mpchanged\u001b[0;34m(self)\u001b[0m\n\u001b[1;32m    313\u001b[0m         \u001b[0mregistered\u001b[0m \u001b[0mcallbacks\u001b[0m\u001b[0;34m.\u001b[0m\u001b[0;34m\u001b[0m\u001b[0;34m\u001b[0m\u001b[0m\n\u001b[1;32m    314\u001b[0m         \"\"\"\n\u001b[0;32m--> 315\u001b[0;31m         \u001b[0;32mfor\u001b[0m \u001b[0moid\u001b[0m\u001b[0;34m,\u001b[0m \u001b[0mfunc\u001b[0m \u001b[0;32min\u001b[0m \u001b[0mself\u001b[0m\u001b[0;34m.\u001b[0m\u001b[0m_propobservers\u001b[0m\u001b[0;34m.\u001b[0m\u001b[0mitems\u001b[0m\u001b[0;34m(\u001b[0m\u001b[0;34m)\u001b[0m\u001b[0;34m:\u001b[0m\u001b[0;34m\u001b[0m\u001b[0;34m\u001b[0m\u001b[0m\n\u001b[0m\u001b[1;32m    316\u001b[0m             \u001b[0mfunc\u001b[0m\u001b[0;34m(\u001b[0m\u001b[0mself\u001b[0m\u001b[0;34m)\u001b[0m\u001b[0;34m\u001b[0m\u001b[0;34m\u001b[0m\u001b[0m\n\u001b[1;32m    317\u001b[0m \u001b[0;34m\u001b[0m\u001b[0m\n",
      "\u001b[0;31mKeyboardInterrupt\u001b[0m: "
     ]
    }
   ],
   "source": [
    "ax = sns.heatmap(all_genes, annot=True,cmap=\"Blues\",fmt='.1f', vmin=0, vmax=514000);\n",
    "ax.set_ylabel(\"\")\n",
    "fig = ax.get_figure()\n",
    "fig.savefig('../../heatmap_all.pdf',bbox_inches=\"tight\",dpi=1000)"
   ]
  },
  {
   "cell_type": "code",
   "execution_count": 60,
   "metadata": {},
   "outputs": [
    {
     "data": {
      "image/png": "[encoded data removed]",
      "text/plain": [
       "<matplotlib.figure.Figure at 0x10a5407b8>"
      ]
     },
     "metadata": {},
     "output_type": "display_data"
    }
   ],
   "source": [
    "ax = sns.heatmap(low_heatmap, annot=True,cmap=\"Blues\", vmin=0.1, vmax=99);\n",
    "ax.set_ylabel(\"\")\n",
    "fig = ax.get_figure()  \n",
    "fig.savefig('../paper/heatmap_low.pdf',bbox_inches=\"tight\",dpi=1000)\n",
    "fig.savefig('../paper/heatmap_low.png',bbox_inches=\"tight\",dpi=1000)"
   ]
  },
  {
   "cell_type": "markdown",
   "metadata": {
    "collapsed": true
   },
   "source": [
    "# Version Info"
   ]
  },
  {
   "cell_type": "code",
   "execution_count": 64,
   "metadata": {},
   "outputs": [
    {
     "name": "stdout",
     "output_type": "stream",
     "text": [
      "{'commit_hash': 'd86648c5d',\n",
      " 'commit_source': 'installation',\n",
      " 'default_encoding': 'UTF-8',\n",
      " 'ipython_path': '/Users/johnsolk/anaconda3/lib/python3.6/site-packages/IPython',\n",
      " 'ipython_version': '6.1.0',\n",
      " 'os_name': 'posix',\n",
      " 'platform': 'Darwin-17.4.0-x86_64-i386-64bit',\n",
      " 'sys_executable': '/Users/johnsolk/anaconda3/bin/python',\n",
      " 'sys_platform': 'darwin',\n",
      " 'sys_version': '3.6.3 |Anaconda custom (64-bit)| (default, Oct  6 2017, '\n",
      "                '12:04:38) \\n'\n",
      "                '[GCC 4.2.1 Compatible Clang 4.0.1 (tags/RELEASE_401/final)]'}\n"
     ]
    }
   ],
   "source": [
    "import IPython\n",
    "print(IPython.sys_info())"
   ]
  },
  {
   "cell_type": "code",
   "execution_count": 66,
   "metadata": {},
   "outputs": [
    {
     "data": {
      "application/json": {
       "Software versions": [
        {
         "module": "Python",
         "version": "3.6.3 64bit [GCC 4.2.1 Compatible Clang 4.0.1 (tags/RELEASE_401/final)]"
        },
        {
         "module": "IPython",
         "version": "6.1.0"
        },
        {
         "module": "OS",
         "version": "Darwin 17.4.0 x86_64 i386 64bit"
        },
        {
         "module": "pandas",
         "version": "0.22.0"
        },
        {
         "module": "numpy",
         "version": "1.13.3"
        },
        {
         "module": "seaborn",
         "version": "0.8.0"
        },
        {
         "module": "pylab",
         "version": "The 'pylab' distribution was not found and is required by the application"
        },
        {
         "module": "matplotlib",
         "version": "2.1.2"
        },
        {
         "module": "scipy",
         "version": "0.19.1"
        }
       ]
      },
      "text/html": [
       "<table><tr><th>Software</th><th>Version</th></tr><tr><td>Python</td><td>3.6.3 64bit [GCC 4.2.1 Compatible Clang 4.0.1 (tags/RELEASE_401/final)]</td></tr><tr><td>IPython</td><td>6.1.0</td></tr><tr><td>OS</td><td>Darwin 17.4.0 x86_64 i386 64bit</td></tr><tr><td>pandas</td><td>0.22.0</td></tr><tr><td>numpy</td><td>1.13.3</td></tr><tr><td>seaborn</td><td>0.8.0</td></tr><tr><td>pylab</td><td>The 'pylab' distribution was not found and is required by the application</td></tr><tr><td>matplotlib</td><td>2.1.2</td></tr><tr><td>scipy</td><td>0.19.1</td></tr><tr><td colspan='2'>Fri Sep 14 13:33:07 2018 PDT</td></tr></table>"
      ],
      "text/latex": [
       "\\begin{tabular}{|l|l|}\\hline\n",
       "{\\bf Software} & {\\bf Version} \\\\ \\hline\\hline\n",
       "Python & 3.6.3 64bit [GCC 4.2.1 Compatible Clang 4.0.1 (tags/RELEASE\\_401/final)] \\\\ \\hline\n",
       "IPython & 6.1.0 \\\\ \\hline\n",
       "OS & Darwin 17.4.0 x86\\_64 i386 64bit \\\\ \\hline\n",
       "pandas & 0.22.0 \\\\ \\hline\n",
       "numpy & 1.13.3 \\\\ \\hline\n",
       "seaborn & 0.8.0 \\\\ \\hline\n",
       "pylab & The 'pylab' distribution was not found and is required by the application \\\\ \\hline\n",
       "matplotlib & 2.1.2 \\\\ \\hline\n",
       "scipy & 0.19.1 \\\\ \\hline\n",
       "\\hline \\multicolumn{2}{|l|}{Fri Sep 14 13:33:07 2018 PDT} \\\\ \\hline\n",
       "\\end{tabular}\n"
      ],
      "text/plain": [
       "Software versions\n",
       "Python 3.6.3 64bit [GCC 4.2.1 Compatible Clang 4.0.1 (tags/RELEASE_401/final)]\n",
       "IPython 6.1.0\n",
       "OS Darwin 17.4.0 x86_64 i386 64bit\n",
       "pandas 0.22.0\n",
       "numpy 1.13.3\n",
       "seaborn 0.8.0\n",
       "pylab The 'pylab' distribution was not found and is required by the application\n",
       "matplotlib 2.1.2\n",
       "scipy 0.19.1\n",
       "Fri Sep 14 13:33:07 2018 PDT"
      ]
     },
     "execution_count": 66,
     "metadata": {},
     "output_type": "execute_result"
    }
   ],
   "source": [
    "%load_ext version_information\n",
    "%version_information pandas, numpy, seaborn, pylab, matplotlib, scipy"
   ]
  },
  {
   "cell_type": "code",
   "execution_count": null,
   "metadata": {
    "collapsed": true
   },
   "outputs": [],
   "source": []
  }
 ],
 "metadata": {
  "anaconda-cloud": {},
  "kernelspec": {
   "display_name": "Python 3",
   "language": "python",
   "name": "python3"
  },
  "language_info": {
   "codemirror_mode": {
    "name": "ipython",
    "version": 3
   },
   "file_extension": ".py",
   "mimetype": "text/x-python",
   "name": "python",
   "nbconvert_exporter": "python",
   "pygments_lexer": "ipython3",
   "version": "3.7.1"
  }
 },
 "nbformat": 4,
 "nbformat_minor": 1
}
