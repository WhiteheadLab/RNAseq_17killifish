{
 "cells": [
  {
   "cell_type": "markdown",
   "metadata": {},
   "source": [
    "# Formatting files for clust"
   ]
  },
  {
   "cell_type": "code",
   "execution_count": 3,
   "metadata": {},
   "outputs": [],
   "source": [
    "import os\n",
    "import os.path\n",
    "import pandas as pd"
   ]
  },
  {
   "cell_type": "code",
   "execution_count": 19,
   "metadata": {},
   "outputs": [],
   "source": [
    "salmon_dir = \"/Users/johnsolk/Documents/UCDavis/Whitehead/kfish_salmon/kfish_salmon/\"\n",
    "salmon_renamed = \"/Users/johnsolk/Documents/UCDavis/Whitehead/kfish_salmon/salmon_renamed_species/\"\n",
    "expression_tables_species = \"/Users/johnsolk/Documents/UCDavis/Whitehead/kfish_salmon/tximport_counts/\"\n",
    "salmon_files = os.listdir(salmon_dir)"
   ]
  },
  {
   "cell_type": "code",
   "execution_count": 12,
   "metadata": {},
   "outputs": [],
   "source": [
    "quant_files = []\n",
    "for quant in salmon_files:\n",
    "    if quant.endswith(\".quant\"):\n",
    "        quant_dir = salmon_dir + quant + \"/\"\n",
    "        salmon_files = os.listdir(quant_dir)\n",
    "        quant_file = [x for x in salmon_files if x.endswith(\".sf\")][0]\n",
    "        quant_file = quant_dir + quant_file\n",
    "        if os.path.isfile(quant_file):\n",
    "            quant_files.append(quant_file)\n",
    "        else:\n",
    "            print(\"Missing:\",quant_file)"
   ]
  },
  {
   "cell_type": "code",
   "execution_count": 13,
   "metadata": {},
   "outputs": [
    {
     "name": "stdout",
     "output_type": "stream",
     "text": [
      "128\n"
     ]
    }
   ],
   "source": [
    "print(len(quant_files))"
   ]
  },
  {
   "cell_type": "markdown",
   "metadata": {},
   "source": [
    "# rename contig ID in each quant file"
   ]
  },
  {
   "cell_type": "code",
   "execution_count": 17,
   "metadata": {},
   "outputs": [
    {
     "name": "stdout",
     "output_type": "stream",
     "text": [
      "Reformatted quant file written: /Users/johnsolk/Documents/UCDavis/Whitehead/kfish_salmon/salmon_renamed_species/A_xenica/A_xenica_FW_2\n",
      "Reformatted quant file written: /Users/johnsolk/Documents/UCDavis/Whitehead/kfish_salmon/salmon_renamed_species/A_xenica/A_xenica_transfer_2\n",
      "Reformatted quant file written: /Users/johnsolk/Documents/UCDavis/Whitehead/kfish_salmon/salmon_renamed_species/A_xenica/A_xenica_FW_1\n",
      "Reformatted quant file written: /Users/johnsolk/Documents/UCDavis/Whitehead/kfish_salmon/salmon_renamed_species/A_xenica/A_xenica_transfer_3\n",
      "Reformatted quant file written: /Users/johnsolk/Documents/UCDavis/Whitehead/kfish_salmon/salmon_renamed_species/A_xenica/A_xenica_transfer_1\n",
      "Reformatted quant file written: /Users/johnsolk/Documents/UCDavis/Whitehead/kfish_salmon/salmon_renamed_species/A_xenica/A_xenica_FW_3\n",
      "Reformatted quant file written: /Users/johnsolk/Documents/UCDavis/Whitehead/kfish_salmon/salmon_renamed_species/A_xenica/A_xenica_BW_3\n",
      "Reformatted quant file written: /Users/johnsolk/Documents/UCDavis/Whitehead/kfish_salmon/salmon_renamed_species/A_xenica/A_xenica_BW_1\n",
      "Reformatted quant file written: /Users/johnsolk/Documents/UCDavis/Whitehead/kfish_salmon/salmon_renamed_species/A_xenica/A_xenica_BW_2\n",
      "Reformatted quant file written: /Users/johnsolk/Documents/UCDavis/Whitehead/kfish_salmon/salmon_renamed_species/F_parvapinis/F_parvapinis_FW_1\n",
      "Reformatted quant file written: /Users/johnsolk/Documents/UCDavis/Whitehead/kfish_salmon/salmon_renamed_species/F_parvapinis/F_parvapinis_transfer_2\n",
      "Reformatted quant file written: /Users/johnsolk/Documents/UCDavis/Whitehead/kfish_salmon/salmon_renamed_species/F_parvapinis/F_parvapinis_FW_3\n",
      "Reformatted quant file written: /Users/johnsolk/Documents/UCDavis/Whitehead/kfish_salmon/salmon_renamed_species/F_parvapinis/F_parvapinis_transfer_1\n",
      "Reformatted quant file written: /Users/johnsolk/Documents/UCDavis/Whitehead/kfish_salmon/salmon_renamed_species/F_parvapinis/F_parvapinis_FW_2\n",
      "Reformatted quant file written: /Users/johnsolk/Documents/UCDavis/Whitehead/kfish_salmon/salmon_renamed_species/F_parvapinis/F_parvapinis_BW_2\n",
      "Reformatted quant file written: /Users/johnsolk/Documents/UCDavis/Whitehead/kfish_salmon/salmon_renamed_species/F_parvapinis/F_parvapinis_BW_3\n",
      "Reformatted quant file written: /Users/johnsolk/Documents/UCDavis/Whitehead/kfish_salmon/salmon_renamed_species/F_parvapinis/F_parvapinis_BW_1\n",
      "Reformatted quant file written: /Users/johnsolk/Documents/UCDavis/Whitehead/kfish_salmon/salmon_renamed_species/F_chrysotus/F_chrysotus_BW_2\n",
      "Reformatted quant file written: /Users/johnsolk/Documents/UCDavis/Whitehead/kfish_salmon/salmon_renamed_species/F_chrysotus/F_chrysotus_BW_1\n",
      "Reformatted quant file written: /Users/johnsolk/Documents/UCDavis/Whitehead/kfish_salmon/salmon_renamed_species/F_chrysotus/F_chrysotus_BW_3\n",
      "Reformatted quant file written: /Users/johnsolk/Documents/UCDavis/Whitehead/kfish_salmon/salmon_renamed_species/F_chrysotus/F_chrysotus_FW_3\n",
      "Reformatted quant file written: /Users/johnsolk/Documents/UCDavis/Whitehead/kfish_salmon/salmon_renamed_species/F_chrysotus/F_chrysotus_transfer_1\n",
      "Reformatted quant file written: /Users/johnsolk/Documents/UCDavis/Whitehead/kfish_salmon/salmon_renamed_species/F_chrysotus/F_chrysotus_FW_1\n",
      "Reformatted quant file written: /Users/johnsolk/Documents/UCDavis/Whitehead/kfish_salmon/salmon_renamed_species/F_chrysotus/F_chrysotus_FW_2\n",
      "Reformatted quant file written: /Users/johnsolk/Documents/UCDavis/Whitehead/kfish_salmon/salmon_renamed_species/F_chrysotus/F_chrysotus_transfer_2\n",
      "Reformatted quant file written: /Users/johnsolk/Documents/UCDavis/Whitehead/kfish_salmon/salmon_renamed_species/L_parva/L_parva_FW_3\n",
      "Reformatted quant file written: /Users/johnsolk/Documents/UCDavis/Whitehead/kfish_salmon/salmon_renamed_species/L_parva/L_parva_FW_1\n",
      "Reformatted quant file written: /Users/johnsolk/Documents/UCDavis/Whitehead/kfish_salmon/salmon_renamed_species/L_parva/L_parva_transfer_3\n",
      "Reformatted quant file written: /Users/johnsolk/Documents/UCDavis/Whitehead/kfish_salmon/salmon_renamed_species/L_parva/L_parva_transfer_1\n",
      "Reformatted quant file written: /Users/johnsolk/Documents/UCDavis/Whitehead/kfish_salmon/salmon_renamed_species/L_parva/L_parva_FW_2\n",
      "Reformatted quant file written: /Users/johnsolk/Documents/UCDavis/Whitehead/kfish_salmon/salmon_renamed_species/L_parva/L_parva_transfer_2\n",
      "Reformatted quant file written: /Users/johnsolk/Documents/UCDavis/Whitehead/kfish_salmon/salmon_renamed_species/L_parva/L_parva_BW_2\n",
      "Reformatted quant file written: /Users/johnsolk/Documents/UCDavis/Whitehead/kfish_salmon/salmon_renamed_species/L_parva/L_parva_BW_1\n",
      "Reformatted quant file written: /Users/johnsolk/Documents/UCDavis/Whitehead/kfish_salmon/salmon_renamed_species/L_parva/L_parva_BW_3\n",
      "Reformatted quant file written: /Users/johnsolk/Documents/UCDavis/Whitehead/kfish_salmon/salmon_renamed_species/F_zebrinus/F_zebrinus_FW_2\n",
      "Reformatted quant file written: /Users/johnsolk/Documents/UCDavis/Whitehead/kfish_salmon/salmon_renamed_species/F_zebrinus/F_zebrinus_FW_1\n",
      "Reformatted quant file written: /Users/johnsolk/Documents/UCDavis/Whitehead/kfish_salmon/salmon_renamed_species/F_zebrinus/F_zebrinus_BW_1\n",
      "Reformatted quant file written: /Users/johnsolk/Documents/UCDavis/Whitehead/kfish_salmon/salmon_renamed_species/F_zebrinus/F_zebrinus_BW_2\n",
      "Reformatted quant file written: /Users/johnsolk/Documents/UCDavis/Whitehead/kfish_salmon/salmon_renamed_species/F_sciadicus/F_sciadicus_transfer_1\n",
      "Reformatted quant file written: /Users/johnsolk/Documents/UCDavis/Whitehead/kfish_salmon/salmon_renamed_species/F_sciadicus/F_sciadicus_BW_1\n",
      "Reformatted quant file written: /Users/johnsolk/Documents/UCDavis/Whitehead/kfish_salmon/salmon_renamed_species/F_sciadicus/F_sciadicus_FW_1\n",
      "Reformatted quant file written: /Users/johnsolk/Documents/UCDavis/Whitehead/kfish_salmon/salmon_renamed_species/F_sciadicus/F_sciadicus_FW_2\n",
      "Reformatted quant file written: /Users/johnsolk/Documents/UCDavis/Whitehead/kfish_salmon/salmon_renamed_species/F_rathbuni/F_rathbuni_BW_2\n",
      "Reformatted quant file written: /Users/johnsolk/Documents/UCDavis/Whitehead/kfish_salmon/salmon_renamed_species/F_rathbuni/F_rathbuni_BW_3\n",
      "Reformatted quant file written: /Users/johnsolk/Documents/UCDavis/Whitehead/kfish_salmon/salmon_renamed_species/F_rathbuni/F_rathbuni_BW_1\n",
      "Reformatted quant file written: /Users/johnsolk/Documents/UCDavis/Whitehead/kfish_salmon/salmon_renamed_species/F_rathbuni/F_rathbuni_FW_1\n",
      "Reformatted quant file written: /Users/johnsolk/Documents/UCDavis/Whitehead/kfish_salmon/salmon_renamed_species/F_rathbuni/F_rathbuni_transfer_2\n",
      "Reformatted quant file written: /Users/johnsolk/Documents/UCDavis/Whitehead/kfish_salmon/salmon_renamed_species/F_rathbuni/F_rathbuni_FW_3\n",
      "Reformatted quant file written: /Users/johnsolk/Documents/UCDavis/Whitehead/kfish_salmon/salmon_renamed_species/F_rathbuni/F_rathbuni_transfer_1\n",
      "Reformatted quant file written: /Users/johnsolk/Documents/UCDavis/Whitehead/kfish_salmon/salmon_renamed_species/F_rathbuni/F_rathbuni_FW_2\n",
      "Reformatted quant file written: /Users/johnsolk/Documents/UCDavis/Whitehead/kfish_salmon/salmon_renamed_species/F_rathbuni/F_rathbuni_transfer_3\n",
      "Reformatted quant file written: /Users/johnsolk/Documents/UCDavis/Whitehead/kfish_salmon/salmon_renamed_species/L_goodei/L_goodei_transfer_2\n",
      "Reformatted quant file written: /Users/johnsolk/Documents/UCDavis/Whitehead/kfish_salmon/salmon_renamed_species/L_goodei/L_goodei_BW_3\n",
      "Reformatted quant file written: /Users/johnsolk/Documents/UCDavis/Whitehead/kfish_salmon/salmon_renamed_species/L_goodei/L_goodei_BW_1\n",
      "Reformatted quant file written: /Users/johnsolk/Documents/UCDavis/Whitehead/kfish_salmon/salmon_renamed_species/L_goodei/L_goodei_transfer_3\n",
      "Reformatted quant file written: /Users/johnsolk/Documents/UCDavis/Whitehead/kfish_salmon/salmon_renamed_species/L_goodei/L_goodei_transfer_1\n",
      "Reformatted quant file written: /Users/johnsolk/Documents/UCDavis/Whitehead/kfish_salmon/salmon_renamed_species/L_goodei/L_goodei_BW_2\n",
      "Reformatted quant file written: /Users/johnsolk/Documents/UCDavis/Whitehead/kfish_salmon/salmon_renamed_species/L_goodei/L_goodei_FW_2\n",
      "Reformatted quant file written: /Users/johnsolk/Documents/UCDavis/Whitehead/kfish_salmon/salmon_renamed_species/L_goodei/L_goodei_FW_1\n"
     ]
    },
    {
     "name": "stdout",
     "output_type": "stream",
     "text": [
      "Reformatted quant file written: /Users/johnsolk/Documents/UCDavis/Whitehead/kfish_salmon/salmon_renamed_species/L_goodei/L_goodei_FW_3\n",
      "Reformatted quant file written: /Users/johnsolk/Documents/UCDavis/Whitehead/kfish_salmon/salmon_renamed_species/F_heteroclitusMDPP/F_heteroclitusMDPP_FW_3\n",
      "Reformatted quant file written: /Users/johnsolk/Documents/UCDavis/Whitehead/kfish_salmon/salmon_renamed_species/F_heteroclitusMDPP/F_heteroclitusMDPP_FW_1\n",
      "Reformatted quant file written: /Users/johnsolk/Documents/UCDavis/Whitehead/kfish_salmon/salmon_renamed_species/F_heteroclitusMDPP/F_heteroclitusMDPP_FW_2\n",
      "Reformatted quant file written: /Users/johnsolk/Documents/UCDavis/Whitehead/kfish_salmon/salmon_renamed_species/F_heteroclitusMDPP/F_heteroclitusMDPP_BW_2\n",
      "Reformatted quant file written: /Users/johnsolk/Documents/UCDavis/Whitehead/kfish_salmon/salmon_renamed_species/F_heteroclitusMDPP/F_heteroclitusMDPP_transfer_2\n",
      "Reformatted quant file written: /Users/johnsolk/Documents/UCDavis/Whitehead/kfish_salmon/salmon_renamed_species/F_heteroclitusMDPP/F_heteroclitusMDPP_transfer_3\n",
      "Reformatted quant file written: /Users/johnsolk/Documents/UCDavis/Whitehead/kfish_salmon/salmon_renamed_species/F_heteroclitusMDPP/F_heteroclitusMDPP_BW_1\n",
      "Reformatted quant file written: /Users/johnsolk/Documents/UCDavis/Whitehead/kfish_salmon/salmon_renamed_species/F_heteroclitusMDPP/F_heteroclitusMDPP_transfer_1\n",
      "Reformatted quant file written: /Users/johnsolk/Documents/UCDavis/Whitehead/kfish_salmon/salmon_renamed_species/F_heteroclitusMDPP/F_heteroclitusMDPP_BW_3\n",
      "Reformatted quant file written: /Users/johnsolk/Documents/UCDavis/Whitehead/kfish_salmon/salmon_renamed_species/F_grandis/F_grandis_transfer_3\n",
      "Reformatted quant file written: /Users/johnsolk/Documents/UCDavis/Whitehead/kfish_salmon/salmon_renamed_species/F_grandis/F_grandis_FW_2\n",
      "Reformatted quant file written: /Users/johnsolk/Documents/UCDavis/Whitehead/kfish_salmon/salmon_renamed_species/F_grandis/F_grandis_transfer_1\n",
      "Reformatted quant file written: /Users/johnsolk/Documents/UCDavis/Whitehead/kfish_salmon/salmon_renamed_species/F_grandis/F_grandis_FW_3\n",
      "Reformatted quant file written: /Users/johnsolk/Documents/UCDavis/Whitehead/kfish_salmon/salmon_renamed_species/F_grandis/F_grandis_transfer_2\n",
      "Reformatted quant file written: /Users/johnsolk/Documents/UCDavis/Whitehead/kfish_salmon/salmon_renamed_species/F_grandis/F_grandis_FW_1\n",
      "Reformatted quant file written: /Users/johnsolk/Documents/UCDavis/Whitehead/kfish_salmon/salmon_renamed_species/F_grandis/F_grandis_BW_1\n",
      "Reformatted quant file written: /Users/johnsolk/Documents/UCDavis/Whitehead/kfish_salmon/salmon_renamed_species/F_grandis/F_grandis_BW_3\n",
      "Reformatted quant file written: /Users/johnsolk/Documents/UCDavis/Whitehead/kfish_salmon/salmon_renamed_species/F_grandis/F_grandis_BW_2\n",
      "Reformatted quant file written: /Users/johnsolk/Documents/UCDavis/Whitehead/kfish_salmon/salmon_renamed_species/F_similis/F_similis_transfer_1\n",
      "Reformatted quant file written: /Users/johnsolk/Documents/UCDavis/Whitehead/kfish_salmon/salmon_renamed_species/F_similis/F_similis_BW_1\n",
      "Reformatted quant file written: /Users/johnsolk/Documents/UCDavis/Whitehead/kfish_salmon/salmon_renamed_species/F_similis/F_similis_transfer_3\n",
      "Reformatted quant file written: /Users/johnsolk/Documents/UCDavis/Whitehead/kfish_salmon/salmon_renamed_species/F_similis/F_similis_BW_3\n",
      "Reformatted quant file written: /Users/johnsolk/Documents/UCDavis/Whitehead/kfish_salmon/salmon_renamed_species/F_similis/F_similis_BW_2\n",
      "Reformatted quant file written: /Users/johnsolk/Documents/UCDavis/Whitehead/kfish_salmon/salmon_renamed_species/F_similis/F_similis_transfer_2\n",
      "Reformatted quant file written: /Users/johnsolk/Documents/UCDavis/Whitehead/kfish_salmon/salmon_renamed_species/F_similis/F_similis_FW_2\n",
      "Reformatted quant file written: /Users/johnsolk/Documents/UCDavis/Whitehead/kfish_salmon/salmon_renamed_species/F_similis/F_similis_FW_3\n",
      "Reformatted quant file written: /Users/johnsolk/Documents/UCDavis/Whitehead/kfish_salmon/salmon_renamed_species/F_similis/F_similis_FW_1\n",
      "Reformatted quant file written: /Users/johnsolk/Documents/UCDavis/Whitehead/kfish_salmon/salmon_renamed_species/F_heteroclitusMDPL/F_heteroclitusMDPL_transfer_3\n",
      "Reformatted quant file written: /Users/johnsolk/Documents/UCDavis/Whitehead/kfish_salmon/salmon_renamed_species/F_heteroclitusMDPL/F_heteroclitusMDPL_FW_2\n",
      "Reformatted quant file written: /Users/johnsolk/Documents/UCDavis/Whitehead/kfish_salmon/salmon_renamed_species/F_heteroclitusMDPL/F_heteroclitusMDPL_transfer_1\n",
      "Reformatted quant file written: /Users/johnsolk/Documents/UCDavis/Whitehead/kfish_salmon/salmon_renamed_species/F_heteroclitusMDPL/F_heteroclitusMDPL_FW_3\n",
      "Reformatted quant file written: /Users/johnsolk/Documents/UCDavis/Whitehead/kfish_salmon/salmon_renamed_species/F_heteroclitusMDPL/F_heteroclitusMDPL_transfer_2\n",
      "Reformatted quant file written: /Users/johnsolk/Documents/UCDavis/Whitehead/kfish_salmon/salmon_renamed_species/F_heteroclitusMDPL/F_heteroclitusMDPL_FW_1\n",
      "Reformatted quant file written: /Users/johnsolk/Documents/UCDavis/Whitehead/kfish_salmon/salmon_renamed_species/F_heteroclitusMDPL/F_heteroclitusMDPL_BW_1\n",
      "Reformatted quant file written: /Users/johnsolk/Documents/UCDavis/Whitehead/kfish_salmon/salmon_renamed_species/F_heteroclitusMDPL/F_heteroclitusMDPL_BW_3\n",
      "Reformatted quant file written: /Users/johnsolk/Documents/UCDavis/Whitehead/kfish_salmon/salmon_renamed_species/F_heteroclitusMDPL/F_heteroclitusMDPL_BW_2\n",
      "Reformatted quant file written: /Users/johnsolk/Documents/UCDavis/Whitehead/kfish_salmon/salmon_renamed_species/F_olivaceous/F_olivaceous_FW_2\n",
      "Reformatted quant file written: /Users/johnsolk/Documents/UCDavis/Whitehead/kfish_salmon/salmon_renamed_species/F_olivaceous/F_olivaceous_transfer_2\n",
      "Reformatted quant file written: /Users/johnsolk/Documents/UCDavis/Whitehead/kfish_salmon/salmon_renamed_species/F_olivaceous/F_olivaceous_FW_1\n",
      "Reformatted quant file written: /Users/johnsolk/Documents/UCDavis/Whitehead/kfish_salmon/salmon_renamed_species/F_olivaceous/F_olivaceous_transfer_1\n",
      "Reformatted quant file written: /Users/johnsolk/Documents/UCDavis/Whitehead/kfish_salmon/salmon_renamed_species/F_olivaceous/F_olivaceous_FW_3\n",
      "Reformatted quant file written: /Users/johnsolk/Documents/UCDavis/Whitehead/kfish_salmon/salmon_renamed_species/F_olivaceous/F_olivaceous_BW_3\n",
      "Reformatted quant file written: /Users/johnsolk/Documents/UCDavis/Whitehead/kfish_salmon/salmon_renamed_species/F_olivaceous/F_olivaceous_BW_1\n",
      "Reformatted quant file written: /Users/johnsolk/Documents/UCDavis/Whitehead/kfish_salmon/salmon_renamed_species/F_olivaceous/F_olivaceous_BW_2\n",
      "Reformatted quant file written: /Users/johnsolk/Documents/UCDavis/Whitehead/kfish_salmon/salmon_renamed_species/F_notti/F_notti_FW_2\n",
      "Reformatted quant file written: /Users/johnsolk/Documents/UCDavis/Whitehead/kfish_salmon/salmon_renamed_species/F_notti/F_notti_FW_1\n",
      "Reformatted quant file written: /Users/johnsolk/Documents/UCDavis/Whitehead/kfish_salmon/salmon_renamed_species/F_diaphanus/F_diaphanus_BW_1\n",
      "Reformatted quant file written: /Users/johnsolk/Documents/UCDavis/Whitehead/kfish_salmon/salmon_renamed_species/F_diaphanus/F_diaphanus_BW_2\n",
      "Reformatted quant file written: /Users/johnsolk/Documents/UCDavis/Whitehead/kfish_salmon/salmon_renamed_species/F_diaphanus/F_diaphanus_transfer_2\n",
      "Reformatted quant file written: /Users/johnsolk/Documents/UCDavis/Whitehead/kfish_salmon/salmon_renamed_species/F_diaphanus/F_diaphanus_FW_2\n",
      "Reformatted quant file written: /Users/johnsolk/Documents/UCDavis/Whitehead/kfish_salmon/salmon_renamed_species/F_diaphanus/F_diaphanus_transfer_1\n",
      "Reformatted quant file written: /Users/johnsolk/Documents/UCDavis/Whitehead/kfish_salmon/salmon_renamed_species/F_diaphanus/F_diaphanus_FW_3\n",
      "Reformatted quant file written: /Users/johnsolk/Documents/UCDavis/Whitehead/kfish_salmon/salmon_renamed_species/F_notatus/F_notatus_FW_2\n",
      "Reformatted quant file written: /Users/johnsolk/Documents/UCDavis/Whitehead/kfish_salmon/salmon_renamed_species/F_notatus/F_notatus_FW_3\n",
      "Reformatted quant file written: /Users/johnsolk/Documents/UCDavis/Whitehead/kfish_salmon/salmon_renamed_species/F_notatus/F_notatus_FW_1\n",
      "Reformatted quant file written: /Users/johnsolk/Documents/UCDavis/Whitehead/kfish_salmon/salmon_renamed_species/F_notatus/F_notatus_transfer_1\n"
     ]
    },
    {
     "name": "stdout",
     "output_type": "stream",
     "text": [
      "Reformatted quant file written: /Users/johnsolk/Documents/UCDavis/Whitehead/kfish_salmon/salmon_renamed_species/F_notatus/F_notatus_transfer_3\n",
      "Reformatted quant file written: /Users/johnsolk/Documents/UCDavis/Whitehead/kfish_salmon/salmon_renamed_species/F_notatus/F_notatus_BW_1\n",
      "Reformatted quant file written: /Users/johnsolk/Documents/UCDavis/Whitehead/kfish_salmon/salmon_renamed_species/F_notatus/F_notatus_BW_3\n",
      "Reformatted quant file written: /Users/johnsolk/Documents/UCDavis/Whitehead/kfish_salmon/salmon_renamed_species/F_notatus/F_notatus_transfer_2\n",
      "Reformatted quant file written: /Users/johnsolk/Documents/UCDavis/Whitehead/kfish_salmon/salmon_renamed_species/F_notatus/F_notatus_BW_2\n",
      "Reformatted quant file written: /Users/johnsolk/Documents/UCDavis/Whitehead/kfish_salmon/salmon_renamed_species/F_catanatus/F_catanatus_BW_2\n",
      "Reformatted quant file written: /Users/johnsolk/Documents/UCDavis/Whitehead/kfish_salmon/salmon_renamed_species/F_catanatus/F_catanatus_transfer_1\n",
      "Reformatted quant file written: /Users/johnsolk/Documents/UCDavis/Whitehead/kfish_salmon/salmon_renamed_species/F_catanatus/F_catanatus_BW_3\n",
      "Reformatted quant file written: /Users/johnsolk/Documents/UCDavis/Whitehead/kfish_salmon/salmon_renamed_species/F_catanatus/F_catanatus_transfer_2\n",
      "Reformatted quant file written: /Users/johnsolk/Documents/UCDavis/Whitehead/kfish_salmon/salmon_renamed_species/F_catanatus/F_catanatus_BW_1\n",
      "Reformatted quant file written: /Users/johnsolk/Documents/UCDavis/Whitehead/kfish_salmon/salmon_renamed_species/F_catanatus/F_catanatus_FW_1\n",
      "Reformatted quant file written: /Users/johnsolk/Documents/UCDavis/Whitehead/kfish_salmon/salmon_renamed_species/F_catanatus/F_catanatus_FW_2\n"
     ]
    }
   ],
   "source": [
    "species_quant = {}\n",
    "for sf in quant_files:\n",
    "    # get genus_species\n",
    "    genus_species = sf.split(\"/\")[8].split(\"_\")[0] + \"_\" + sf.split(\"/\")[8].split(\"_\")[1]\n",
    "    species_dir = salmon_renamed + genus_species + \"/\"\n",
    "    if not os.path.isdir(species_dir):\n",
    "        os.mkdir(species_dir)\n",
    "    if genus_species in species_quant:\n",
    "        species_quant[genus_species].append(sf)\n",
    "    else:\n",
    "        species_quant[genus_species] = [sf]\n",
    "for species in species_quant:\n",
    "    for quant in species_quant[species]:\n",
    "        genus_species = quant.split(\"/\")[8].split(\"_\")[0] + \"_\" + quant.split(\"/\")[8].split(\"_\")[1]\n",
    "        quant_file = pd.read_csv(quant,sep=\"\\t\")\n",
    "        genusspecies = genus_species.split(\"_\")[0] + genus_species.split(\"_\")[1]\n",
    "        prefix = genusspecies+\"-\"\n",
    "        quant_file['new'] = prefix+quant_file['Name'].astype(str)\n",
    "        quant_file = quant_file.drop(columns=['Name'])\n",
    "        quant_file = quant_file.rename(index=str, columns={\"new\": \"Name\", \"Length\": \"Length\",'EffectiveLength':'EffectiveLength','TPM':'TPM','NumReads':'NumReads'})\n",
    "        cols = [\"Name\", \"Length\",\"EffectiveLength\",\"TPM\",\"NumReads\"]\n",
    "        quant_file = quant_file[cols]\n",
    "        new_quant_file = salmon_renamed + genus_species + \"/\" + quant.split(\"/\")[8].split(\".\")[0]\n",
    "        quant_file.to_csv(new_quant_file,index=False,index_label=None,sep=\"\\t\")\n",
    "        print(\"Reformatted quant file written:\",new_quant_file)\n",
    "        "
   ]
  },
  {
   "cell_type": "markdown",
   "metadata": {},
   "source": [
    "# summarize expression tables by species"
   ]
  },
  {
   "cell_type": "code",
   "execution_count": 5,
   "metadata": {},
   "outputs": [
    {
     "name": "stdout",
     "output_type": "stream",
     "text": [
      "['F_notti', 'L_goodei', '.DS_Store', 'L_parva', 'F_similis', 'F_notatus', 'F_heteroclitusMDPP', 'F_heteroclitusMDPL', 'F_parvapinis', 'F_diaphanus', 'F_catanatus', 'F_zebrinus', 'F_sciadicus', 'F_grandis', 'F_rathbuni', 'F_chrysotus', 'F_olivaceous', 'A_xenica']\n"
     ]
    }
   ],
   "source": [
    "species_salmon_files = os.listdir(salmon_renamed)\n",
    "print(species_salmon_files)"
   ]
  },
  {
   "cell_type": "code",
   "execution_count": 7,
   "metadata": {},
   "outputs": [
    {
     "name": "stdout",
     "output_type": "stream",
     "text": [
      "F_notti\n",
      "(131628, 2)\n",
      "(131628, 3)\n",
      "L_goodei\n",
      "(320120, 2)\n",
      "(320120, 3)\n",
      "(320120, 4)\n",
      "(320120, 5)\n",
      "(320120, 6)\n",
      "(320120, 7)\n",
      "(320120, 8)\n",
      "(320120, 9)\n",
      "(320120, 10)\n",
      "L_parva\n",
      "(340044, 2)\n",
      "(341080, 3)\n",
      "(341080, 4)\n",
      "(341080, 5)\n",
      "(341080, 6)\n",
      "(341080, 7)\n",
      "(341080, 8)\n",
      "(341080, 9)\n",
      "(341080, 10)\n",
      "F_similis\n",
      "(426262, 2)\n",
      "(426262, 3)\n",
      "(426262, 4)\n",
      "(426262, 5)\n",
      "(426262, 6)\n",
      "(426262, 7)\n",
      "(426262, 8)\n",
      "(426262, 9)\n",
      "(426262, 10)\n",
      "F_notatus\n",
      "(343128, 2)\n",
      "(343128, 3)\n",
      "(343128, 4)\n",
      "(343128, 5)\n",
      "(343128, 6)\n",
      "(343128, 7)\n",
      "(343128, 8)\n",
      "(343128, 9)\n",
      "(343128, 10)\n",
      "F_heteroclitusMDPP\n",
      "(552204, 2)\n",
      "(552204, 3)\n",
      "(552204, 4)\n",
      "(552204, 5)\n",
      "(552204, 6)\n",
      "(552204, 7)\n",
      "(552204, 8)\n",
      "(552204, 9)\n",
      "(552204, 10)\n",
      "F_heteroclitusMDPL\n",
      "(489881, 2)\n",
      "(489881, 3)\n",
      "(489881, 4)\n",
      "(489881, 5)\n",
      "(489881, 6)\n",
      "(489881, 7)\n",
      "(489881, 8)\n",
      "(489881, 9)\n",
      "(489881, 10)\n",
      "F_parvapinis\n",
      "(298549, 2)\n",
      "(298549, 3)\n",
      "(298549, 4)\n",
      "(298549, 5)\n",
      "(298549, 6)\n",
      "(298549, 7)\n",
      "(298549, 8)\n",
      "(298549, 9)\n",
      "F_diaphanus\n",
      "(320734, 2)\n",
      "(320734, 3)\n",
      "(320734, 4)\n",
      "(320734, 5)\n",
      "(320734, 6)\n",
      "(320734, 7)\n",
      "F_catanatus\n",
      "(325956, 2)\n",
      "(325956, 3)\n",
      "(325956, 4)\n",
      "(325956, 5)\n",
      "(325956, 6)\n",
      "(325956, 7)\n",
      "(325956, 8)\n",
      "F_zebrinus\n",
      "(230099, 2)\n",
      "(230099, 3)\n",
      "(230099, 4)\n",
      "(230099, 5)\n",
      "F_sciadicus\n",
      "(199646, 2)\n",
      "(199646, 3)\n",
      "(199646, 4)\n",
      "(199646, 5)\n",
      "F_grandis\n",
      "(676974, 2)\n",
      "(676974, 3)\n",
      "(676974, 4)\n",
      "(676974, 5)\n",
      "(676974, 6)\n",
      "(676974, 7)\n",
      "(676974, 8)\n",
      "(676974, 9)\n",
      "(676974, 10)\n",
      "F_rathbuni\n",
      "(419800, 2)\n",
      "(419800, 3)\n",
      "(419800, 4)\n",
      "(419800, 5)\n",
      "(419800, 6)\n",
      "(419800, 7)\n",
      "(419800, 8)\n",
      "(419800, 9)\n",
      "(419800, 10)\n",
      "F_chrysotus\n",
      "(328865, 2)\n",
      "(328865, 3)\n",
      "(328865, 4)\n",
      "(328865, 5)\n",
      "(328865, 6)\n",
      "(328865, 7)\n",
      "(328865, 8)\n",
      "(328865, 9)\n",
      "F_olivaceous\n",
      "(296801, 2)\n",
      "(296801, 3)\n",
      "(296801, 4)\n",
      "(296801, 5)\n",
      "(296801, 6)\n",
      "(296801, 7)\n",
      "(296801, 8)\n",
      "(296801, 9)\n",
      "A_xenica\n",
      "(301664, 2)\n",
      "(301664, 3)\n",
      "(301664, 4)\n",
      "(301664, 5)\n",
      "(301664, 6)\n",
      "(301664, 7)\n",
      "(301664, 8)\n",
      "(301664, 9)\n",
      "(301664, 10)\n"
     ]
    }
   ],
   "source": [
    "for species in species_salmon_files:\n",
    "    if species != \".DS_Store\":\n",
    "        print(species)\n",
    "        species_merged = pd.DataFrame(columns=['Name'])\n",
    "        species_dir = salmon_renamed + species + \"/\"\n",
    "        species_files = os.listdir(species_dir)\n",
    "        for quant in species_files:\n",
    "            quant_file = species_dir + quant\n",
    "            species_exp = pd.read_csv(quant_file)\n",
    "            species_exp = species_exp.drop(columns=['Unnamed: 0','Length','EffectiveLength','TPM'])\n",
    "            colname = quant.split(\".\")[0]\n",
    "            species_exp = species_exp.rename(index=str, columns={\"NumReads\": colname})\n",
    "            cols = ['Name',colname]\n",
    "            species_exp = species_exp[cols]\n",
    "            species_merged = pd.merge(species_merged,species_exp,how='outer')\n",
    "            print(species_merged.shape)\n",
    "        #species_merged = species_merged.set_index('Name')\n",
    "        species_filename = expression_tables_species + species + \".tsv\"\n",
    "        species_merged.to_csv(species_filename,sep=\"\\t\",index=False,index_label=None)"
   ]
  },
  {
   "cell_type": "markdown",
   "metadata": {},
   "source": [
    "# make replicates file"
   ]
  },
  {
   "cell_type": "code",
   "execution_count": 20,
   "metadata": {},
   "outputs": [],
   "source": [
    "species_files = os.listdir(expression_tables_species)"
   ]
  },
  {
   "cell_type": "code",
   "execution_count": 21,
   "metadata": {},
   "outputs": [
    {
     "name": "stdout",
     "output_type": "stream",
     "text": [
      "['F_heteroclitusMDPP_counts.csv', 'F_parvapinis_counts.csv', 'F_olivaceous_counts.csv', 'F_notatus_counts.csv', 'F_heteroclitusMDPL_counts.csv', 'F_notti_counts.csv', 'F_grandis_counts.csv', 'F_zebrinus_counts.csv', 'A_xenica_counts.csv', 'F_catanatus_counts.csv', 'F_sciadicus_counts.csv', 'F_rathbuni_counts.csv', 'F_chrysotus_counts.csv', 'F_diaphanus_counts.csv', 'L_goodei_counts.csv', 'F_similis_counts.csv']\n"
     ]
    }
   ],
   "source": [
    "print(species_files)"
   ]
  },
  {
   "cell_type": "code",
   "execution_count": 26,
   "metadata": {},
   "outputs": [
    {
     "name": "stdout",
     "output_type": "stream",
     "text": [
      "F_heteroclitusMDPP_counts.csv\n",
      "['Unnamed: 0', 'F_heteroclitusMDPP_BW_1', 'F_heteroclitusMDPP_BW_2', 'F_heteroclitusMDPP_BW_3', 'F_heteroclitusMDPP_FW_1', 'F_heteroclitusMDPP_FW_2', 'F_heteroclitusMDPP_FW_3', 'F_heteroclitusMDPP_transfer_1', 'F_heteroclitusMDPP_transfer_2', 'F_heteroclitusMDPP_transfer_3']\n",
      "F_parvapinis_counts.csv\n",
      "['Unnamed: 0', 'F_parvapinis_BW_1', 'F_parvapinis_BW_2', 'F_parvapinis_BW_3', 'F_parvapinis_FW_1', 'F_parvapinis_FW_2', 'F_parvapinis_FW_3', 'F_parvapinis_transfer_1', 'F_parvapinis_transfer_2']\n",
      "F_olivaceous_counts.csv\n",
      "['Unnamed: 0', 'F_olivaceous_BW_1', 'F_olivaceous_BW_2', 'F_olivaceous_BW_3', 'F_olivaceous_FW_1', 'F_olivaceous_FW_2', 'F_olivaceous_FW_3', 'F_olivaceous_transfer_1', 'F_olivaceous_transfer_2']\n",
      "F_notatus_counts.csv\n",
      "['Unnamed: 0', 'F_notatus_BW_1', 'F_notatus_BW_2', 'F_notatus_BW_3', 'F_notatus_FW_1', 'F_notatus_FW_2', 'F_notatus_FW_3', 'F_notatus_transfer_1', 'F_notatus_transfer_2', 'F_notatus_transfer_3']\n",
      "F_heteroclitusMDPL_counts.csv\n",
      "['Unnamed: 0', 'F_heteroclitusMDPL_BW_1', 'F_heteroclitusMDPL_BW_2', 'F_heteroclitusMDPL_BW_3', 'F_heteroclitusMDPL_FW_1', 'F_heteroclitusMDPL_FW_2', 'F_heteroclitusMDPL_FW_3', 'F_heteroclitusMDPL_transfer_1', 'F_heteroclitusMDPL_transfer_2', 'F_heteroclitusMDPL_transfer_3']\n",
      "F_notti_counts.csv\n",
      "['Unnamed: 0', 'F_notti_FW_1', 'F_notti_FW_2']\n",
      "F_grandis_counts.csv\n",
      "['Unnamed: 0', 'F_grandis_BW_1', 'F_grandis_BW_2', 'F_grandis_BW_3', 'F_grandis_FW_1', 'F_grandis_FW_2', 'F_grandis_FW_3', 'F_grandis_transfer_1', 'F_grandis_transfer_2', 'F_grandis_transfer_3']\n",
      "F_zebrinus_counts.csv\n",
      "['Unnamed: 0', 'F_zebrinus_BW_1', 'F_zebrinus_BW_2', 'F_zebrinus_FW_1', 'F_zebrinus_FW_2']\n",
      "A_xenica_counts.csv\n",
      "['Unnamed: 0', 'A_xenica_BW_1', 'A_xenica_BW_2', 'A_xenica_BW_3', 'A_xenica_FW_1', 'A_xenica_FW_2', 'A_xenica_FW_3', 'A_xenica_transfer_1', 'A_xenica_transfer_2', 'A_xenica_transfer_3']\n",
      "F_catanatus_counts.csv\n",
      "['Unnamed: 0', 'F_catanatus_BW_1', 'F_catanatus_BW_2', 'F_catanatus_BW_3', 'F_catanatus_FW_1', 'F_catanatus_FW_2', 'F_catanatus_transfer_1', 'F_catanatus_transfer_2']\n",
      "F_sciadicus_counts.csv\n",
      "['Unnamed: 0', 'F_sciadicus_BW_1', 'F_sciadicus_FW_1', 'F_sciadicus_FW_2', 'F_sciadicus_transfer_1']\n",
      "F_rathbuni_counts.csv\n",
      "['Unnamed: 0', 'F_rathbuni_BW_1', 'F_rathbuni_BW_2', 'F_rathbuni_BW_3', 'F_rathbuni_FW_1', 'F_rathbuni_FW_2', 'F_rathbuni_FW_3', 'F_rathbuni_transfer_1', 'F_rathbuni_transfer_2', 'F_rathbuni_transfer_3']\n",
      "F_chrysotus_counts.csv\n",
      "['Unnamed: 0', 'F_chrysotus_BW_1', 'F_chrysotus_BW_2', 'F_chrysotus_BW_3', 'F_chrysotus_FW_1', 'F_chrysotus_FW_2', 'F_chrysotus_FW_3', 'F_chrysotus_transfer_1', 'F_chrysotus_transfer_2']\n",
      "F_diaphanus_counts.csv\n",
      "['Unnamed: 0', 'F_diaphanus_BW_1', 'F_diaphanus_BW_2', 'F_diaphanus_FW_2', 'F_diaphanus_FW_3', 'F_diaphanus_transfer_1', 'F_diaphanus_transfer_2']\n",
      "L_goodei_counts.csv\n",
      "['Unnamed: 0', 'L_goodei_BW_1', 'L_goodei_BW_2', 'L_goodei_BW_3', 'L_goodei_FW_1', 'L_goodei_FW_2', 'L_goodei_FW_3', 'L_goodei_transfer_1', 'L_goodei_transfer_2', 'L_goodei_transfer_3']\n",
      "F_similis_counts.csv\n",
      "['Unnamed: 0', 'F_similis_BW_1', 'F_similis_BW_2', 'F_similis_BW_3', 'F_similis_FW_1', 'F_similis_FW_2', 'F_similis_FW_3', 'F_similis_transfer_1', 'F_similis_transfer_2', 'F_similis_transfer_3']\n",
      "{('F_heteroclitusMDPP_counts.csv', '15_ppt'): ['F_heteroclitusMDPP_BW_1', 'F_heteroclitusMDPP_BW_2', 'F_heteroclitusMDPP_BW_3'], ('F_heteroclitusMDPP_counts.csv', '0.2_ppt'): ['F_heteroclitusMDPP_FW_1', 'F_heteroclitusMDPP_FW_2', 'F_heteroclitusMDPP_FW_3'], ('F_heteroclitusMDPP_counts.csv', 'transfer'): ['F_heteroclitusMDPP_transfer_1', 'F_heteroclitusMDPP_transfer_2', 'F_heteroclitusMDPP_transfer_3'], ('F_parvapinis_counts.csv', '15_ppt'): ['F_parvapinis_BW_1', 'F_parvapinis_BW_2', 'F_parvapinis_BW_3'], ('F_parvapinis_counts.csv', '0.2_ppt'): ['F_parvapinis_FW_1', 'F_parvapinis_FW_2', 'F_parvapinis_FW_3'], ('F_parvapinis_counts.csv', 'transfer'): ['F_parvapinis_transfer_1', 'F_parvapinis_transfer_2'], ('F_olivaceous_counts.csv', '15_ppt'): ['F_olivaceous_BW_1', 'F_olivaceous_BW_2', 'F_olivaceous_BW_3'], ('F_olivaceous_counts.csv', '0.2_ppt'): ['F_olivaceous_FW_1', 'F_olivaceous_FW_2', 'F_olivaceous_FW_3'], ('F_olivaceous_counts.csv', 'transfer'): ['F_olivaceous_transfer_1', 'F_olivaceous_transfer_2'], ('F_notatus_counts.csv', '15_ppt'): ['F_notatus_BW_1', 'F_notatus_BW_2', 'F_notatus_BW_3'], ('F_notatus_counts.csv', '0.2_ppt'): ['F_notatus_FW_1', 'F_notatus_FW_2', 'F_notatus_FW_3'], ('F_notatus_counts.csv', 'transfer'): ['F_notatus_transfer_1', 'F_notatus_transfer_2', 'F_notatus_transfer_3'], ('F_heteroclitusMDPL_counts.csv', '15_ppt'): ['F_heteroclitusMDPL_BW_1', 'F_heteroclitusMDPL_BW_2', 'F_heteroclitusMDPL_BW_3'], ('F_heteroclitusMDPL_counts.csv', '0.2_ppt'): ['F_heteroclitusMDPL_FW_1', 'F_heteroclitusMDPL_FW_2', 'F_heteroclitusMDPL_FW_3'], ('F_heteroclitusMDPL_counts.csv', 'transfer'): ['F_heteroclitusMDPL_transfer_1', 'F_heteroclitusMDPL_transfer_2', 'F_heteroclitusMDPL_transfer_3'], ('F_notti_counts.csv', '0.2_ppt'): ['F_notti_FW_1', 'F_notti_FW_2'], ('F_grandis_counts.csv', '15_ppt'): ['F_grandis_BW_1', 'F_grandis_BW_2', 'F_grandis_BW_3'], ('F_grandis_counts.csv', '0.2_ppt'): ['F_grandis_FW_1', 'F_grandis_FW_2', 'F_grandis_FW_3'], ('F_grandis_counts.csv', 'transfer'): ['F_grandis_transfer_1', 'F_grandis_transfer_2', 'F_grandis_transfer_3'], ('F_zebrinus_counts.csv', '15_ppt'): ['F_zebrinus_BW_1', 'F_zebrinus_BW_2'], ('F_zebrinus_counts.csv', '0.2_ppt'): ['F_zebrinus_FW_1', 'F_zebrinus_FW_2'], ('A_xenica_counts.csv', '15_ppt'): ['A_xenica_BW_1', 'A_xenica_BW_2', 'A_xenica_BW_3'], ('A_xenica_counts.csv', '0.2_ppt'): ['A_xenica_FW_1', 'A_xenica_FW_2', 'A_xenica_FW_3'], ('A_xenica_counts.csv', 'transfer'): ['A_xenica_transfer_1', 'A_xenica_transfer_2', 'A_xenica_transfer_3'], ('F_catanatus_counts.csv', '15_ppt'): ['F_catanatus_BW_1', 'F_catanatus_BW_2', 'F_catanatus_BW_3'], ('F_catanatus_counts.csv', '0.2_ppt'): ['F_catanatus_FW_1', 'F_catanatus_FW_2'], ('F_catanatus_counts.csv', 'transfer'): ['F_catanatus_transfer_1', 'F_catanatus_transfer_2'], ('F_sciadicus_counts.csv', '15_ppt'): ['F_sciadicus_BW_1'], ('F_sciadicus_counts.csv', '0.2_ppt'): ['F_sciadicus_FW_1', 'F_sciadicus_FW_2'], ('F_sciadicus_counts.csv', 'transfer'): ['F_sciadicus_transfer_1'], ('F_rathbuni_counts.csv', '15_ppt'): ['F_rathbuni_BW_1', 'F_rathbuni_BW_2', 'F_rathbuni_BW_3'], ('F_rathbuni_counts.csv', '0.2_ppt'): ['F_rathbuni_FW_1', 'F_rathbuni_FW_2', 'F_rathbuni_FW_3'], ('F_rathbuni_counts.csv', 'transfer'): ['F_rathbuni_transfer_1', 'F_rathbuni_transfer_2', 'F_rathbuni_transfer_3'], ('F_chrysotus_counts.csv', '15_ppt'): ['F_chrysotus_BW_1', 'F_chrysotus_BW_2', 'F_chrysotus_BW_3'], ('F_chrysotus_counts.csv', '0.2_ppt'): ['F_chrysotus_FW_1', 'F_chrysotus_FW_2', 'F_chrysotus_FW_3'], ('F_chrysotus_counts.csv', 'transfer'): ['F_chrysotus_transfer_1', 'F_chrysotus_transfer_2'], ('F_diaphanus_counts.csv', '15_ppt'): ['F_diaphanus_BW_1', 'F_diaphanus_BW_2'], ('F_diaphanus_counts.csv', '0.2_ppt'): ['F_diaphanus_FW_2', 'F_diaphanus_FW_3'], ('F_diaphanus_counts.csv', 'transfer'): ['F_diaphanus_transfer_1', 'F_diaphanus_transfer_2'], ('L_goodei_counts.csv', '15_ppt'): ['L_goodei_BW_1', 'L_goodei_BW_2', 'L_goodei_BW_3'], ('L_goodei_counts.csv', '0.2_ppt'): ['L_goodei_FW_1', 'L_goodei_FW_2', 'L_goodei_FW_3'], ('L_goodei_counts.csv', 'transfer'): ['L_goodei_transfer_1', 'L_goodei_transfer_2', 'L_goodei_transfer_3'], ('F_similis_counts.csv', '15_ppt'): ['F_similis_BW_1', 'F_similis_BW_2', 'F_similis_BW_3'], ('F_similis_counts.csv', '0.2_ppt'): ['F_similis_FW_1', 'F_similis_FW_2', 'F_similis_FW_3'], ('F_similis_counts.csv', 'transfer'): ['F_similis_transfer_1', 'F_similis_transfer_2', 'F_similis_transfer_3']}\n"
     ]
    }
   ],
   "source": [
    "replicates = {}\n",
    "for species in species_files:\n",
    "    if species != \".DS_Store\":\n",
    "        print(species)\n",
    "        species_file = expression_tables_species + species\n",
    "        frame = pd.read_csv(species_file)\n",
    "        species_replicates = list(frame.columns.values)\n",
    "        print(species_replicates)\n",
    "        for rep in species_replicates:\n",
    "            if rep != \"Unnamed: 0\":\n",
    "                treatment = rep.split(\"_\")[2]\n",
    "                if treatment == \"FW\":\n",
    "                    condition = \"0.2_ppt\"\n",
    "                if treatment == \"BW\":\n",
    "                    condition = \"15_ppt\"\n",
    "                if treatment == \"transfer\":\n",
    "                    condition = \"transfer\"\n",
    "                species_treatment = (species,condition)\n",
    "                if species_treatment not in replicates:\n",
    "                    replicates[species_treatment] = [rep]\n",
    "                else:\n",
    "                    replicates[species_treatment].append(rep)\n",
    "print(replicates)"
   ]
  },
  {
   "cell_type": "code",
   "execution_count": 27,
   "metadata": {},
   "outputs": [],
   "source": [
    "with open(\"/Users/johnsolk/Documents/UCDavis/Whitehead/kfish_salmon/species_replicates\",'w') as fp:\n",
    "    for i in replicates:\n",
    "        species = i[0]\n",
    "        condition = i[1]\n",
    "        reps = ', '.join(replicates[i])\n",
    "        fp.write(species + \"\\t\")\n",
    "        fp.write(condition + \"\\t\")\n",
    "        fp.write(reps + \"\\n\")"
   ]
  },
  {
   "cell_type": "markdown",
   "metadata": {},
   "source": [
    "# replicates file for one large expression matrix"
   ]
  },
  {
   "cell_type": "code",
   "execution_count": 6,
   "metadata": {},
   "outputs": [
    {
     "name": "stdout",
     "output_type": "stream",
     "text": [
      "OG_species_counts.csv\n",
      "{('OG_species_counts.csv', '15_ppt'): ['F_heteroclitusMDPP_BW_1', 'F_heteroclitusMDPP_BW_2', 'F_heteroclitusMDPP_BW_3', 'F_parvapinis_BW_1', 'F_parvapinis_BW_2', 'F_parvapinis_BW_3', 'F_olivaceous_BW_1', 'F_olivaceous_BW_2', 'F_olivaceous_BW_3', 'F_notatus_BW_1', 'F_notatus_BW_2', 'F_notatus_BW_3', 'F_heteroclitusMDPL_BW_1', 'F_heteroclitusMDPL_BW_2', 'F_heteroclitusMDPL_BW_3', 'F_grandis_BW_1', 'F_grandis_BW_2', 'F_grandis_BW_3', 'F_zebrinus_BW_1', 'F_zebrinus_BW_2', 'A_xenica_BW_1', 'A_xenica_BW_2', 'A_xenica_BW_3', 'F_catanatus_BW_1', 'F_catanatus_BW_2', 'F_catanatus_BW_3', 'F_sciadicus_BW_1', 'F_rathbuni_BW_1', 'F_rathbuni_BW_2', 'F_rathbuni_BW_3', 'F_chrysotus_BW_1', 'F_chrysotus_BW_2', 'F_chrysotus_BW_3', 'F_diaphanus_BW_1', 'F_diaphanus_BW_2', 'L_goodei_BW_1', 'L_goodei_BW_2', 'L_goodei_BW_3', 'F_similis_BW_1', 'F_similis_BW_2', 'F_similis_BW_3'], ('OG_species_counts.csv', '0.2_ppt'): ['F_heteroclitusMDPP_FW_1', 'F_heteroclitusMDPP_FW_2', 'F_heteroclitusMDPP_FW_3', 'F_parvapinis_FW_1', 'F_parvapinis_FW_2', 'F_parvapinis_FW_3', 'F_olivaceous_FW_1', 'F_olivaceous_FW_2', 'F_olivaceous_FW_3', 'F_notatus_FW_1', 'F_notatus_FW_2', 'F_notatus_FW_3', 'F_heteroclitusMDPL_FW_1', 'F_heteroclitusMDPL_FW_2', 'F_heteroclitusMDPL_FW_3', 'F_notti_FW_1', 'F_notti_FW_2', 'F_grandis_FW_1', 'F_grandis_FW_2', 'F_grandis_FW_3', 'F_zebrinus_FW_1', 'F_zebrinus_FW_2', 'A_xenica_FW_1', 'A_xenica_FW_2', 'A_xenica_FW_3', 'F_catanatus_FW_1', 'F_catanatus_FW_2', 'F_sciadicus_FW_1', 'F_sciadicus_FW_2', 'F_rathbuni_FW_1', 'F_rathbuni_FW_2', 'F_rathbuni_FW_3', 'F_chrysotus_FW_1', 'F_chrysotus_FW_2', 'F_chrysotus_FW_3', 'F_diaphanus_FW_2', 'F_diaphanus_FW_3', 'L_goodei_FW_1', 'L_goodei_FW_2', 'L_goodei_FW_3', 'F_similis_FW_1', 'F_similis_FW_2', 'F_similis_FW_3'], ('OG_species_counts.csv', 'transfer'): ['F_heteroclitusMDPP_transfer_1', 'F_heteroclitusMDPP_transfer_2', 'F_heteroclitusMDPP_transfer_3', 'F_parvapinis_transfer_1', 'F_parvapinis_transfer_2', 'F_olivaceous_transfer_1', 'F_olivaceous_transfer_2', 'F_notatus_transfer_1', 'F_notatus_transfer_2', 'F_notatus_transfer_3', 'F_heteroclitusMDPL_transfer_1', 'F_heteroclitusMDPL_transfer_2', 'F_heteroclitusMDPL_transfer_3', 'F_grandis_transfer_1', 'F_grandis_transfer_2', 'F_grandis_transfer_3', 'A_xenica_transfer_1', 'A_xenica_transfer_2', 'A_xenica_transfer_3', 'F_catanatus_transfer_1', 'F_catanatus_transfer_2', 'F_sciadicus_transfer_1', 'F_rathbuni_transfer_1', 'F_rathbuni_transfer_2', 'F_rathbuni_transfer_3', 'F_chrysotus_transfer_1', 'F_chrysotus_transfer_2', 'F_diaphanus_transfer_1', 'F_diaphanus_transfer_2', 'L_goodei_transfer_1', 'L_goodei_transfer_2', 'L_goodei_transfer_3', 'F_similis_transfer_1', 'F_similis_transfer_2', 'F_similis_transfer_3']}\n"
     ]
    }
   ],
   "source": [
    "dir = '/Users/johnsolk/Documents/UCDavis/Whitehead/kfish_salmon/'\n",
    "species_files = [\"OG_species_counts.csv\"]\n",
    "replicates = {}\n",
    "for species in species_files:\n",
    "    if species.endswith(\".csv\"):\n",
    "        print(species)\n",
    "        species_file = dir + species\n",
    "        frame = pd.read_csv(species_file)\n",
    "        species_replicates = list(frame.columns.values)\n",
    "        for rep in species_replicates:\n",
    "            if rep != \"OG\":\n",
    "                treatment = rep.split(\"_\")[2]\n",
    "                if treatment == \"FW\":\n",
    "                    condition = \"0.2_ppt\"\n",
    "                if treatment == \"BW\":\n",
    "                    condition = \"15_ppt\"\n",
    "                if treatment == \"transfer\":\n",
    "                    condition = \"transfer\"\n",
    "                species_treatment = (species,condition)\n",
    "                if species_treatment not in replicates:\n",
    "                    replicates[species_treatment] = [rep]\n",
    "                else:\n",
    "                    replicates[species_treatment].append(rep)\n",
    "print(replicates)"
   ]
  },
  {
   "cell_type": "code",
   "execution_count": 7,
   "metadata": {},
   "outputs": [],
   "source": [
    "with open(\"/Users/johnsolk/Documents/UCDavis/Whitehead/kfish_salmon/OG_combined_replicates\",'w') as fp:\n",
    "    for i in replicates:\n",
    "        species = i[0]\n",
    "        condition = i[1]\n",
    "        reps = ', '.join(replicates[i])\n",
    "        fp.write(species + \"\\t\")\n",
    "        fp.write(condition + \"\\t\")\n",
    "        fp.write(reps + \"\\n\")"
   ]
  },
  {
   "cell_type": "markdown",
   "metadata": {},
   "source": [
    "# test code combined expression tables"
   ]
  },
  {
   "cell_type": "code",
   "execution_count": 5,
   "metadata": {},
   "outputs": [],
   "source": [
    "species = 'F_grandis'\n",
    "species_dir = salmon_renamed + species + \"/\"\n",
    "species_files = os.listdir(species_dir)"
   ]
  },
  {
   "cell_type": "code",
   "execution_count": 6,
   "metadata": {},
   "outputs": [
    {
     "name": "stdout",
     "output_type": "stream",
     "text": [
      "['F_grandis_transfer_1.quant.sf', 'F_grandis_FW_1.quant.sf', 'F_grandis_BW_3.quant.sf', 'F_grandis_BW_2.quant.sf', 'F_grandis_transfer_3.quant.sf', 'F_grandis_transfer_2.quant.sf', 'F_grandis_BW_1.quant.sf', 'F_grandis_FW_2.quant.sf', 'F_grandis_FW_3.quant.sf']\n"
     ]
    }
   ],
   "source": [
    "print(species_files)"
   ]
  },
  {
   "cell_type": "code",
   "execution_count": 36,
   "metadata": {},
   "outputs": [],
   "source": [
    "species_merged = pd.DataFrame(columns=['Name'])\n",
    "quant_file = species_dir + 'F_grandis_transfer_1.quant.sf'\n",
    "quant = 'F_grandis_transfer_1.quant.sf'\n",
    "colname = quant.split(\".\")[0]\n",
    "species_exp = pd.read_csv(quant_file)\n",
    "species_exp = species_exp.drop(columns=['Unnamed: 0','Length','EffectiveLength','TPM'])\n",
    "species_exp = species_exp.rename(index=str, columns={\"NumReads\": colname})\n",
    "cols = ['Name',colname]\n",
    "species_exp = species_exp[cols]\n",
    "species_merged = pd.merge(species_merged,species_exp,how='outer')"
   ]
  },
  {
   "cell_type": "code",
   "execution_count": 37,
   "metadata": {},
   "outputs": [
    {
     "data": {
      "text/html": [
       "<div>\n",
       "<style scoped>\n",
       "    .dataframe tbody tr th:only-of-type {\n",
       "        vertical-align: middle;\n",
       "    }\n",
       "\n",
       "    .dataframe tbody tr th {\n",
       "        vertical-align: top;\n",
       "    }\n",
       "\n",
       "    .dataframe thead th {\n",
       "        text-align: right;\n",
       "    }\n",
       "</style>\n",
       "<table border=\"1\" class=\"dataframe\">\n",
       "  <thead>\n",
       "    <tr style=\"text-align: right;\">\n",
       "      <th></th>\n",
       "      <th>Name</th>\n",
       "      <th>F_grandis_transfer_1</th>\n",
       "    </tr>\n",
       "  </thead>\n",
       "  <tbody>\n",
       "    <tr>\n",
       "      <th>0</th>\n",
       "      <td>Fgrandis-TRINITY_DN85_c0_g1_i1</td>\n",
       "      <td>0.000</td>\n",
       "    </tr>\n",
       "    <tr>\n",
       "      <th>1</th>\n",
       "      <td>Fgrandis-TRINITY_DN85_c1_g1_i6</td>\n",
       "      <td>0.000</td>\n",
       "    </tr>\n",
       "    <tr>\n",
       "      <th>2</th>\n",
       "      <td>Fgrandis-TRINITY_DN85_c1_g1_i7</td>\n",
       "      <td>27.822</td>\n",
       "    </tr>\n",
       "    <tr>\n",
       "      <th>3</th>\n",
       "      <td>Fgrandis-TRINITY_DN85_c1_g1_i5</td>\n",
       "      <td>0.000</td>\n",
       "    </tr>\n",
       "    <tr>\n",
       "      <th>4</th>\n",
       "      <td>Fgrandis-TRINITY_DN85_c1_g1_i9</td>\n",
       "      <td>13.620</td>\n",
       "    </tr>\n",
       "  </tbody>\n",
       "</table>\n",
       "</div>"
      ],
      "text/plain": [
       "                             Name  F_grandis_transfer_1\n",
       "0  Fgrandis-TRINITY_DN85_c0_g1_i1                 0.000\n",
       "1  Fgrandis-TRINITY_DN85_c1_g1_i6                 0.000\n",
       "2  Fgrandis-TRINITY_DN85_c1_g1_i7                27.822\n",
       "3  Fgrandis-TRINITY_DN85_c1_g1_i5                 0.000\n",
       "4  Fgrandis-TRINITY_DN85_c1_g1_i9                13.620"
      ]
     },
     "execution_count": 37,
     "metadata": {},
     "output_type": "execute_result"
    }
   ],
   "source": [
    "species_merged.head()"
   ]
  },
  {
   "cell_type": "code",
   "execution_count": 14,
   "metadata": {},
   "outputs": [
    {
     "name": "stdout",
     "output_type": "stream",
     "text": [
      "(676974, 1)\n"
     ]
    }
   ],
   "source": [
    "print(species_exp.shape)"
   ]
  },
  {
   "cell_type": "code",
   "execution_count": 38,
   "metadata": {},
   "outputs": [
    {
     "name": "stdout",
     "output_type": "stream",
     "text": [
      "(676974, 2)\n",
      "(676974, 3)\n",
      "(676974, 4)\n",
      "(676974, 5)\n",
      "(676974, 6)\n",
      "(676974, 7)\n",
      "(676974, 8)\n",
      "(676974, 9)\n",
      "(676974, 10)\n"
     ]
    }
   ],
   "source": [
    "species_merged = pd.DataFrame(columns=['Name'])\n",
    "for quant in species_files:\n",
    "    quant_file = species_dir + quant\n",
    "    species_exp = pd.read_csv(quant_file)\n",
    "    species_exp = species_exp.drop(columns=['Unnamed: 0','Length','EffectiveLength','TPM'])\n",
    "    colname = quant.split(\".\")[0]\n",
    "    species_exp = species_exp.rename(index=str, columns={\"NumReads\": colname})\n",
    "    cols = ['Name',colname]\n",
    "    species_exp = species_exp[cols]\n",
    "    species_merged = pd.merge(species_merged,species_exp,how='outer')\n",
    "    print(species_merged.shape)"
   ]
  },
  {
   "cell_type": "code",
   "execution_count": 41,
   "metadata": {},
   "outputs": [
    {
     "data": {
      "text/html": [
       "<div>\n",
       "<style scoped>\n",
       "    .dataframe tbody tr th:only-of-type {\n",
       "        vertical-align: middle;\n",
       "    }\n",
       "\n",
       "    .dataframe tbody tr th {\n",
       "        vertical-align: top;\n",
       "    }\n",
       "\n",
       "    .dataframe thead th {\n",
       "        text-align: right;\n",
       "    }\n",
       "</style>\n",
       "<table border=\"1\" class=\"dataframe\">\n",
       "  <thead>\n",
       "    <tr style=\"text-align: right;\">\n",
       "      <th></th>\n",
       "      <th>F_grandis_transfer_1</th>\n",
       "      <th>F_grandis_FW_1</th>\n",
       "      <th>F_grandis_BW_3</th>\n",
       "      <th>F_grandis_BW_2</th>\n",
       "      <th>F_grandis_transfer_3</th>\n",
       "      <th>F_grandis_transfer_2</th>\n",
       "      <th>F_grandis_BW_1</th>\n",
       "      <th>F_grandis_FW_2</th>\n",
       "      <th>F_grandis_FW_3</th>\n",
       "    </tr>\n",
       "    <tr>\n",
       "      <th>Name</th>\n",
       "      <th></th>\n",
       "      <th></th>\n",
       "      <th></th>\n",
       "      <th></th>\n",
       "      <th></th>\n",
       "      <th></th>\n",
       "      <th></th>\n",
       "      <th></th>\n",
       "      <th></th>\n",
       "    </tr>\n",
       "  </thead>\n",
       "  <tbody>\n",
       "    <tr>\n",
       "      <th>Fgrandis-TRINITY_DN85_c0_g1_i1</th>\n",
       "      <td>0.000</td>\n",
       "      <td>2.000</td>\n",
       "      <td>0.000</td>\n",
       "      <td>0.000</td>\n",
       "      <td>0.000</td>\n",
       "      <td>0.000</td>\n",
       "      <td>1.000</td>\n",
       "      <td>0.000</td>\n",
       "      <td>3.000</td>\n",
       "    </tr>\n",
       "    <tr>\n",
       "      <th>Fgrandis-TRINITY_DN85_c1_g1_i6</th>\n",
       "      <td>0.000</td>\n",
       "      <td>0.000</td>\n",
       "      <td>0.000</td>\n",
       "      <td>0.000</td>\n",
       "      <td>0.000</td>\n",
       "      <td>0.000</td>\n",
       "      <td>0.000</td>\n",
       "      <td>7.699</td>\n",
       "      <td>0.000</td>\n",
       "    </tr>\n",
       "    <tr>\n",
       "      <th>Fgrandis-TRINITY_DN85_c1_g1_i7</th>\n",
       "      <td>27.822</td>\n",
       "      <td>22.913</td>\n",
       "      <td>0.000</td>\n",
       "      <td>5.587</td>\n",
       "      <td>28.101</td>\n",
       "      <td>13.151</td>\n",
       "      <td>167.787</td>\n",
       "      <td>17.078</td>\n",
       "      <td>25.892</td>\n",
       "    </tr>\n",
       "    <tr>\n",
       "      <th>Fgrandis-TRINITY_DN85_c1_g1_i5</th>\n",
       "      <td>0.000</td>\n",
       "      <td>3.632</td>\n",
       "      <td>0.000</td>\n",
       "      <td>0.000</td>\n",
       "      <td>1.090</td>\n",
       "      <td>1.132</td>\n",
       "      <td>5.414</td>\n",
       "      <td>3.439</td>\n",
       "      <td>4.637</td>\n",
       "    </tr>\n",
       "    <tr>\n",
       "      <th>Fgrandis-TRINITY_DN85_c1_g1_i9</th>\n",
       "      <td>13.620</td>\n",
       "      <td>0.000</td>\n",
       "      <td>32.091</td>\n",
       "      <td>0.000</td>\n",
       "      <td>11.686</td>\n",
       "      <td>0.000</td>\n",
       "      <td>0.000</td>\n",
       "      <td>0.000</td>\n",
       "      <td>16.840</td>\n",
       "    </tr>\n",
       "  </tbody>\n",
       "</table>\n",
       "</div>"
      ],
      "text/plain": [
       "                                F_grandis_transfer_1  F_grandis_FW_1  \\\n",
       "Name                                                                   \n",
       "Fgrandis-TRINITY_DN85_c0_g1_i1                 0.000           2.000   \n",
       "Fgrandis-TRINITY_DN85_c1_g1_i6                 0.000           0.000   \n",
       "Fgrandis-TRINITY_DN85_c1_g1_i7                27.822          22.913   \n",
       "Fgrandis-TRINITY_DN85_c1_g1_i5                 0.000           3.632   \n",
       "Fgrandis-TRINITY_DN85_c1_g1_i9                13.620           0.000   \n",
       "\n",
       "                                F_grandis_BW_3  F_grandis_BW_2  \\\n",
       "Name                                                             \n",
       "Fgrandis-TRINITY_DN85_c0_g1_i1           0.000           0.000   \n",
       "Fgrandis-TRINITY_DN85_c1_g1_i6           0.000           0.000   \n",
       "Fgrandis-TRINITY_DN85_c1_g1_i7           0.000           5.587   \n",
       "Fgrandis-TRINITY_DN85_c1_g1_i5           0.000           0.000   \n",
       "Fgrandis-TRINITY_DN85_c1_g1_i9          32.091           0.000   \n",
       "\n",
       "                                F_grandis_transfer_3  F_grandis_transfer_2  \\\n",
       "Name                                                                         \n",
       "Fgrandis-TRINITY_DN85_c0_g1_i1                 0.000                 0.000   \n",
       "Fgrandis-TRINITY_DN85_c1_g1_i6                 0.000                 0.000   \n",
       "Fgrandis-TRINITY_DN85_c1_g1_i7                28.101                13.151   \n",
       "Fgrandis-TRINITY_DN85_c1_g1_i5                 1.090                 1.132   \n",
       "Fgrandis-TRINITY_DN85_c1_g1_i9                11.686                 0.000   \n",
       "\n",
       "                                F_grandis_BW_1  F_grandis_FW_2  F_grandis_FW_3  \n",
       "Name                                                                            \n",
       "Fgrandis-TRINITY_DN85_c0_g1_i1           1.000           0.000           3.000  \n",
       "Fgrandis-TRINITY_DN85_c1_g1_i6           0.000           7.699           0.000  \n",
       "Fgrandis-TRINITY_DN85_c1_g1_i7         167.787          17.078          25.892  \n",
       "Fgrandis-TRINITY_DN85_c1_g1_i5           5.414           3.439           4.637  \n",
       "Fgrandis-TRINITY_DN85_c1_g1_i9           0.000           0.000          16.840  "
      ]
     },
     "execution_count": 41,
     "metadata": {},
     "output_type": "execute_result"
    }
   ],
   "source": [
    "species_merged = species_merged.set_index('Name')\n",
    "species_merged.head()"
   ]
  },
  {
   "cell_type": "code",
   "execution_count": 43,
   "metadata": {},
   "outputs": [],
   "source": [
    "species_merged.to_csv(\"F_grandis.tsv\",sep=\"\\t\")"
   ]
  },
  {
   "cell_type": "markdown",
   "metadata": {},
   "source": [
    "# test code rename contigs"
   ]
  },
  {
   "cell_type": "code",
   "execution_count": 48,
   "metadata": {},
   "outputs": [
    {
     "data": {
      "text/html": [
       "<div>\n",
       "<style scoped>\n",
       "    .dataframe tbody tr th:only-of-type {\n",
       "        vertical-align: middle;\n",
       "    }\n",
       "\n",
       "    .dataframe tbody tr th {\n",
       "        vertical-align: top;\n",
       "    }\n",
       "\n",
       "    .dataframe thead th {\n",
       "        text-align: right;\n",
       "    }\n",
       "</style>\n",
       "<table border=\"1\" class=\"dataframe\">\n",
       "  <thead>\n",
       "    <tr style=\"text-align: right;\">\n",
       "      <th></th>\n",
       "      <th>Name</th>\n",
       "      <th>Length</th>\n",
       "      <th>EffectiveLength</th>\n",
       "      <th>TPM</th>\n",
       "      <th>NumReads</th>\n",
       "    </tr>\n",
       "  </thead>\n",
       "  <tbody>\n",
       "    <tr>\n",
       "      <th>0</th>\n",
       "      <td>TRINITY_DN8_c0_g1_i7</td>\n",
       "      <td>1034</td>\n",
       "      <td>774.91</td>\n",
       "      <td>26.168216</td>\n",
       "      <td>92.852</td>\n",
       "    </tr>\n",
       "    <tr>\n",
       "      <th>1</th>\n",
       "      <td>TRINITY_DN8_c0_g1_i6</td>\n",
       "      <td>1035</td>\n",
       "      <td>775.91</td>\n",
       "      <td>368.774479</td>\n",
       "      <td>1310.196</td>\n",
       "    </tr>\n",
       "    <tr>\n",
       "      <th>2</th>\n",
       "      <td>TRINITY_DN8_c0_g1_i1</td>\n",
       "      <td>3195</td>\n",
       "      <td>2935.91</td>\n",
       "      <td>65.835643</td>\n",
       "      <td>885.050</td>\n",
       "    </tr>\n",
       "    <tr>\n",
       "      <th>3</th>\n",
       "      <td>TRINITY_DN8_c0_g1_i9</td>\n",
       "      <td>2874</td>\n",
       "      <td>2614.91</td>\n",
       "      <td>344.014191</td>\n",
       "      <td>4119.052</td>\n",
       "    </tr>\n",
       "    <tr>\n",
       "      <th>4</th>\n",
       "      <td>TRINITY_DN8_c0_g1_i4</td>\n",
       "      <td>2155</td>\n",
       "      <td>1895.91</td>\n",
       "      <td>96.229381</td>\n",
       "      <td>835.391</td>\n",
       "    </tr>\n",
       "  </tbody>\n",
       "</table>\n",
       "</div>"
      ],
      "text/plain": [
       "                   Name  Length  EffectiveLength         TPM  NumReads\n",
       "0  TRINITY_DN8_c0_g1_i7    1034           774.91   26.168216    92.852\n",
       "1  TRINITY_DN8_c0_g1_i6    1035           775.91  368.774479  1310.196\n",
       "2  TRINITY_DN8_c0_g1_i1    3195          2935.91   65.835643   885.050\n",
       "3  TRINITY_DN8_c0_g1_i9    2874          2614.91  344.014191  4119.052\n",
       "4  TRINITY_DN8_c0_g1_i4    2155          1895.91   96.229381   835.391"
      ]
     },
     "execution_count": 48,
     "metadata": {},
     "output_type": "execute_result"
    }
   ],
   "source": [
    "quant_test = pd.read_csv(\"/Users/johnsolk/Documents/UCDavis/Whitehead/kfish_salmon/kfish_salmon/A_xenica_FW_2.quant/quant.sf\",sep=\"\\t\")\n",
    "quant_test.head()"
   ]
  },
  {
   "cell_type": "markdown",
   "metadata": {},
   "source": [
    "change 'Name' to '`Genusspecies-TRINITY_DNx_ca_gb_ic`'"
   ]
  },
  {
   "cell_type": "code",
   "execution_count": 49,
   "metadata": {},
   "outputs": [],
   "source": [
    "genusspecies = genus_species.split(\"_\")[0] + genus_species.split(\"_\")[1]"
   ]
  },
  {
   "cell_type": "code",
   "execution_count": 50,
   "metadata": {},
   "outputs": [],
   "source": [
    "prefix = genusspecies+\"-\"\n",
    "quant_test['new'] = prefix+quant_test['Name'].astype(str)"
   ]
  },
  {
   "cell_type": "code",
   "execution_count": 51,
   "metadata": {},
   "outputs": [
    {
     "data": {
      "text/html": [
       "<div>\n",
       "<style scoped>\n",
       "    .dataframe tbody tr th:only-of-type {\n",
       "        vertical-align: middle;\n",
       "    }\n",
       "\n",
       "    .dataframe tbody tr th {\n",
       "        vertical-align: top;\n",
       "    }\n",
       "\n",
       "    .dataframe thead th {\n",
       "        text-align: right;\n",
       "    }\n",
       "</style>\n",
       "<table border=\"1\" class=\"dataframe\">\n",
       "  <thead>\n",
       "    <tr style=\"text-align: right;\">\n",
       "      <th></th>\n",
       "      <th>Name</th>\n",
       "      <th>Length</th>\n",
       "      <th>EffectiveLength</th>\n",
       "      <th>TPM</th>\n",
       "      <th>NumReads</th>\n",
       "      <th>new</th>\n",
       "    </tr>\n",
       "  </thead>\n",
       "  <tbody>\n",
       "    <tr>\n",
       "      <th>0</th>\n",
       "      <td>TRINITY_DN8_c0_g1_i7</td>\n",
       "      <td>1034</td>\n",
       "      <td>774.91</td>\n",
       "      <td>26.168216</td>\n",
       "      <td>92.852</td>\n",
       "      <td>Fdiaphanus-TRINITY_DN8_c0_g1_i7</td>\n",
       "    </tr>\n",
       "    <tr>\n",
       "      <th>1</th>\n",
       "      <td>TRINITY_DN8_c0_g1_i6</td>\n",
       "      <td>1035</td>\n",
       "      <td>775.91</td>\n",
       "      <td>368.774479</td>\n",
       "      <td>1310.196</td>\n",
       "      <td>Fdiaphanus-TRINITY_DN8_c0_g1_i6</td>\n",
       "    </tr>\n",
       "    <tr>\n",
       "      <th>2</th>\n",
       "      <td>TRINITY_DN8_c0_g1_i1</td>\n",
       "      <td>3195</td>\n",
       "      <td>2935.91</td>\n",
       "      <td>65.835643</td>\n",
       "      <td>885.050</td>\n",
       "      <td>Fdiaphanus-TRINITY_DN8_c0_g1_i1</td>\n",
       "    </tr>\n",
       "    <tr>\n",
       "      <th>3</th>\n",
       "      <td>TRINITY_DN8_c0_g1_i9</td>\n",
       "      <td>2874</td>\n",
       "      <td>2614.91</td>\n",
       "      <td>344.014191</td>\n",
       "      <td>4119.052</td>\n",
       "      <td>Fdiaphanus-TRINITY_DN8_c0_g1_i9</td>\n",
       "    </tr>\n",
       "    <tr>\n",
       "      <th>4</th>\n",
       "      <td>TRINITY_DN8_c0_g1_i4</td>\n",
       "      <td>2155</td>\n",
       "      <td>1895.91</td>\n",
       "      <td>96.229381</td>\n",
       "      <td>835.391</td>\n",
       "      <td>Fdiaphanus-TRINITY_DN8_c0_g1_i4</td>\n",
       "    </tr>\n",
       "  </tbody>\n",
       "</table>\n",
       "</div>"
      ],
      "text/plain": [
       "                   Name  Length  EffectiveLength         TPM  NumReads  \\\n",
       "0  TRINITY_DN8_c0_g1_i7    1034           774.91   26.168216    92.852   \n",
       "1  TRINITY_DN8_c0_g1_i6    1035           775.91  368.774479  1310.196   \n",
       "2  TRINITY_DN8_c0_g1_i1    3195          2935.91   65.835643   885.050   \n",
       "3  TRINITY_DN8_c0_g1_i9    2874          2614.91  344.014191  4119.052   \n",
       "4  TRINITY_DN8_c0_g1_i4    2155          1895.91   96.229381   835.391   \n",
       "\n",
       "                               new  \n",
       "0  Fdiaphanus-TRINITY_DN8_c0_g1_i7  \n",
       "1  Fdiaphanus-TRINITY_DN8_c0_g1_i6  \n",
       "2  Fdiaphanus-TRINITY_DN8_c0_g1_i1  \n",
       "3  Fdiaphanus-TRINITY_DN8_c0_g1_i9  \n",
       "4  Fdiaphanus-TRINITY_DN8_c0_g1_i4  "
      ]
     },
     "execution_count": 51,
     "metadata": {},
     "output_type": "execute_result"
    }
   ],
   "source": [
    "quant_test.head()"
   ]
  },
  {
   "cell_type": "code",
   "execution_count": 52,
   "metadata": {},
   "outputs": [],
   "source": [
    "quant_test = quant_test.drop(columns=['Name'])"
   ]
  },
  {
   "cell_type": "code",
   "execution_count": 53,
   "metadata": {},
   "outputs": [],
   "source": [
    "quant_test = quant_test.rename(index=str, columns={\"new\": \"Name\", \"Length\": \"Length\",'EffectiveLength':'EffectiveLength','TPM':'TPM','NumReads':'NumReads'})"
   ]
  },
  {
   "cell_type": "code",
   "execution_count": 54,
   "metadata": {},
   "outputs": [
    {
     "data": {
      "text/html": [
       "<div>\n",
       "<style scoped>\n",
       "    .dataframe tbody tr th:only-of-type {\n",
       "        vertical-align: middle;\n",
       "    }\n",
       "\n",
       "    .dataframe tbody tr th {\n",
       "        vertical-align: top;\n",
       "    }\n",
       "\n",
       "    .dataframe thead th {\n",
       "        text-align: right;\n",
       "    }\n",
       "</style>\n",
       "<table border=\"1\" class=\"dataframe\">\n",
       "  <thead>\n",
       "    <tr style=\"text-align: right;\">\n",
       "      <th></th>\n",
       "      <th>Length</th>\n",
       "      <th>EffectiveLength</th>\n",
       "      <th>TPM</th>\n",
       "      <th>NumReads</th>\n",
       "      <th>Name</th>\n",
       "    </tr>\n",
       "  </thead>\n",
       "  <tbody>\n",
       "    <tr>\n",
       "      <th>0</th>\n",
       "      <td>1034</td>\n",
       "      <td>774.91</td>\n",
       "      <td>26.168216</td>\n",
       "      <td>92.852</td>\n",
       "      <td>Fdiaphanus-TRINITY_DN8_c0_g1_i7</td>\n",
       "    </tr>\n",
       "    <tr>\n",
       "      <th>1</th>\n",
       "      <td>1035</td>\n",
       "      <td>775.91</td>\n",
       "      <td>368.774479</td>\n",
       "      <td>1310.196</td>\n",
       "      <td>Fdiaphanus-TRINITY_DN8_c0_g1_i6</td>\n",
       "    </tr>\n",
       "    <tr>\n",
       "      <th>2</th>\n",
       "      <td>3195</td>\n",
       "      <td>2935.91</td>\n",
       "      <td>65.835643</td>\n",
       "      <td>885.050</td>\n",
       "      <td>Fdiaphanus-TRINITY_DN8_c0_g1_i1</td>\n",
       "    </tr>\n",
       "    <tr>\n",
       "      <th>3</th>\n",
       "      <td>2874</td>\n",
       "      <td>2614.91</td>\n",
       "      <td>344.014191</td>\n",
       "      <td>4119.052</td>\n",
       "      <td>Fdiaphanus-TRINITY_DN8_c0_g1_i9</td>\n",
       "    </tr>\n",
       "    <tr>\n",
       "      <th>4</th>\n",
       "      <td>2155</td>\n",
       "      <td>1895.91</td>\n",
       "      <td>96.229381</td>\n",
       "      <td>835.391</td>\n",
       "      <td>Fdiaphanus-TRINITY_DN8_c0_g1_i4</td>\n",
       "    </tr>\n",
       "  </tbody>\n",
       "</table>\n",
       "</div>"
      ],
      "text/plain": [
       "   Length  EffectiveLength         TPM  NumReads  \\\n",
       "0    1034           774.91   26.168216    92.852   \n",
       "1    1035           775.91  368.774479  1310.196   \n",
       "2    3195          2935.91   65.835643   885.050   \n",
       "3    2874          2614.91  344.014191  4119.052   \n",
       "4    2155          1895.91   96.229381   835.391   \n",
       "\n",
       "                              Name  \n",
       "0  Fdiaphanus-TRINITY_DN8_c0_g1_i7  \n",
       "1  Fdiaphanus-TRINITY_DN8_c0_g1_i6  \n",
       "2  Fdiaphanus-TRINITY_DN8_c0_g1_i1  \n",
       "3  Fdiaphanus-TRINITY_DN8_c0_g1_i9  \n",
       "4  Fdiaphanus-TRINITY_DN8_c0_g1_i4  "
      ]
     },
     "execution_count": 54,
     "metadata": {},
     "output_type": "execute_result"
    }
   ],
   "source": [
    "quant_test.head()"
   ]
  },
  {
   "cell_type": "code",
   "execution_count": null,
   "metadata": {},
   "outputs": [],
   "source": []
  }
 ],
 "metadata": {
  "kernelspec": {
   "display_name": "Python 3",
   "language": "python",
   "name": "python3"
  },
  "language_info": {
   "codemirror_mode": {
    "name": "ipython",
    "version": 3
   },
   "file_extension": ".py",
   "mimetype": "text/x-python",
   "name": "python",
   "nbconvert_exporter": "python",
   "pygments_lexer": "ipython3",
   "version": "3.7.1"
  }
 },
 "nbformat": 4,
 "nbformat_minor": 2
}
